{
  "nbformat": 4,
  "nbformat_minor": 0,
  "metadata": {
    "colab": {
      "name": "MMA823_A3_Q3.ipynb",
      "provenance": [],
      "collapsed_sections": [],
      "include_colab_link": true
    },
    "kernelspec": {
      "name": "python3",
      "display_name": "Python 3"
    }
  },
  "cells": [
    {
      "cell_type": "markdown",
      "metadata": {
        "id": "view-in-github",
        "colab_type": "text"
      },
      "source": [
        "<a href=\"https://colab.research.google.com/github/Wangmiaobeng/MMA_Share/blob/master/MMA823_A3_Q3_Michael.ipynb\" target=\"_parent\"><img src=\"https://colab.research.google.com/assets/colab-badge.svg\" alt=\"Open In Colab\"/></a>"
      ]
    },
    {
      "cell_type": "markdown",
      "metadata": {
        "id": "chBP75zzvew6",
        "colab_type": "text"
      },
      "source": [
        "#MMA 823 Assignment 3"
      ]
    },
    {
      "cell_type": "markdown",
      "metadata": {
        "id": "1VnEhMSYvlKt",
        "colab_type": "text"
      },
      "source": [
        "## Import packages"
      ]
    },
    {
      "cell_type": "code",
      "metadata": {
        "id": "dDNNFh9KF6NQ",
        "colab_type": "code",
        "colab": {}
      },
      "source": [
        "import pandas as pd\n",
        "import numpy as np\n",
        "from scipy.stats import kurtosis, skew,variation\n",
        "import statistics \n",
        "\n",
        "from IPython.core.interactiveshell import InteractiveShell\n",
        "InteractiveShell.ast_node_interactivity = \"all\"\n",
        "\n",
        "pd.set_option(\"display.max_colwidth\", 200)\n",
        "pd.options.display.max_columns = None\n"
      ],
      "execution_count": 0,
      "outputs": []
    },
    {
      "cell_type": "markdown",
      "metadata": {
        "id": "g6OKwawVvqbX",
        "colab_type": "text"
      },
      "source": [
        "## Define 3 functions to simulate"
      ]
    },
    {
      "cell_type": "code",
      "metadata": {
        "id": "B6wM6jk4nQg0",
        "colab_type": "code",
        "colab": {}
      },
      "source": [
        "def EWMA_sim(\n",
        "    simulations=50000,\n",
        "    lambda_Q2=0.942285798061926,\n",
        "    days=252,\n",
        "    return_ini=0.003323116,\n",
        "    variance_ini=0.000030328,\n",
        "    mu=0.07,\n",
        "    random_seed=1121,\n",
        "):\n",
        "    \"\"\"simulate using EWMA\"\"\"\n",
        "    np.random.seed(1121)\n",
        "    SP_return = np.full(days, np.nan)\n",
        "    SP_variance = np.full(days, np.nan)\n",
        "    SP_simulations = pd.DataFrame({\"SP_return\": np.full(simulations, np.nan)})\n",
        "    for i in range(simulations):\n",
        "        for k in range(days):\n",
        "            if k == 0:\n",
        "                return_day = return_ini\n",
        "                variance_day = variance_ini\n",
        "            else:\n",
        "                return_day = SP_return[k - 1]\n",
        "                variance_day = SP_variance[k - 1]\n",
        "            SP_variance[k] = (1 - lambda_Q2) * (\n",
        "                return_day ** 2\n",
        "            ) + lambda_Q2 * variance_day\n",
        "            SP_return[k] = np.random.normal(\n",
        "                loc=mu / days, scale=np.sqrt(SP_variance[k]), size=1\n",
        "            )\n",
        "        SP_simulations.SP_return[i] = sum(SP_return)\n",
        "    print(\"kurtosis : {}\".format(kurtosis(SP_simulations.SP_return)))\n",
        "    print(\"skewness : {}\".format(skew(SP_simulations.SP_return)))\n",
        "    print(\"variance : {}\".format(statistics.variance(SP_simulations.SP_return)))\n",
        "    return SP_simulations.hist()\n",
        "\n",
        "\n",
        "def Garch_sim(\n",
        "    simulations=50000,\n",
        "    omega=0.0000049038,\n",
        "    beta=0.738356,\n",
        "    alpha=0.179255,\n",
        "    days=252,\n",
        "    return_ini=0.003323116,\n",
        "    variance_ini=0.000030328,\n",
        "    mu=0.07,\n",
        "    random_seed=1121,\n",
        "):\n",
        "    \"\"\"simulate using Garch\"\"\"\n",
        "    np.random.seed(1121)\n",
        "    SP_return = np.full(days, np.nan)\n",
        "    SP_variance = np.full(days, np.nan)\n",
        "    SP_simulations = pd.DataFrame({\"SP_return\": np.full(simulations, np.nan)})\n",
        "    for i in range(simulations):\n",
        "        for k in range(days):\n",
        "            if k == 0:\n",
        "                return_day = return_ini\n",
        "                variance_day = variance_ini\n",
        "            else:\n",
        "                return_day = SP_return[k - 1]\n",
        "                variance_day = SP_variance[k - 1]\n",
        "            SP_variance[k] = omega + alpha * (return_day ** 2) + beta * variance_day\n",
        "            SP_return[k] = np.random.normal(\n",
        "                loc=mu / days, scale=np.sqrt(SP_variance[k]), size=1\n",
        "            )\n",
        "        SP_simulations.SP_return[i] = sum(SP_return)\n",
        "    print(\"kurtosis : {}\".format(kurtosis(SP_simulations.SP_return)))\n",
        "    print(\"skewness : {}\".format(skew(SP_simulations.SP_return)))\n",
        "    print(\"variance : {}\".format(statistics.variance(SP_simulations.SP_return)))\n",
        "    return SP_simulations.hist()\n",
        "\n",
        "def Asymmetric_Garch_sim(\n",
        "    simulations=50000,\n",
        "    omega=0.0000049038,\n",
        "    beta=0.738356,\n",
        "    alpha=0.179255,\n",
        "    kappa = 0.005967,\n",
        "    days=252,\n",
        "    return_ini=0.003323116,\n",
        "    variance_ini=0.000030328,\n",
        "    mu=0.07,\n",
        "    random_seed=1121,\n",
        "):\n",
        "    \"\"\"simulate using Asymmetric Garch\"\"\"\n",
        "    np.random.seed(1121)\n",
        "    SP_return = np.full(days, np.nan)\n",
        "    SP_variance = np.full(days, np.nan)\n",
        "    SP_simulations = pd.DataFrame({\"SP_return\": np.full(simulations, np.nan)})\n",
        "    for i in range(simulations):\n",
        "        for k in range(days):\n",
        "            if k == 0:\n",
        "                return_day = return_ini\n",
        "                variance_day = variance_ini\n",
        "            else:\n",
        "                return_day = SP_return[k - 1]\n",
        "                variance_day = SP_variance[k - 1]\n",
        "            SP_variance[k] = omega + alpha * ((return_day - kappa) ** 2) + beta * variance_day\n",
        "            SP_return[k] = np.random.normal(\n",
        "                loc=mu / days, scale=np.sqrt(SP_variance[k]), size=1\n",
        "            )\n",
        "        SP_simulations.SP_return[i] = sum(SP_return)\n",
        "    print(\"kurtosis : {}\".format(kurtosis(SP_simulations.SP_return)))\n",
        "    print(\"skewness : {}\".format(skew(SP_simulations.SP_return)))\n",
        "    print(\"variance : {}\".format(statistics.variance(SP_simulations.SP_return)))\n",
        "    return SP_simulations.hist()"
      ],
      "execution_count": 0,
      "outputs": []
    },
    {
      "cell_type": "markdown",
      "metadata": {
        "id": "azvpns-ew1lG",
        "colab_type": "text"
      },
      "source": [
        "## Check the results"
      ]
    },
    {
      "cell_type": "code",
      "metadata": {
        "id": "XQ33h5Ruq63u",
        "colab_type": "code",
        "outputId": "4601def4-958b-415a-8052-1a99414ce729",
        "colab": {
          "base_uri": "https://localhost:8080/",
          "height": 371
        }
      },
      "source": [
        "EWMA_sim()"
      ],
      "execution_count": 85,
      "outputs": [
        {
          "output_type": "stream",
          "text": [
            "kurtosis : 2.82721779709183\n",
            "skewness : 0.17091592671773623\n",
            "variance : 0.007508955468771462\n"
          ],
          "name": "stdout"
        },
        {
          "output_type": "execute_result",
          "data": {
            "text/plain": [
              "array([[<matplotlib.axes._subplots.AxesSubplot object at 0x7fc50aa66358>]],\n",
              "      dtype=object)"
            ]
          },
          "metadata": {
            "tags": []
          },
          "execution_count": 85
        },
        {
          "output_type": "display_data",
          "data": {
            "image/png": "[encoded data removed]",
            "text/plain": [
              "<Figure size 432x288 with 1 Axes>"
            ]
          },
          "metadata": {
            "tags": []
          }
        }
      ]
    },
    {
      "cell_type": "code",
      "metadata": {
        "id": "Renn3-3Xrgle",
        "colab_type": "code",
        "colab": {
          "base_uri": "https://localhost:8080/",
          "height": 371
        },
        "outputId": "e096922d-7d51-4163-af09-cc03691732f1"
      },
      "source": [
        "Garch_sim()"
      ],
      "execution_count": 86,
      "outputs": [
        {
          "output_type": "stream",
          "text": [
            "kurtosis : 0.3158850078941513\n",
            "skewness : 0.0317751376938357\n",
            "variance : 0.014815984633736146\n"
          ],
          "name": "stdout"
        },
        {
          "output_type": "execute_result",
          "data": {
            "text/plain": [
              "array([[<matplotlib.axes._subplots.AxesSubplot object at 0x7fc50aa66c50>]],\n",
              "      dtype=object)"
            ]
          },
          "metadata": {
            "tags": []
          },
          "execution_count": 86
        },
        {
          "output_type": "display_data",
          "data": {
            "image/png": "[encoded data removed]",
            "text/plain": [
              "<Figure size 432x288 with 1 Axes>"
            ]
          },
          "metadata": {
            "tags": []
          }
        }
      ]
    },
    {
      "cell_type": "code",
      "metadata": {
        "id": "HlTWekPFrghq",
        "colab_type": "code",
        "outputId": "5fbf0c94-4d84-4eac-a535-ab41e018875e",
        "colab": {
          "base_uri": "https://localhost:8080/",
          "height": 371
        }
      },
      "source": [
        "Asymmetric_Garch_sim()"
      ],
      "execution_count": 87,
      "outputs": [
        {
          "output_type": "stream",
          "text": [
            "kurtosis : 0.710328162168754\n",
            "skewness : -0.41176595965227236\n",
            "variance : 0.03186381873374462\n"
          ],
          "name": "stdout"
        },
        {
          "output_type": "execute_result",
          "data": {
            "text/plain": [
              "array([[<matplotlib.axes._subplots.AxesSubplot object at 0x7fc50a9c1518>]],\n",
              "      dtype=object)"
            ]
          },
          "metadata": {
            "tags": []
          },
          "execution_count": 87
        },
        {
          "output_type": "display_data",
          "data": {
            "image/png": "[encoded data removed]",
            "text/plain": [
              "<Figure size 432x288 with 1 Axes>"
            ]
          },
          "metadata": {
            "tags": []
          }
        }
      ]
    }
  ]
}