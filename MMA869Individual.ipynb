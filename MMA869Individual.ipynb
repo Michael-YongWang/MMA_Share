{
  "nbformat": 4,
  "nbformat_minor": 0,
  "metadata": {
    "colab": {
      "name": "MMA869Individual.ipynb",
      "provenance": [],
      "collapsed_sections": [
        "jWrF8JKjqwyI",
        "cjFJVCNCCFQw",
        "bxCIODszDgD6",
        "_t1gF0wpEYlk",
        "2XvegYU-B3vR",
        "TQGiVm-REnN9",
        "4L20ng-KEygU",
        "kFzF0WwcFHks",
        "jvS5a5EbFRFl",
        "hPo-xc01FVF8",
        "sBV5pMwzFab0",
        "qxtZ9JBoGCr8",
        "c1eou23rJq20",
        "uWymD5u7J0rd",
        "VHzMFoFemPA5",
        "RBaR0lVsmdHQ",
        "JpM5b3iZmkDg",
        "9fT1WYN0mzdg",
        "RoKXEsQUsjrH",
        "wfZK3HmlnRcW",
        "nRbWM2g6nlUX",
        "GOXblC_nnwUx",
        "mGpOpHg8n9nA",
        "p2N1rEz73K2O",
        "40M-E1EyvRnN",
        "umOTMtAECu3G",
        "s61gsWx25g8Y",
        "GYPN1day5vAQ",
        "Yvm8tdZm6fZH",
        "9ww-6PLIp4c5"
      ],
      "include_colab_link": true
    },
    "kernelspec": {
      "name": "python3",
      "display_name": "Python 3"
    },
    "accelerator": "TPU"
  },
  "cells": [
    {
      "cell_type": "markdown",
      "metadata": {
        "id": "view-in-github",
        "colab_type": "text"
      },
      "source": [
        "<a href=\"https://colab.research.google.com/github/Wangmiaobeng/MMA_Share/blob/master/MMA869Individual.ipynb\" target=\"_parent\"><img src=\"https://colab.research.google.com/assets/colab-badge.svg\" alt=\"Open In Colab\"/></a>"
      ]
    },
    {
      "cell_type": "markdown",
      "metadata": {
        "id": "jWrF8JKjqwyI",
        "colab_type": "text"
      },
      "source": [
        "# MMA 869\n",
        "* **Machine Learning and AI**\n",
        "* **Dr. Stephen W. Thomas**\n",
        "* **Individual Assignment 1**\n"
      ]
    },
    {
      "cell_type": "markdown",
      "metadata": {
        "id": "cjFJVCNCCFQw",
        "colab_type": "text"
      },
      "source": [
        "# 1.\tHOW LOVELY!\n",
        "\n"
      ]
    },
    {
      "cell_type": "markdown",
      "metadata": {
        "id": "kTznUTFVq8Zf",
        "colab_type": "text"
      },
      "source": [
        "[For this question, please answer the parts below in English, and also turn in your code. Your code should be submitted as a notebook – either a Python Jupyter Notebook (.ipynb) or an R Markdown file (.Rmd), along with a PDF rendering of the notebook. Make your code completely reproducible. E.g., set random number seeds.]\n",
        "You work at a local jewelry store. You’ve recently been promoted and the store owner asked you to better understand your customers. Using some sneaky magic (and the help of Environics!), you’ve managed to collect some useful features for a subset of your customers: age, income, spending score, and savings. Use these to segment your customers and create customer personas."
      ]
    },
    {
      "cell_type": "markdown",
      "metadata": {
        "id": "4uyvTH12HGek",
        "colab_type": "text"
      },
      "source": [
        "## 1.1 Coding Part (You can skip this and check the answers below)"
      ]
    },
    {
      "cell_type": "markdown",
      "metadata": {
        "id": "bxCIODszDgD6",
        "colab_type": "text"
      },
      "source": [
        "#### Import Packages"
      ]
    },
    {
      "cell_type": "code",
      "metadata": {
        "id": "WXTVW1RKBKHJ",
        "colab_type": "code",
        "colab": {}
      },
      "source": [
        "import pandas as pd\n",
        "import numpy as np\n",
        "from IPython.core.interactiveshell import InteractiveShell\n",
        "\n",
        "import matplotlib as mpl\n",
        "import matplotlib.pyplot as plt\n",
        "\n",
        "from sklearn.metrics import silhouette_score, silhouette_samples\n",
        "import sklearn.metrics\n",
        "from sklearn.preprocessing import StandardScaler\n",
        "from sklearn.cluster import KMeans, DBSCAN, AgglomerativeClustering\n",
        "from sklearn.mixture import GaussianMixture\n",
        "\n",
        "from yellowbrick.cluster import (\n",
        "    SilhouetteVisualizer,\n",
        "    InterclusterDistance,\n",
        "    KElbowVisualizer,\n",
        ")\n",
        "\n",
        "import itertools\n",
        "\n",
        "import scipy\n",
        "\n",
        "import pandas_profiling\n",
        "\n",
        "# The following is just to change the display settings.\n",
        "InteractiveShell.ast_node_interactivity = \"all\"\n",
        "pd.set_option(\"display.max_colwidth\", 200)\n",
        "pd.options.display.max_columns = None\n",
        "\n",
        "%matplotlib inline\n"
      ],
      "execution_count": 0,
      "outputs": []
    },
    {
      "cell_type": "code",
      "metadata": {
        "id": "pjbJBCgBpXsc",
        "colab_type": "code",
        "outputId": "2676df49-2469-4152-e1f6-8831b5f593b9",
        "colab": {
          "base_uri": "https://localhost:8080/"
        }
      },
      "source": [
        "from google.colab import drive\n",
        "drive.mount('/content/drive')"
      ],
      "execution_count": 0,
      "outputs": [
        {
          "output_type": "stream",
          "text": [
            "Drive already mounted at /content/drive; to attempt to forcibly remount, call drive.mount(\"/content/drive\", force_remount=True).\n"
          ],
          "name": "stdout"
        }
      ]
    },
    {
      "cell_type": "markdown",
      "metadata": {
        "id": "_t1gF0wpEYlk",
        "colab_type": "text"
      },
      "source": [
        "#### Load data"
      ]
    },
    {
      "cell_type": "code",
      "metadata": {
        "id": "8rwdWl4UBUM3",
        "colab_type": "code",
        "colab": {}
      },
      "source": [
        "df = pd.read_csv(\"/content/drive/My Drive/MMA/MMA869/jewelry_customers.csv\")"
      ],
      "execution_count": 0,
      "outputs": []
    },
    {
      "cell_type": "code",
      "metadata": {
        "id": "NK01fk9pBbyM",
        "colab_type": "code",
        "outputId": "8f95b760-f54a-4f6a-bc44-e111bf679aa8",
        "colab": {
          "base_uri": "https://localhost:8080/"
        }
      },
      "source": [
        "df.head()\n",
        "df.info()"
      ],
      "execution_count": 0,
      "outputs": [
        {
          "output_type": "execute_result",
          "data": {
            "text/html": [
              "<div>\n",
              "<style scoped>\n",
              "    .dataframe tbody tr th:only-of-type {\n",
              "        vertical-align: middle;\n",
              "    }\n",
              "\n",
              "    .dataframe tbody tr th {\n",
              "        vertical-align: top;\n",
              "    }\n",
              "\n",
              "    .dataframe thead th {\n",
              "        text-align: right;\n",
              "    }\n",
              "</style>\n",
              "<table border=\"1\" class=\"dataframe\">\n",
              "  <thead>\n",
              "    <tr style=\"text-align: right;\">\n",
              "      <th></th>\n",
              "      <th>Age</th>\n",
              "      <th>Income</th>\n",
              "      <th>SpendingScore</th>\n",
              "      <th>Savings</th>\n",
              "    </tr>\n",
              "  </thead>\n",
              "  <tbody>\n",
              "    <tr>\n",
              "      <th>0</th>\n",
              "      <td>58</td>\n",
              "      <td>77769</td>\n",
              "      <td>0.791329</td>\n",
              "      <td>6559.829923</td>\n",
              "    </tr>\n",
              "    <tr>\n",
              "      <th>1</th>\n",
              "      <td>59</td>\n",
              "      <td>81799</td>\n",
              "      <td>0.791082</td>\n",
              "      <td>5417.661426</td>\n",
              "    </tr>\n",
              "    <tr>\n",
              "      <th>2</th>\n",
              "      <td>62</td>\n",
              "      <td>74751</td>\n",
              "      <td>0.702657</td>\n",
              "      <td>9258.992965</td>\n",
              "    </tr>\n",
              "    <tr>\n",
              "      <th>3</th>\n",
              "      <td>59</td>\n",
              "      <td>74373</td>\n",
              "      <td>0.765680</td>\n",
              "      <td>7346.334504</td>\n",
              "    </tr>\n",
              "    <tr>\n",
              "      <th>4</th>\n",
              "      <td>87</td>\n",
              "      <td>17760</td>\n",
              "      <td>0.348778</td>\n",
              "      <td>16869.507130</td>\n",
              "    </tr>\n",
              "  </tbody>\n",
              "</table>\n",
              "</div>"
            ],
            "text/plain": [
              "   Age  Income  SpendingScore       Savings\n",
              "0   58   77769       0.791329   6559.829923\n",
              "1   59   81799       0.791082   5417.661426\n",
              "2   62   74751       0.702657   9258.992965\n",
              "3   59   74373       0.765680   7346.334504\n",
              "4   87   17760       0.348778  16869.507130"
            ]
          },
          "metadata": {
            "tags": []
          },
          "execution_count": 4
        },
        {
          "output_type": "stream",
          "text": [
            "<class 'pandas.core.frame.DataFrame'>\n",
            "RangeIndex: 505 entries, 0 to 504\n",
            "Data columns (total 4 columns):\n",
            "Age              505 non-null int64\n",
            "Income           505 non-null int64\n",
            "SpendingScore    505 non-null float64\n",
            "Savings          505 non-null float64\n",
            "dtypes: float64(2), int64(2)\n",
            "memory usage: 15.9 KB\n"
          ],
          "name": "stdout"
        }
      ]
    },
    {
      "cell_type": "code",
      "metadata": {
        "id": "VrvpihmcBn1k",
        "colab_type": "code",
        "outputId": "b2940a49-1c7b-444e-ad7e-b2af43e2e0fb",
        "colab": {
          "base_uri": "https://localhost:8080/"
        }
      },
      "source": [
        "X = df.copy()\n",
        "scaler = StandardScaler()\n",
        "X[list(X)] = scaler.fit_transform(X[list(X)])\n",
        "X.head()"
      ],
      "execution_count": 0,
      "outputs": [
        {
          "output_type": "execute_result",
          "data": {
            "text/html": [
              "<div>\n",
              "<style scoped>\n",
              "    .dataframe tbody tr th:only-of-type {\n",
              "        vertical-align: middle;\n",
              "    }\n",
              "\n",
              "    .dataframe tbody tr th {\n",
              "        vertical-align: top;\n",
              "    }\n",
              "\n",
              "    .dataframe thead th {\n",
              "        text-align: right;\n",
              "    }\n",
              "</style>\n",
              "<table border=\"1\" class=\"dataframe\">\n",
              "  <thead>\n",
              "    <tr style=\"text-align: right;\">\n",
              "      <th></th>\n",
              "      <th>Age</th>\n",
              "      <th>Income</th>\n",
              "      <th>SpendingScore</th>\n",
              "      <th>Savings</th>\n",
              "    </tr>\n",
              "  </thead>\n",
              "  <tbody>\n",
              "    <tr>\n",
              "      <th>0</th>\n",
              "      <td>-0.042287</td>\n",
              "      <td>0.062733</td>\n",
              "      <td>1.103593</td>\n",
              "      <td>-1.072467</td>\n",
              "    </tr>\n",
              "    <tr>\n",
              "      <th>1</th>\n",
              "      <td>-0.000821</td>\n",
              "      <td>0.174811</td>\n",
              "      <td>1.102641</td>\n",
              "      <td>-1.303473</td>\n",
              "    </tr>\n",
              "    <tr>\n",
              "      <th>2</th>\n",
              "      <td>0.123577</td>\n",
              "      <td>-0.021200</td>\n",
              "      <td>0.761727</td>\n",
              "      <td>-0.526556</td>\n",
              "    </tr>\n",
              "    <tr>\n",
              "      <th>3</th>\n",
              "      <td>-0.000821</td>\n",
              "      <td>-0.031712</td>\n",
              "      <td>1.004705</td>\n",
              "      <td>-0.913395</td>\n",
              "    </tr>\n",
              "    <tr>\n",
              "      <th>4</th>\n",
              "      <td>1.160228</td>\n",
              "      <td>-1.606165</td>\n",
              "      <td>-0.602619</td>\n",
              "      <td>1.012686</td>\n",
              "    </tr>\n",
              "  </tbody>\n",
              "</table>\n",
              "</div>"
            ],
            "text/plain": [
              "        Age    Income  SpendingScore   Savings\n",
              "0 -0.042287  0.062733       1.103593 -1.072467\n",
              "1 -0.000821  0.174811       1.102641 -1.303473\n",
              "2  0.123577 -0.021200       0.761727 -0.526556\n",
              "3 -0.000821 -0.031712       1.004705 -0.913395\n",
              "4  1.160228 -1.606165      -0.602619  1.012686"
            ]
          },
          "metadata": {
            "tags": []
          },
          "execution_count": 5
        }
      ]
    },
    {
      "cell_type": "markdown",
      "metadata": {
        "id": "2XvegYU-B3vR",
        "colab_type": "text"
      },
      "source": [
        "#### Normalize data"
      ]
    },
    {
      "cell_type": "code",
      "metadata": {
        "id": "TIzFXXrHEjrc",
        "colab_type": "code",
        "outputId": "f61d6772-a9c4-4e5d-926f-3ddceef721ee",
        "colab": {
          "base_uri": "https://localhost:8080/"
        }
      },
      "source": [
        "X = df.copy()\n",
        "scaler = StandardScaler()\n",
        "X[list(X)] = scaler.fit_transform(X[list(X)])\n",
        "X.head()"
      ],
      "execution_count": 0,
      "outputs": [
        {
          "output_type": "execute_result",
          "data": {
            "text/html": [
              "<div>\n",
              "<style scoped>\n",
              "    .dataframe tbody tr th:only-of-type {\n",
              "        vertical-align: middle;\n",
              "    }\n",
              "\n",
              "    .dataframe tbody tr th {\n",
              "        vertical-align: top;\n",
              "    }\n",
              "\n",
              "    .dataframe thead th {\n",
              "        text-align: right;\n",
              "    }\n",
              "</style>\n",
              "<table border=\"1\" class=\"dataframe\">\n",
              "  <thead>\n",
              "    <tr style=\"text-align: right;\">\n",
              "      <th></th>\n",
              "      <th>Age</th>\n",
              "      <th>Income</th>\n",
              "      <th>SpendingScore</th>\n",
              "      <th>Savings</th>\n",
              "    </tr>\n",
              "  </thead>\n",
              "  <tbody>\n",
              "    <tr>\n",
              "      <th>0</th>\n",
              "      <td>-0.042287</td>\n",
              "      <td>0.062733</td>\n",
              "      <td>1.103593</td>\n",
              "      <td>-1.072467</td>\n",
              "    </tr>\n",
              "    <tr>\n",
              "      <th>1</th>\n",
              "      <td>-0.000821</td>\n",
              "      <td>0.174811</td>\n",
              "      <td>1.102641</td>\n",
              "      <td>-1.303473</td>\n",
              "    </tr>\n",
              "    <tr>\n",
              "      <th>2</th>\n",
              "      <td>0.123577</td>\n",
              "      <td>-0.021200</td>\n",
              "      <td>0.761727</td>\n",
              "      <td>-0.526556</td>\n",
              "    </tr>\n",
              "    <tr>\n",
              "      <th>3</th>\n",
              "      <td>-0.000821</td>\n",
              "      <td>-0.031712</td>\n",
              "      <td>1.004705</td>\n",
              "      <td>-0.913395</td>\n",
              "    </tr>\n",
              "    <tr>\n",
              "      <th>4</th>\n",
              "      <td>1.160228</td>\n",
              "      <td>-1.606165</td>\n",
              "      <td>-0.602619</td>\n",
              "      <td>1.012686</td>\n",
              "    </tr>\n",
              "  </tbody>\n",
              "</table>\n",
              "</div>"
            ],
            "text/plain": [
              "        Age    Income  SpendingScore   Savings\n",
              "0 -0.042287  0.062733       1.103593 -1.072467\n",
              "1 -0.000821  0.174811       1.102641 -1.303473\n",
              "2  0.123577 -0.021200       0.761727 -0.526556\n",
              "3 -0.000821 -0.031712       1.004705 -0.913395\n",
              "4  1.160228 -1.606165      -0.602619  1.012686"
            ]
          },
          "metadata": {
            "tags": []
          },
          "execution_count": 6
        }
      ]
    },
    {
      "cell_type": "markdown",
      "metadata": {
        "id": "TQGiVm-REnN9",
        "colab_type": "text"
      },
      "source": [
        "#### Elbow Method\n",
        "##### find the bestfi k for k-means\n",
        "I first use Elbow method to find the best k (the number of clusters). According to the plots below, 5 is the best cluster number in this case. Here is the reason:\n",
        "\n",
        "In Silhouette score elbow for Kmeans Clustering, when k is 5, we got the highest Silhouette score, which means that, at this point, the cluster is farthest away from the closest neighbouring cluster. So, 5 is the best k number."
      ]
    },
    {
      "cell_type": "code",
      "metadata": {
        "id": "vmupUvrpEtd9",
        "colab_type": "code",
        "outputId": "5238e334-11f3-4f7c-af09-56b3f5830fb0",
        "colab": {
          "base_uri": "https://localhost:8080/"
        }
      },
      "source": [
        "model = KMeans(init=\"k-means++\", random_state=23)\n",
        "KElbowVisualizer(model, k=(2, 11), metric=\"silhouette\", timings=False).fit(X).poof()"
      ],
      "execution_count": 0,
      "outputs": [
        {
          "output_type": "display_data",
          "data": {
            "image/png": "[encoded data removed]",
            "text/plain": [
              "<Figure size 432x288 with 1 Axes>"
            ]
          },
          "metadata": {
            "tags": []
          }
        }
      ]
    },
    {
      "cell_type": "markdown",
      "metadata": {
        "id": "4L20ng-KEygU",
        "colab_type": "text"
      },
      "source": [
        "***According to the plos above, 5 is the best cluster number***\n",
        "#### Try differnet k with Internal Validation Metrics\n",
        "I use a for loop to try different k value (from 2 to 10)\n",
        "Based on InterclusterDistance plot, we can find that 5 is the best clustering number. There is no overlapping between each two circles. Besides the distance between each others looks good."
      ]
    },
    {
      "cell_type": "code",
      "metadata": {
        "id": "zczBjroeE288",
        "colab_type": "code",
        "outputId": "6059ea4a-7c7b-4538-8aed-3549d745eaff",
        "colab": {
          "base_uri": "https://localhost:8080/"
        }
      },
      "source": [
        "for i in range(2, 11):\n",
        "    kmeans = KMeans(init=\"k-means++\", n_clusters=i, random_state=23)\n",
        "    kmeans.fit(X)\n",
        "\n",
        "    visualizer = SilhouetteVisualizer(kmeans)\n",
        "    visualizer.fit(X)\n",
        "    visualizer.poof()\n",
        "\n",
        "    # Instantiate the clustering model and visualizer\n",
        "    visualizer = InterclusterDistance(kmeans, random_state=40)\n",
        "    visualizer.fit(X)  # Fit the training data to the visualizer\n",
        "    visualizer.poof()  # Draw/show/poof the data"
      ],
      "execution_count": 0,
      "outputs": [
        {
          "output_type": "execute_result",
          "data": {
            "text/plain": [
              "KMeans(algorithm='auto', copy_x=True, init='k-means++', max_iter=300,\n",
              "       n_clusters=2, n_init=10, n_jobs=None, precompute_distances='auto',\n",
              "       random_state=23, tol=0.0001, verbose=0)"
            ]
          },
          "metadata": {
            "tags": []
          },
          "execution_count": 8
        },
        {
          "output_type": "execute_result",
          "data": {
            "text/plain": [
              "SilhouetteVisualizer(ax=<matplotlib.axes._subplots.AxesSubplot object at 0x7fa97de65b00>,\n",
              "                     model=None)"
            ]
          },
          "metadata": {
            "tags": []
          },
          "execution_count": 8
        },
        {
          "output_type": "display_data",
          "data": {
            "image/png": "[encoded data removed]",
            "text/plain": [
              "<Figure size 432x288 with 1 Axes>"
            ]
          },
          "metadata": {
            "tags": []
          }
        },
        {
          "output_type": "execute_result",
          "data": {
            "text/plain": [
              "InterclusterDistance(ax=<matplotlib.axes._subplots.AxesSubplot object at 0x7fa97ddfa7b8>,\n",
              "                     embedding='mds', legend=True, legend_loc='lower left',\n",
              "                     legend_size=1.5, max_size=25000, min_size=400, model=None,\n",
              "                     random_state=40, scoring='membership')"
            ]
          },
          "metadata": {
            "tags": []
          },
          "execution_count": 8
        },
        {
          "output_type": "display_data",
          "data": {
            "image/png": "[encoded data removed]",
            "text/plain": [
              "<Figure size 432x288 with 2 Axes>"
            ]
          },
          "metadata": {
            "tags": []
          }
        },
        {
          "output_type": "execute_result",
          "data": {
            "text/plain": [
              "KMeans(algorithm='auto', copy_x=True, init='k-means++', max_iter=300,\n",
              "       n_clusters=3, n_init=10, n_jobs=None, precompute_distances='auto',\n",
              "       random_state=23, tol=0.0001, verbose=0)"
            ]
          },
          "metadata": {
            "tags": []
          },
          "execution_count": 8
        },
        {
          "output_type": "execute_result",
          "data": {
            "text/plain": [
              "SilhouetteVisualizer(ax=<matplotlib.axes._subplots.AxesSubplot object at 0x7fa97dcf7a20>,\n",
              "                     model=None)"
            ]
          },
          "metadata": {
            "tags": []
          },
          "execution_count": 8
        },
        {
          "output_type": "display_data",
          "data": {
            "image/png": "[encoded data removed]",
            "text/plain": [
              "<Figure size 432x288 with 1 Axes>"
            ]
          },
          "metadata": {
            "tags": []
          }
        },
        {
          "output_type": "execute_result",
          "data": {
            "text/plain": [
              "InterclusterDistance(ax=<matplotlib.axes._subplots.AxesSubplot object at 0x7fa97dcdb7b8>,\n",
              "                     embedding='mds', legend=True, legend_loc='lower left',\n",
              "                     legend_size=1.5, max_size=25000, min_size=400, model=None,\n",
              "                     random_state=40, scoring='membership')"
            ]
          },
          "metadata": {
            "tags": []
          },
          "execution_count": 8
        },
        {
          "output_type": "display_data",
          "data": {
            "image/png": "[encoded data removed]",
            "text/plain": [
              "<Figure size 432x288 with 2 Axes>"
            ]
          },
          "metadata": {
            "tags": []
          }
        },
        {
          "output_type": "execute_result",
          "data": {
            "text/plain": [
              "KMeans(algorithm='auto', copy_x=True, init='k-means++', max_iter=300,\n",
              "       n_clusters=4, n_init=10, n_jobs=None, precompute_distances='auto',\n",
              "       random_state=23, tol=0.0001, verbose=0)"
            ]
          },
          "metadata": {
            "tags": []
          },
          "execution_count": 8
        },
        {
          "output_type": "execute_result",
          "data": {
            "text/plain": [
              "SilhouetteVisualizer(ax=<matplotlib.axes._subplots.AxesSubplot object at 0x7fa97dc4f780>,\n",
              "                     model=None)"
            ]
          },
          "metadata": {
            "tags": []
          },
          "execution_count": 8
        },
        {
          "output_type": "display_data",
          "data": {
            "image/png": "[encoded data removed]",
            "text/plain": [
              "<Figure size 432x288 with 1 Axes>"
            ]
          },
          "metadata": {
            "tags": []
          }
        },
        {
          "output_type": "stream",
          "text": [
            "/usr/local/lib/python3.6/dist-packages/sklearn/manifold/mds.py:421: UserWarning: The MDS API has changed. ``fit`` now constructs an dissimilarity matrix from data. To use a custom dissimilarity matrix, set ``dissimilarity='precomputed'``.\n",
            "  warnings.warn(\"The MDS API has changed. ``fit`` now constructs an\"\n"
          ],
          "name": "stderr"
        },
        {
          "output_type": "execute_result",
          "data": {
            "text/plain": [
              "InterclusterDistance(ax=<matplotlib.axes._subplots.AxesSubplot object at 0x7fa97dc44630>,\n",
              "                     embedding='mds', legend=True, legend_loc='lower left',\n",
              "                     legend_size=1.5, max_size=25000, min_size=400, model=None,\n",
              "                     random_state=40, scoring='membership')"
            ]
          },
          "metadata": {
            "tags": []
          },
          "execution_count": 8
        },
        {
          "output_type": "display_data",
          "data": {
            "image/png": "[encoded data removed]",
            "text/plain": [
              "<Figure size 432x288 with 2 Axes>"
            ]
          },
          "metadata": {
            "tags": []
          }
        },
        {
          "output_type": "execute_result",
          "data": {
            "text/plain": [
              "KMeans(algorithm='auto', copy_x=True, init='k-means++', max_iter=300,\n",
              "       n_clusters=5, n_init=10, n_jobs=None, precompute_distances='auto',\n",
              "       random_state=23, tol=0.0001, verbose=0)"
            ]
          },
          "metadata": {
            "tags": []
          },
          "execution_count": 8
        },
        {
          "output_type": "execute_result",
          "data": {
            "text/plain": [
              "SilhouetteVisualizer(ax=<matplotlib.axes._subplots.AxesSubplot object at 0x7fa97db3de80>,\n",
              "                     model=None)"
            ]
          },
          "metadata": {
            "tags": []
          },
          "execution_count": 8
        },
        {
          "output_type": "display_data",
          "data": {
            "image/png": "[encoded data removed]",
            "text/plain": [
              "<Figure size 432x288 with 1 Axes>"
            ]
          },
          "metadata": {
            "tags": []
          }
        },
        {
          "output_type": "execute_result",
          "data": {
            "text/plain": [
              "InterclusterDistance(ax=<matplotlib.axes._subplots.AxesSubplot object at 0x7fa97dbbaac8>,\n",
              "                     embedding='mds', legend=True, legend_loc='lower left',\n",
              "                     legend_size=1.5, max_size=25000, min_size=400, model=None,\n",
              "                     random_state=40, scoring='membership')"
            ]
          },
          "metadata": {
            "tags": []
          },
          "execution_count": 8
        },
        {
          "output_type": "display_data",
          "data": {
            "image/png": "[encoded data removed]",
            "text/plain": [
              "<Figure size 432x288 with 2 Axes>"
            ]
          },
          "metadata": {
            "tags": []
          }
        },
        {
          "output_type": "execute_result",
          "data": {
            "text/plain": [
              "KMeans(algorithm='auto', copy_x=True, init='k-means++', max_iter=300,\n",
              "       n_clusters=6, n_init=10, n_jobs=None, precompute_distances='auto',\n",
              "       random_state=23, tol=0.0001, verbose=0)"
            ]
          },
          "metadata": {
            "tags": []
          },
          "execution_count": 8
        },
        {
          "output_type": "execute_result",
          "data": {
            "text/plain": [
              "SilhouetteVisualizer(ax=<matplotlib.axes._subplots.AxesSubplot object at 0x7fa97da9ae10>,\n",
              "                     model=None)"
            ]
          },
          "metadata": {
            "tags": []
          },
          "execution_count": 8
        },
        {
          "output_type": "display_data",
          "data": {
            "image/png": "[encoded data removed]",
            "text/plain": [
              "<Figure size 432x288 with 1 Axes>"
            ]
          },
          "metadata": {
            "tags": []
          }
        },
        {
          "output_type": "execute_result",
          "data": {
            "text/plain": [
              "InterclusterDistance(ax=<matplotlib.axes._subplots.AxesSubplot object at 0x7fa97da05550>,\n",
              "                     embedding='mds', legend=True, legend_loc='lower left',\n",
              "                     legend_size=1.5, max_size=25000, min_size=400, model=None,\n",
              "                     random_state=40, scoring='membership')"
            ]
          },
          "metadata": {
            "tags": []
          },
          "execution_count": 8
        },
        {
          "output_type": "display_data",
          "data": {
            "image/png": "[encoded data removed]",
            "text/plain": [
              "<Figure size 432x288 with 2 Axes>"
            ]
          },
          "metadata": {
            "tags": []
          }
        },
        {
          "output_type": "execute_result",
          "data": {
            "text/plain": [
              "KMeans(algorithm='auto', copy_x=True, init='k-means++', max_iter=300,\n",
              "       n_clusters=7, n_init=10, n_jobs=None, precompute_distances='auto',\n",
              "       random_state=23, tol=0.0001, verbose=0)"
            ]
          },
          "metadata": {
            "tags": []
          },
          "execution_count": 8
        },
        {
          "output_type": "execute_result",
          "data": {
            "text/plain": [
              "SilhouetteVisualizer(ax=<matplotlib.axes._subplots.AxesSubplot object at 0x7fa97d987b70>,\n",
              "                     model=None)"
            ]
          },
          "metadata": {
            "tags": []
          },
          "execution_count": 8
        },
        {
          "output_type": "display_data",
          "data": {
            "image/png": "[encoded data removed]",
            "text/plain": [
              "<Figure size 432x288 with 1 Axes>"
            ]
          },
          "metadata": {
            "tags": []
          }
        },
        {
          "output_type": "execute_result",
          "data": {
            "text/plain": [
              "InterclusterDistance(ax=<matplotlib.axes._subplots.AxesSubplot object at 0x7fa97d8f51d0>,\n",
              "                     embedding='mds', legend=True, legend_loc='lower left',\n",
              "                     legend_size=1.5, max_size=25000, min_size=400, model=None,\n",
              "                     random_state=40, scoring='membership')"
            ]
          },
          "metadata": {
            "tags": []
          },
          "execution_count": 8
        },
        {
          "output_type": "display_data",
          "data": {
            "image/png": "[encoded data removed]",
            "text/plain": [
              "<Figure size 432x288 with 2 Axes>"
            ]
          },
          "metadata": {
            "tags": []
          }
        },
        {
          "output_type": "execute_result",
          "data": {
            "text/plain": [
              "KMeans(algorithm='auto', copy_x=True, init='k-means++', max_iter=300,\n",
              "       n_clusters=8, n_init=10, n_jobs=None, precompute_distances='auto',\n",
              "       random_state=23, tol=0.0001, verbose=0)"
            ]
          },
          "metadata": {
            "tags": []
          },
          "execution_count": 8
        },
        {
          "output_type": "execute_result",
          "data": {
            "text/plain": [
              "SilhouetteVisualizer(ax=<matplotlib.axes._subplots.AxesSubplot object at 0x7fa97d876f28>,\n",
              "                     model=None)"
            ]
          },
          "metadata": {
            "tags": []
          },
          "execution_count": 8
        },
        {
          "output_type": "display_data",
          "data": {
            "image/png": "[encoded data removed]",
            "text/plain": [
              "<Figure size 432x288 with 1 Axes>"
            ]
          },
          "metadata": {
            "tags": []
          }
        },
        {
          "output_type": "execute_result",
          "data": {
            "text/plain": [
              "InterclusterDistance(ax=<matplotlib.axes._subplots.AxesSubplot object at 0x7fa97d8eb320>,\n",
              "                     embedding='mds', legend=True, legend_loc='lower left',\n",
              "                     legend_size=1.5, max_size=25000, min_size=400, model=None,\n",
              "                     random_state=40, scoring='membership')"
            ]
          },
          "metadata": {
            "tags": []
          },
          "execution_count": 8
        },
        {
          "output_type": "display_data",
          "data": {
            "image/png": "[encoded data removed]",
            "text/plain": [
              "<Figure size 432x288 with 2 Axes>"
            ]
          },
          "metadata": {
            "tags": []
          }
        },
        {
          "output_type": "execute_result",
          "data": {
            "text/plain": [
              "KMeans(algorithm='auto', copy_x=True, init='k-means++', max_iter=300,\n",
              "       n_clusters=9, n_init=10, n_jobs=None, precompute_distances='auto',\n",
              "       random_state=23, tol=0.0001, verbose=0)"
            ]
          },
          "metadata": {
            "tags": []
          },
          "execution_count": 8
        },
        {
          "output_type": "execute_result",
          "data": {
            "text/plain": [
              "SilhouetteVisualizer(ax=<matplotlib.axes._subplots.AxesSubplot object at 0x7fa97de4eef0>,\n",
              "                     model=None)"
            ]
          },
          "metadata": {
            "tags": []
          },
          "execution_count": 8
        },
        {
          "output_type": "display_data",
          "data": {
            "image/png": "[encoded data removed]",
            "text/plain": [
              "<Figure size 432x288 with 1 Axes>"
            ]
          },
          "metadata": {
            "tags": []
          }
        },
        {
          "output_type": "execute_result",
          "data": {
            "text/plain": [
              "InterclusterDistance(ax=<matplotlib.axes._subplots.AxesSubplot object at 0x7fa97de64748>,\n",
              "                     embedding='mds', legend=True, legend_loc='lower left',\n",
              "                     legend_size=1.5, max_size=25000, min_size=400, model=None,\n",
              "                     random_state=40, scoring='membership')"
            ]
          },
          "metadata": {
            "tags": []
          },
          "execution_count": 8
        },
        {
          "output_type": "display_data",
          "data": {
            "image/png": "[encoded data removed]",
            "text/plain": [
              "<Figure size 432x288 with 2 Axes>"
            ]
          },
          "metadata": {
            "tags": []
          }
        },
        {
          "output_type": "execute_result",
          "data": {
            "text/plain": [
              "KMeans(algorithm='auto', copy_x=True, init='k-means++', max_iter=300,\n",
              "       n_clusters=10, n_init=10, n_jobs=None, precompute_distances='auto',\n",
              "       random_state=23, tol=0.0001, verbose=0)"
            ]
          },
          "metadata": {
            "tags": []
          },
          "execution_count": 8
        },
        {
          "output_type": "execute_result",
          "data": {
            "text/plain": [
              "SilhouetteVisualizer(ax=<matplotlib.axes._subplots.AxesSubplot object at 0x7fa97d9feeb8>,\n",
              "                     model=None)"
            ]
          },
          "metadata": {
            "tags": []
          },
          "execution_count": 8
        },
        {
          "output_type": "display_data",
          "data": {
            "image/png": "[encoded data removed]",
            "text/plain": [
              "<Figure size 432x288 with 1 Axes>"
            ]
          },
          "metadata": {
            "tags": []
          }
        },
        {
          "output_type": "execute_result",
          "data": {
            "text/plain": [
              "InterclusterDistance(ax=<matplotlib.axes._subplots.AxesSubplot object at 0x7fa97d9fe320>,\n",
              "                     embedding='mds', legend=True, legend_loc='lower left',\n",
              "                     legend_size=1.5, max_size=25000, min_size=400, model=None,\n",
              "                     random_state=40, scoring='membership')"
            ]
          },
          "metadata": {
            "tags": []
          },
          "execution_count": 8
        },
        {
          "output_type": "display_data",
          "data": {
            "image/png": "[encoded data removed]",
            "text/plain": [
              "<Figure size 432x288 with 2 Axes>"
            ]
          },
          "metadata": {
            "tags": []
          }
        }
      ]
    },
    {
      "cell_type": "markdown",
      "metadata": {
        "id": "THNu6P_gE6bE",
        "colab_type": "text"
      },
      "source": [
        "***According to the plots above, 5 is the best clustering number***"
      ]
    },
    {
      "cell_type": "markdown",
      "metadata": {
        "id": "kFzF0WwcFHks",
        "colab_type": "text"
      },
      "source": [
        "#### K-Means"
      ]
    },
    {
      "cell_type": "code",
      "metadata": {
        "id": "1SRtG368FM9U",
        "colab_type": "code",
        "outputId": "f1051f96-e048-4bdb-e6be-5a5802cace4c",
        "colab": {
          "base_uri": "https://localhost:8080/"
        }
      },
      "source": [
        "k_means = KMeans(init=\"k-means++\", n_clusters=5, random_state=23)\n",
        "k_means.fit(X)"
      ],
      "execution_count": 0,
      "outputs": [
        {
          "output_type": "execute_result",
          "data": {
            "text/plain": [
              "KMeans(algorithm='auto', copy_x=True, init='k-means++', max_iter=300,\n",
              "       n_clusters=5, n_init=10, n_jobs=None, precompute_distances='auto',\n",
              "       random_state=23, tol=0.0001, verbose=0)"
            ]
          },
          "metadata": {
            "tags": []
          },
          "execution_count": 9
        }
      ]
    },
    {
      "cell_type": "code",
      "metadata": {
        "id": "UrydEqHqFOWc",
        "colab_type": "code",
        "outputId": "9470cf1b-2b3a-4afc-8223-0ba80e9b91c4",
        "colab": {
          "base_uri": "https://localhost:8080/"
        }
      },
      "source": [
        "result = df.copy()\n",
        "result[\"group\"] = k_means.labels_\n",
        "result.head()"
      ],
      "execution_count": 0,
      "outputs": [
        {
          "output_type": "execute_result",
          "data": {
            "text/html": [
              "<div>\n",
              "<style scoped>\n",
              "    .dataframe tbody tr th:only-of-type {\n",
              "        vertical-align: middle;\n",
              "    }\n",
              "\n",
              "    .dataframe tbody tr th {\n",
              "        vertical-align: top;\n",
              "    }\n",
              "\n",
              "    .dataframe thead th {\n",
              "        text-align: right;\n",
              "    }\n",
              "</style>\n",
              "<table border=\"1\" class=\"dataframe\">\n",
              "  <thead>\n",
              "    <tr style=\"text-align: right;\">\n",
              "      <th></th>\n",
              "      <th>Age</th>\n",
              "      <th>Income</th>\n",
              "      <th>SpendingScore</th>\n",
              "      <th>Savings</th>\n",
              "      <th>group</th>\n",
              "    </tr>\n",
              "  </thead>\n",
              "  <tbody>\n",
              "    <tr>\n",
              "      <th>0</th>\n",
              "      <td>58</td>\n",
              "      <td>77769</td>\n",
              "      <td>0.791329</td>\n",
              "      <td>6559.829923</td>\n",
              "      <td>1</td>\n",
              "    </tr>\n",
              "    <tr>\n",
              "      <th>1</th>\n",
              "      <td>59</td>\n",
              "      <td>81799</td>\n",
              "      <td>0.791082</td>\n",
              "      <td>5417.661426</td>\n",
              "      <td>1</td>\n",
              "    </tr>\n",
              "    <tr>\n",
              "      <th>2</th>\n",
              "      <td>62</td>\n",
              "      <td>74751</td>\n",
              "      <td>0.702657</td>\n",
              "      <td>9258.992965</td>\n",
              "      <td>1</td>\n",
              "    </tr>\n",
              "    <tr>\n",
              "      <th>3</th>\n",
              "      <td>59</td>\n",
              "      <td>74373</td>\n",
              "      <td>0.765680</td>\n",
              "      <td>7346.334504</td>\n",
              "      <td>1</td>\n",
              "    </tr>\n",
              "    <tr>\n",
              "      <th>4</th>\n",
              "      <td>87</td>\n",
              "      <td>17760</td>\n",
              "      <td>0.348778</td>\n",
              "      <td>16869.507130</td>\n",
              "      <td>0</td>\n",
              "    </tr>\n",
              "  </tbody>\n",
              "</table>\n",
              "</div>"
            ],
            "text/plain": [
              "   Age  Income  SpendingScore       Savings  group\n",
              "0   58   77769       0.791329   6559.829923      1\n",
              "1   59   81799       0.791082   5417.661426      1\n",
              "2   62   74751       0.702657   9258.992965      1\n",
              "3   59   74373       0.765680   7346.334504      1\n",
              "4   87   17760       0.348778  16869.507130      0"
            ]
          },
          "metadata": {
            "tags": []
          },
          "execution_count": 10
        }
      ]
    },
    {
      "cell_type": "code",
      "metadata": {
        "id": "UrvzPtJqFPo0",
        "colab_type": "code",
        "outputId": "f51dca97-db1b-4523-d896-a425606abc83",
        "colab": {
          "base_uri": "https://localhost:8080/"
        }
      },
      "source": [
        "for label in result.group.unique():\n",
        "    print(\"\\nCluster {}:\".format(label))\n",
        "    result[result.group == label].head()"
      ],
      "execution_count": 0,
      "outputs": [
        {
          "output_type": "stream",
          "text": [
            "\n",
            "Cluster 1:\n"
          ],
          "name": "stdout"
        },
        {
          "output_type": "execute_result",
          "data": {
            "text/html": [
              "<div>\n",
              "<style scoped>\n",
              "    .dataframe tbody tr th:only-of-type {\n",
              "        vertical-align: middle;\n",
              "    }\n",
              "\n",
              "    .dataframe tbody tr th {\n",
              "        vertical-align: top;\n",
              "    }\n",
              "\n",
              "    .dataframe thead th {\n",
              "        text-align: right;\n",
              "    }\n",
              "</style>\n",
              "<table border=\"1\" class=\"dataframe\">\n",
              "  <thead>\n",
              "    <tr style=\"text-align: right;\">\n",
              "      <th></th>\n",
              "      <th>Age</th>\n",
              "      <th>Income</th>\n",
              "      <th>SpendingScore</th>\n",
              "      <th>Savings</th>\n",
              "      <th>group</th>\n",
              "    </tr>\n",
              "  </thead>\n",
              "  <tbody>\n",
              "    <tr>\n",
              "      <th>0</th>\n",
              "      <td>58</td>\n",
              "      <td>77769</td>\n",
              "      <td>0.791329</td>\n",
              "      <td>6559.829923</td>\n",
              "      <td>1</td>\n",
              "    </tr>\n",
              "    <tr>\n",
              "      <th>1</th>\n",
              "      <td>59</td>\n",
              "      <td>81799</td>\n",
              "      <td>0.791082</td>\n",
              "      <td>5417.661426</td>\n",
              "      <td>1</td>\n",
              "    </tr>\n",
              "    <tr>\n",
              "      <th>2</th>\n",
              "      <td>62</td>\n",
              "      <td>74751</td>\n",
              "      <td>0.702657</td>\n",
              "      <td>9258.992965</td>\n",
              "      <td>1</td>\n",
              "    </tr>\n",
              "    <tr>\n",
              "      <th>3</th>\n",
              "      <td>59</td>\n",
              "      <td>74373</td>\n",
              "      <td>0.765680</td>\n",
              "      <td>7346.334504</td>\n",
              "      <td>1</td>\n",
              "    </tr>\n",
              "    <tr>\n",
              "      <th>6</th>\n",
              "      <td>54</td>\n",
              "      <td>76500</td>\n",
              "      <td>0.785198</td>\n",
              "      <td>6878.884249</td>\n",
              "      <td>1</td>\n",
              "    </tr>\n",
              "  </tbody>\n",
              "</table>\n",
              "</div>"
            ],
            "text/plain": [
              "   Age  Income  SpendingScore      Savings  group\n",
              "0   58   77769       0.791329  6559.829923      1\n",
              "1   59   81799       0.791082  5417.661426      1\n",
              "2   62   74751       0.702657  9258.992965      1\n",
              "3   59   74373       0.765680  7346.334504      1\n",
              "6   54   76500       0.785198  6878.884249      1"
            ]
          },
          "metadata": {
            "tags": []
          },
          "execution_count": 11
        },
        {
          "output_type": "stream",
          "text": [
            "\n",
            "Cluster 0:\n"
          ],
          "name": "stdout"
        },
        {
          "output_type": "execute_result",
          "data": {
            "text/html": [
              "<div>\n",
              "<style scoped>\n",
              "    .dataframe tbody tr th:only-of-type {\n",
              "        vertical-align: middle;\n",
              "    }\n",
              "\n",
              "    .dataframe tbody tr th {\n",
              "        vertical-align: top;\n",
              "    }\n",
              "\n",
              "    .dataframe thead th {\n",
              "        text-align: right;\n",
              "    }\n",
              "</style>\n",
              "<table border=\"1\" class=\"dataframe\">\n",
              "  <thead>\n",
              "    <tr style=\"text-align: right;\">\n",
              "      <th></th>\n",
              "      <th>Age</th>\n",
              "      <th>Income</th>\n",
              "      <th>SpendingScore</th>\n",
              "      <th>Savings</th>\n",
              "      <th>group</th>\n",
              "    </tr>\n",
              "  </thead>\n",
              "  <tbody>\n",
              "    <tr>\n",
              "      <th>4</th>\n",
              "      <td>87</td>\n",
              "      <td>17760</td>\n",
              "      <td>0.348778</td>\n",
              "      <td>16869.507130</td>\n",
              "      <td>0</td>\n",
              "    </tr>\n",
              "    <tr>\n",
              "      <th>7</th>\n",
              "      <td>87</td>\n",
              "      <td>42592</td>\n",
              "      <td>0.355290</td>\n",
              "      <td>18086.287158</td>\n",
              "      <td>0</td>\n",
              "    </tr>\n",
              "    <tr>\n",
              "      <th>8</th>\n",
              "      <td>83</td>\n",
              "      <td>34384</td>\n",
              "      <td>0.324719</td>\n",
              "      <td>14783.379086</td>\n",
              "      <td>0</td>\n",
              "    </tr>\n",
              "    <tr>\n",
              "      <th>9</th>\n",
              "      <td>84</td>\n",
              "      <td>27693</td>\n",
              "      <td>0.367063</td>\n",
              "      <td>17879.558906</td>\n",
              "      <td>0</td>\n",
              "    </tr>\n",
              "    <tr>\n",
              "      <th>17</th>\n",
              "      <td>87</td>\n",
              "      <td>31481</td>\n",
              "      <td>0.317424</td>\n",
              "      <td>16180.688082</td>\n",
              "      <td>0</td>\n",
              "    </tr>\n",
              "  </tbody>\n",
              "</table>\n",
              "</div>"
            ],
            "text/plain": [
              "    Age  Income  SpendingScore       Savings  group\n",
              "4    87   17760       0.348778  16869.507130      0\n",
              "7    87   42592       0.355290  18086.287158      0\n",
              "8    83   34384       0.324719  14783.379086      0\n",
              "9    84   27693       0.367063  17879.558906      0\n",
              "17   87   31481       0.317424  16180.688082      0"
            ]
          },
          "metadata": {
            "tags": []
          },
          "execution_count": 11
        },
        {
          "output_type": "stream",
          "text": [
            "\n",
            "Cluster 3:\n"
          ],
          "name": "stdout"
        },
        {
          "output_type": "execute_result",
          "data": {
            "text/html": [
              "<div>\n",
              "<style scoped>\n",
              "    .dataframe tbody tr th:only-of-type {\n",
              "        vertical-align: middle;\n",
              "    }\n",
              "\n",
              "    .dataframe tbody tr th {\n",
              "        vertical-align: top;\n",
              "    }\n",
              "\n",
              "    .dataframe thead th {\n",
              "        text-align: right;\n",
              "    }\n",
              "</style>\n",
              "<table border=\"1\" class=\"dataframe\">\n",
              "  <thead>\n",
              "    <tr style=\"text-align: right;\">\n",
              "      <th></th>\n",
              "      <th>Age</th>\n",
              "      <th>Income</th>\n",
              "      <th>SpendingScore</th>\n",
              "      <th>Savings</th>\n",
              "      <th>group</th>\n",
              "    </tr>\n",
              "  </thead>\n",
              "  <tbody>\n",
              "    <tr>\n",
              "      <th>5</th>\n",
              "      <td>29</td>\n",
              "      <td>131578</td>\n",
              "      <td>0.847034</td>\n",
              "      <td>3535.514352</td>\n",
              "      <td>3</td>\n",
              "    </tr>\n",
              "    <tr>\n",
              "      <th>25</th>\n",
              "      <td>30</td>\n",
              "      <td>122788</td>\n",
              "      <td>0.872872</td>\n",
              "      <td>5706.149573</td>\n",
              "      <td>3</td>\n",
              "    </tr>\n",
              "    <tr>\n",
              "      <th>26</th>\n",
              "      <td>17</td>\n",
              "      <td>134966</td>\n",
              "      <td>0.907242</td>\n",
              "      <td>4128.044796</td>\n",
              "      <td>3</td>\n",
              "    </tr>\n",
              "    <tr>\n",
              "      <th>42</th>\n",
              "      <td>20</td>\n",
              "      <td>129142</td>\n",
              "      <td>0.887052</td>\n",
              "      <td>5603.121028</td>\n",
              "      <td>3</td>\n",
              "    </tr>\n",
              "    <tr>\n",
              "      <th>45</th>\n",
              "      <td>18</td>\n",
              "      <td>130813</td>\n",
              "      <td>0.890891</td>\n",
              "      <td>5256.434560</td>\n",
              "      <td>3</td>\n",
              "    </tr>\n",
              "  </tbody>\n",
              "</table>\n",
              "</div>"
            ],
            "text/plain": [
              "    Age  Income  SpendingScore      Savings  group\n",
              "5    29  131578       0.847034  3535.514352      3\n",
              "25   30  122788       0.872872  5706.149573      3\n",
              "26   17  134966       0.907242  4128.044796      3\n",
              "42   20  129142       0.887052  5603.121028      3\n",
              "45   18  130813       0.890891  5256.434560      3"
            ]
          },
          "metadata": {
            "tags": []
          },
          "execution_count": 11
        },
        {
          "output_type": "stream",
          "text": [
            "\n",
            "Cluster 4:\n"
          ],
          "name": "stdout"
        },
        {
          "output_type": "execute_result",
          "data": {
            "text/html": [
              "<div>\n",
              "<style scoped>\n",
              "    .dataframe tbody tr th:only-of-type {\n",
              "        vertical-align: middle;\n",
              "    }\n",
              "\n",
              "    .dataframe tbody tr th {\n",
              "        vertical-align: top;\n",
              "    }\n",
              "\n",
              "    .dataframe thead th {\n",
              "        text-align: right;\n",
              "    }\n",
              "</style>\n",
              "<table border=\"1\" class=\"dataframe\">\n",
              "  <thead>\n",
              "    <tr style=\"text-align: right;\">\n",
              "      <th></th>\n",
              "      <th>Age</th>\n",
              "      <th>Income</th>\n",
              "      <th>SpendingScore</th>\n",
              "      <th>Savings</th>\n",
              "      <th>group</th>\n",
              "    </tr>\n",
              "  </thead>\n",
              "  <tbody>\n",
              "    <tr>\n",
              "      <th>10</th>\n",
              "      <td>85</td>\n",
              "      <td>111389</td>\n",
              "      <td>0.036795</td>\n",
              "      <td>16009.237763</td>\n",
              "      <td>4</td>\n",
              "    </tr>\n",
              "    <tr>\n",
              "      <th>15</th>\n",
              "      <td>92</td>\n",
              "      <td>122879</td>\n",
              "      <td>0.060724</td>\n",
              "      <td>13709.670275</td>\n",
              "      <td>4</td>\n",
              "    </tr>\n",
              "    <tr>\n",
              "      <th>19</th>\n",
              "      <td>88</td>\n",
              "      <td>120678</td>\n",
              "      <td>0.063273</td>\n",
              "      <td>14264.473847</td>\n",
              "      <td>4</td>\n",
              "    </tr>\n",
              "    <tr>\n",
              "      <th>21</th>\n",
              "      <td>84</td>\n",
              "      <td>122696</td>\n",
              "      <td>0.082187</td>\n",
              "      <td>13809.734087</td>\n",
              "      <td>4</td>\n",
              "    </tr>\n",
              "    <tr>\n",
              "      <th>24</th>\n",
              "      <td>89</td>\n",
              "      <td>119697</td>\n",
              "      <td>0.091679</td>\n",
              "      <td>16215.399077</td>\n",
              "      <td>4</td>\n",
              "    </tr>\n",
              "  </tbody>\n",
              "</table>\n",
              "</div>"
            ],
            "text/plain": [
              "    Age  Income  SpendingScore       Savings  group\n",
              "10   85  111389       0.036795  16009.237763      4\n",
              "15   92  122879       0.060724  13709.670275      4\n",
              "19   88  120678       0.063273  14264.473847      4\n",
              "21   84  122696       0.082187  13809.734087      4\n",
              "24   89  119697       0.091679  16215.399077      4"
            ]
          },
          "metadata": {
            "tags": []
          },
          "execution_count": 11
        },
        {
          "output_type": "stream",
          "text": [
            "\n",
            "Cluster 2:\n"
          ],
          "name": "stdout"
        },
        {
          "output_type": "execute_result",
          "data": {
            "text/html": [
              "<div>\n",
              "<style scoped>\n",
              "    .dataframe tbody tr th:only-of-type {\n",
              "        vertical-align: middle;\n",
              "    }\n",
              "\n",
              "    .dataframe tbody tr th {\n",
              "        vertical-align: top;\n",
              "    }\n",
              "\n",
              "    .dataframe thead th {\n",
              "        text-align: right;\n",
              "    }\n",
              "</style>\n",
              "<table border=\"1\" class=\"dataframe\">\n",
              "  <thead>\n",
              "    <tr style=\"text-align: right;\">\n",
              "      <th></th>\n",
              "      <th>Age</th>\n",
              "      <th>Income</th>\n",
              "      <th>SpendingScore</th>\n",
              "      <th>Savings</th>\n",
              "      <th>group</th>\n",
              "    </tr>\n",
              "  </thead>\n",
              "  <tbody>\n",
              "    <tr>\n",
              "      <th>11</th>\n",
              "      <td>36</td>\n",
              "      <td>99780</td>\n",
              "      <td>0.265433</td>\n",
              "      <td>16398.401333</td>\n",
              "      <td>2</td>\n",
              "    </tr>\n",
              "    <tr>\n",
              "      <th>12</th>\n",
              "      <td>30</td>\n",
              "      <td>99949</td>\n",
              "      <td>0.344679</td>\n",
              "      <td>13621.639726</td>\n",
              "      <td>2</td>\n",
              "    </tr>\n",
              "    <tr>\n",
              "      <th>13</th>\n",
              "      <td>31</td>\n",
              "      <td>107963</td>\n",
              "      <td>0.290509</td>\n",
              "      <td>13407.081391</td>\n",
              "      <td>2</td>\n",
              "    </tr>\n",
              "    <tr>\n",
              "      <th>20</th>\n",
              "      <td>30</td>\n",
              "      <td>101073</td>\n",
              "      <td>0.314387</td>\n",
              "      <td>14324.555977</td>\n",
              "      <td>2</td>\n",
              "    </tr>\n",
              "    <tr>\n",
              "      <th>34</th>\n",
              "      <td>33</td>\n",
              "      <td>101058</td>\n",
              "      <td>0.315082</td>\n",
              "      <td>14911.868398</td>\n",
              "      <td>2</td>\n",
              "    </tr>\n",
              "  </tbody>\n",
              "</table>\n",
              "</div>"
            ],
            "text/plain": [
              "    Age  Income  SpendingScore       Savings  group\n",
              "11   36   99780       0.265433  16398.401333      2\n",
              "12   30   99949       0.344679  13621.639726      2\n",
              "13   31  107963       0.290509  13407.081391      2\n",
              "20   30  101073       0.314387  14324.555977      2\n",
              "34   33  101058       0.315082  14911.868398      2"
            ]
          },
          "metadata": {
            "tags": []
          },
          "execution_count": 11
        }
      ]
    },
    {
      "cell_type": "markdown",
      "metadata": {
        "id": "jvS5a5EbFRFl",
        "colab_type": "text"
      },
      "source": [
        "#### Find Examplars\n",
        "find the observation that is closest to the cluster center"
      ]
    },
    {
      "cell_type": "code",
      "metadata": {
        "id": "XMRaf3eKFTo7",
        "colab_type": "code",
        "outputId": "05f64e31-1355-4885-89c0-b475a6b9cbed",
        "colab": {
          "base_uri": "https://localhost:8080/"
        }
      },
      "source": [
        "from scipy.spatial import distance\n",
        "\n",
        "for i, label in enumerate(set(k_means.labels_)):\n",
        "    X_tmp = df[k_means.labels_ == label].copy()\n",
        "\n",
        "    exemplar_idx = distance.cdist([k_means.cluster_centers_[i]], X_tmp).argmin()\n",
        "    exemplar = pd.DataFrame(X_tmp.iloc[exemplar_idx])\n",
        "\n",
        "    print(\"\\nCluster {}:\".format(label))\n",
        "    exemplar"
      ],
      "execution_count": 0,
      "outputs": [
        {
          "output_type": "stream",
          "text": [
            "\n",
            "Cluster 0:\n"
          ],
          "name": "stdout"
        },
        {
          "output_type": "execute_result",
          "data": {
            "text/html": [
              "<div>\n",
              "<style scoped>\n",
              "    .dataframe tbody tr th:only-of-type {\n",
              "        vertical-align: middle;\n",
              "    }\n",
              "\n",
              "    .dataframe tbody tr th {\n",
              "        vertical-align: top;\n",
              "    }\n",
              "\n",
              "    .dataframe thead th {\n",
              "        text-align: right;\n",
              "    }\n",
              "</style>\n",
              "<table border=\"1\" class=\"dataframe\">\n",
              "  <thead>\n",
              "    <tr style=\"text-align: right;\">\n",
              "      <th></th>\n",
              "      <th>320</th>\n",
              "    </tr>\n",
              "  </thead>\n",
              "  <tbody>\n",
              "    <tr>\n",
              "      <th>Age</th>\n",
              "      <td>87.000000</td>\n",
              "    </tr>\n",
              "    <tr>\n",
              "      <th>Income</th>\n",
              "      <td>12000.000000</td>\n",
              "    </tr>\n",
              "    <tr>\n",
              "      <th>SpendingScore</th>\n",
              "      <td>0.342991</td>\n",
              "    </tr>\n",
              "    <tr>\n",
              "      <th>Savings</th>\n",
              "      <td>16180.265252</td>\n",
              "    </tr>\n",
              "  </tbody>\n",
              "</table>\n",
              "</div>"
            ],
            "text/plain": [
              "                        320\n",
              "Age               87.000000\n",
              "Income         12000.000000\n",
              "SpendingScore      0.342991\n",
              "Savings        16180.265252"
            ]
          },
          "metadata": {
            "tags": []
          },
          "execution_count": 12
        },
        {
          "output_type": "stream",
          "text": [
            "\n",
            "Cluster 1:\n"
          ],
          "name": "stdout"
        },
        {
          "output_type": "execute_result",
          "data": {
            "text/html": [
              "<div>\n",
              "<style scoped>\n",
              "    .dataframe tbody tr th:only-of-type {\n",
              "        vertical-align: middle;\n",
              "    }\n",
              "\n",
              "    .dataframe tbody tr th {\n",
              "        vertical-align: top;\n",
              "    }\n",
              "\n",
              "    .dataframe thead th {\n",
              "        text-align: right;\n",
              "    }\n",
              "</style>\n",
              "<table border=\"1\" class=\"dataframe\">\n",
              "  <thead>\n",
              "    <tr style=\"text-align: right;\">\n",
              "      <th></th>\n",
              "      <th>278</th>\n",
              "    </tr>\n",
              "  </thead>\n",
              "  <tbody>\n",
              "    <tr>\n",
              "      <th>Age</th>\n",
              "      <td>59.000000</td>\n",
              "    </tr>\n",
              "    <tr>\n",
              "      <th>Income</th>\n",
              "      <td>56321.000000</td>\n",
              "    </tr>\n",
              "    <tr>\n",
              "      <th>SpendingScore</th>\n",
              "      <td>0.806566</td>\n",
              "    </tr>\n",
              "    <tr>\n",
              "      <th>Savings</th>\n",
              "      <td>6129.288986</td>\n",
              "    </tr>\n",
              "  </tbody>\n",
              "</table>\n",
              "</div>"
            ],
            "text/plain": [
              "                        278\n",
              "Age               59.000000\n",
              "Income         56321.000000\n",
              "SpendingScore      0.806566\n",
              "Savings         6129.288986"
            ]
          },
          "metadata": {
            "tags": []
          },
          "execution_count": 12
        },
        {
          "output_type": "stream",
          "text": [
            "\n",
            "Cluster 2:\n"
          ],
          "name": "stdout"
        },
        {
          "output_type": "execute_result",
          "data": {
            "text/html": [
              "<div>\n",
              "<style scoped>\n",
              "    .dataframe tbody tr th:only-of-type {\n",
              "        vertical-align: middle;\n",
              "    }\n",
              "\n",
              "    .dataframe tbody tr th {\n",
              "        vertical-align: top;\n",
              "    }\n",
              "\n",
              "    .dataframe thead th {\n",
              "        text-align: right;\n",
              "    }\n",
              "</style>\n",
              "<table border=\"1\" class=\"dataframe\">\n",
              "  <thead>\n",
              "    <tr style=\"text-align: right;\">\n",
              "      <th></th>\n",
              "      <th>339</th>\n",
              "    </tr>\n",
              "  </thead>\n",
              "  <tbody>\n",
              "    <tr>\n",
              "      <th>Age</th>\n",
              "      <td>34.000000</td>\n",
              "    </tr>\n",
              "    <tr>\n",
              "      <th>Income</th>\n",
              "      <td>89598.000000</td>\n",
              "    </tr>\n",
              "    <tr>\n",
              "      <th>SpendingScore</th>\n",
              "      <td>0.340152</td>\n",
              "    </tr>\n",
              "    <tr>\n",
              "      <th>Savings</th>\n",
              "      <td>12832.768721</td>\n",
              "    </tr>\n",
              "  </tbody>\n",
              "</table>\n",
              "</div>"
            ],
            "text/plain": [
              "                        339\n",
              "Age               34.000000\n",
              "Income         89598.000000\n",
              "SpendingScore      0.340152\n",
              "Savings        12832.768721"
            ]
          },
          "metadata": {
            "tags": []
          },
          "execution_count": 12
        },
        {
          "output_type": "stream",
          "text": [
            "\n",
            "Cluster 3:\n"
          ],
          "name": "stdout"
        },
        {
          "output_type": "execute_result",
          "data": {
            "text/html": [
              "<div>\n",
              "<style scoped>\n",
              "    .dataframe tbody tr th:only-of-type {\n",
              "        vertical-align: middle;\n",
              "    }\n",
              "\n",
              "    .dataframe tbody tr th {\n",
              "        vertical-align: top;\n",
              "    }\n",
              "\n",
              "    .dataframe thead th {\n",
              "        text-align: right;\n",
              "    }\n",
              "</style>\n",
              "<table border=\"1\" class=\"dataframe\">\n",
              "  <thead>\n",
              "    <tr style=\"text-align: right;\">\n",
              "      <th></th>\n",
              "      <th>360</th>\n",
              "    </tr>\n",
              "  </thead>\n",
              "  <tbody>\n",
              "    <tr>\n",
              "      <th>Age</th>\n",
              "      <td>28.000000</td>\n",
              "    </tr>\n",
              "    <tr>\n",
              "      <th>Income</th>\n",
              "      <td>117108.000000</td>\n",
              "    </tr>\n",
              "    <tr>\n",
              "      <th>SpendingScore</th>\n",
              "      <td>0.857078</td>\n",
              "    </tr>\n",
              "    <tr>\n",
              "      <th>Savings</th>\n",
              "      <td>4749.879237</td>\n",
              "    </tr>\n",
              "  </tbody>\n",
              "</table>\n",
              "</div>"
            ],
            "text/plain": [
              "                         360\n",
              "Age                28.000000\n",
              "Income         117108.000000\n",
              "SpendingScore       0.857078\n",
              "Savings          4749.879237"
            ]
          },
          "metadata": {
            "tags": []
          },
          "execution_count": 12
        },
        {
          "output_type": "stream",
          "text": [
            "\n",
            "Cluster 4:\n"
          ],
          "name": "stdout"
        },
        {
          "output_type": "execute_result",
          "data": {
            "text/html": [
              "<div>\n",
              "<style scoped>\n",
              "    .dataframe tbody tr th:only-of-type {\n",
              "        vertical-align: middle;\n",
              "    }\n",
              "\n",
              "    .dataframe tbody tr th {\n",
              "        vertical-align: top;\n",
              "    }\n",
              "\n",
              "    .dataframe thead th {\n",
              "        text-align: right;\n",
              "    }\n",
              "</style>\n",
              "<table border=\"1\" class=\"dataframe\">\n",
              "  <thead>\n",
              "    <tr style=\"text-align: right;\">\n",
              "      <th></th>\n",
              "      <th>368</th>\n",
              "    </tr>\n",
              "  </thead>\n",
              "  <tbody>\n",
              "    <tr>\n",
              "      <th>Age</th>\n",
              "      <td>84.000000</td>\n",
              "    </tr>\n",
              "    <tr>\n",
              "      <th>Income</th>\n",
              "      <td>110582.000000</td>\n",
              "    </tr>\n",
              "    <tr>\n",
              "      <th>SpendingScore</th>\n",
              "      <td>0.079049</td>\n",
              "    </tr>\n",
              "    <tr>\n",
              "      <th>Savings</th>\n",
              "      <td>14937.995170</td>\n",
              "    </tr>\n",
              "  </tbody>\n",
              "</table>\n",
              "</div>"
            ],
            "text/plain": [
              "                         368\n",
              "Age                84.000000\n",
              "Income         110582.000000\n",
              "SpendingScore       0.079049\n",
              "Savings         14937.995170"
            ]
          },
          "metadata": {
            "tags": []
          },
          "execution_count": 12
        }
      ]
    },
    {
      "cell_type": "markdown",
      "metadata": {
        "id": "hPo-xc01FVF8",
        "colab_type": "text"
      },
      "source": [
        "#### Snake Plot"
      ]
    },
    {
      "cell_type": "code",
      "metadata": {
        "id": "O_-mtFPOFYfz",
        "colab_type": "code",
        "outputId": "315faa06-a450-4e13-8f62-f4aa42d9b76f",
        "colab": {
          "base_uri": "https://localhost:8080/"
        }
      },
      "source": [
        "import seaborn as sns\n",
        "\n",
        "dat = X.copy()\n",
        "\n",
        "dat[\"Cluster\"] = k_means.labels_\n",
        "\n",
        "datamart_melt = pd.melt(\n",
        "    dat.reset_index(),\n",
        "    id_vars=[\"Cluster\"],\n",
        "    value_vars=[\"Age\", \"Income\", \"SpendingScore\", \"Savings\"],\n",
        "    var_name=\"Feature\",\n",
        "    value_name=\"Value\",\n",
        ")\n",
        "\n",
        "plt.title(\"Snake Plot, K-Means, K=5\")\n",
        "sns.lineplot(x=\"Feature\", y=\"Value\", hue=\"Cluster\", data=datamart_melt)"
      ],
      "execution_count": 0,
      "outputs": [
        {
          "output_type": "execute_result",
          "data": {
            "text/plain": [
              "Text(0.5, 1.0, 'Snake Plot, K-Means, K=5')"
            ]
          },
          "metadata": {
            "tags": []
          },
          "execution_count": 13
        },
        {
          "output_type": "execute_result",
          "data": {
            "text/plain": [
              "<matplotlib.axes._subplots.AxesSubplot at 0x7fa97dae5588>"
            ]
          },
          "metadata": {
            "tags": []
          },
          "execution_count": 13
        },
        {
          "output_type": "display_data",
          "data": {
            "image/png": "[encoded data removed]",
            "text/plain": [
              "<Figure size 432x288 with 1 Axes>"
            ]
          },
          "metadata": {
            "tags": []
          }
        }
      ]
    },
    {
      "cell_type": "markdown",
      "metadata": {
        "id": "sBV5pMwzFab0",
        "colab_type": "text"
      },
      "source": [
        "#### Relative Importance Plots"
      ]
    },
    {
      "cell_type": "code",
      "metadata": {
        "id": "A0-4fnimFepF",
        "colab_type": "code",
        "outputId": "57fb8d3d-7701-44ba-9f41-0c24aa214c06",
        "colab": {
          "base_uri": "https://localhost:8080/"
        }
      },
      "source": [
        "cluster_avg = dat.groupby([\"Cluster\"]).mean()\n",
        "population_avg = dat.drop([\"Cluster\"], axis=1).mean()\n",
        "\n",
        "relative_imp = cluster_avg - population_avg\n",
        "\n",
        "plt.figure(figsize=(8, 2))\n",
        "plt.title(\"Relative importance of features\")\n",
        "sns.heatmap(data=relative_imp, annot=True, fmt=\".2f\", cmap=\"RdYlGn\")"
      ],
      "execution_count": 0,
      "outputs": [
        {
          "output_type": "execute_result",
          "data": {
            "text/plain": [
              "<Figure size 576x144 with 0 Axes>"
            ]
          },
          "metadata": {
            "tags": []
          },
          "execution_count": 14
        },
        {
          "output_type": "execute_result",
          "data": {
            "text/plain": [
              "Text(0.5, 1.0, 'Relative importance of features')"
            ]
          },
          "metadata": {
            "tags": []
          },
          "execution_count": 14
        },
        {
          "output_type": "execute_result",
          "data": {
            "text/plain": [
              "<matplotlib.axes._subplots.AxesSubplot at 0x7fa97ddcf940>"
            ]
          },
          "metadata": {
            "tags": []
          },
          "execution_count": 14
        },
        {
          "output_type": "display_data",
          "data": {
            "image/png": "[encoded data removed]",
            "text/plain": [
              "<Figure size 576x144 with 2 Axes>"
            ]
          },
          "metadata": {
            "tags": []
          }
        }
      ]
    },
    {
      "cell_type": "code",
      "metadata": {
        "id": "oemKnOctFf3M",
        "colab_type": "code",
        "colab": {}
      },
      "source": [
        ""
      ],
      "execution_count": 0,
      "outputs": []
    },
    {
      "cell_type": "markdown",
      "metadata": {
        "id": "ILKGocQvFxac",
        "colab_type": "text"
      },
      "source": [
        "## 1.2 Answer:"
      ]
    },
    {
      "cell_type": "markdown",
      "metadata": {
        "id": "qxtZ9JBoGCr8",
        "colab_type": "text"
      },
      "source": [
        "### 1.\tDownload the customer dataset: jewelry_customers.csv."
      ]
    },
    {
      "cell_type": "markdown",
      "metadata": {
        "id": "x-ap0nLlGVSM",
        "colab_type": "text"
      },
      "source": [
        "I have downloaded the dataset and run the code. Please check the Jupyter notebook."
      ]
    },
    {
      "cell_type": "markdown",
      "metadata": {
        "id": "i4VtDCMPGeYt",
        "colab_type": "text"
      },
      "source": [
        "### 2.\tPerform a clustering analysis of the dataset.  a.\tTry different values of parameters (e.g., K for K-means), and describe what you think the best values are and why."
      ]
    },
    {
      "cell_type": "markdown",
      "metadata": {
        "id": "BvIV8PttGmFk",
        "colab_type": "text"
      },
      "source": [
        "I used k-means to do clustering.\n",
        "\n",
        "I first use Elbow method to find the best k (the number of clusters). According to the plots below, 5 is the best cluster number in this case. Here is the reason:\n",
        "\n",
        "In Silhouette score elbow for Kmeans Clustering, when k is 5, we got the highest Silhouette score, which means that, at this point, the cluster is farthest away from the closest neighbouring cluster. So, 5 is the best k number.\n",
        "\n",
        "\n"
      ]
    },
    {
      "cell_type": "code",
      "metadata": {
        "id": "c0Ljfy_xHkRV",
        "colab_type": "code",
        "outputId": "ab127a03-798c-4ab7-9a9e-d29c214604b9",
        "colab": {
          "base_uri": "https://localhost:8080/",
          "height": 294
        }
      },
      "source": [
        "model = KMeans(init=\"k-means++\", random_state=23)\n",
        "KElbowVisualizer(model, k=(2, 11), metric=\"silhouette\", timings=False).fit(X).poof()"
      ],
      "execution_count": 0,
      "outputs": [
        {
          "output_type": "display_data",
          "data": {
            "image/png": "[encoded data removed]",
            "text/plain": [
              "<Figure size 432x288 with 1 Axes>"
            ]
          },
          "metadata": {
            "tags": []
          }
        }
      ]
    },
    {
      "cell_type": "markdown",
      "metadata": {
        "id": "lcrv05TiHk3s",
        "colab_type": "text"
      },
      "source": [
        "\n",
        "I use a for loop to try different k value (from 2 to 10). Based on InterclusterDistance plot, we can find that 5 is the best clustering number. There is no overlapping between each two circles. Besides the distance between each other looks good.\n"
      ]
    },
    {
      "cell_type": "code",
      "metadata": {
        "id": "MNZShMgKHvu9",
        "colab_type": "code",
        "outputId": "0f32cd52-8b63-4ce5-e666-2d454bbe6bc4",
        "colab": {
          "base_uri": "https://localhost:8080/",
          "height": 392
        }
      },
      "source": [
        "kmeans = KMeans(init=\"k-means++\", n_clusters=5, random_state=23)\n",
        "kmeans.fit(X)\n",
        "\n",
        "visualizer = InterclusterDistance(kmeans, random_state=40)\n",
        "visualizer.fit(X)  # Fit the training data to the visualizer\n",
        "visualizer.poof()  # Draw/show/poof the data"
      ],
      "execution_count": 0,
      "outputs": [
        {
          "output_type": "execute_result",
          "data": {
            "text/plain": [
              "KMeans(algorithm='auto', copy_x=True, init='k-means++', max_iter=300,\n",
              "       n_clusters=5, n_init=10, n_jobs=None, precompute_distances='auto',\n",
              "       random_state=23, tol=0.0001, verbose=0)"
            ]
          },
          "metadata": {
            "tags": []
          },
          "execution_count": 16
        },
        {
          "output_type": "execute_result",
          "data": {
            "text/plain": [
              "InterclusterDistance(ax=<matplotlib.axes._subplots.AxesSubplot object at 0x7fa97b9ddf60>,\n",
              "                     embedding='mds', legend=True, legend_loc='lower left',\n",
              "                     legend_size=1.5, max_size=25000, min_size=400, model=None,\n",
              "                     random_state=40, scoring='membership')"
            ]
          },
          "metadata": {
            "tags": []
          },
          "execution_count": 16
        },
        {
          "output_type": "display_data",
          "data": {
            "image/png": "[encoded data removed]",
            "text/plain": [
              "<Figure size 432x288 with 2 Axes>"
            ]
          },
          "metadata": {
            "tags": []
          }
        }
      ]
    },
    {
      "cell_type": "markdown",
      "metadata": {
        "id": "7sLdl6TXH-i1",
        "colab_type": "text"
      },
      "source": [
        "### 3.\tDocument your findings. Describe and interpret the clusters."
      ]
    },
    {
      "cell_type": "markdown",
      "metadata": {
        "id": "2fNwG6DGIzVv",
        "colab_type": "text"
      },
      "source": [
        "I tried three ways to interpret the clusters, which are snake plot, relative importance measures and exemplars. The three methods show the same conclusion.\n",
        "\n",
        "Cluster 0: The customers’ age is highest. The income is the lowest. The savings is the highest and the spending score is relative low. These customers are the senior people whose income is low and savings are high.\n",
        "\n",
        "Cluster 1: The customers’ age is around 59. The income is in the middle. The savings are relative low and the spending score is relative high. These customers are the middle-aged people whose income is about average and love jewelry.\n",
        "\n",
        "Cluster 2: The customers’ age is relative low, which is around 34. The income is in relative high. The savings are relative high and the spending score is relative low. These customers are the people around 34, whose has good income and savings but do not spend too much on jewelry. \n",
        "\n",
        "Cluster 3: The customers’ age is lowest. The income is the highest. The savings is the lowest and the spending score is the highest. These customers are the young people whose income is very high willing to spend on jewelry. \n",
        "\n",
        "Cluster 4: The customers’ age, income and saving is relative high. The spending score is the lowest. These customers are the old people whose income is high but spend little on jewelry. \n",
        "\n",
        "Obviously, the best customer is cluster 3. These young people has the highest income and spend a lot on jewelry. The store can be more focus on these customers.\n"
      ]
    },
    {
      "cell_type": "markdown",
      "metadata": {
        "id": "n8EQRt3TJKUK",
        "colab_type": "text"
      },
      "source": [
        "**SnakePlot**"
      ]
    },
    {
      "cell_type": "code",
      "metadata": {
        "id": "cN0xMnulI3L9",
        "colab_type": "code",
        "outputId": "b8f4584e-1574-4a65-abfa-560a7e1b955d",
        "colab": {
          "base_uri": "https://localhost:8080/",
          "height": 297
        }
      },
      "source": [
        "sns.lineplot(x=\"Feature\", y=\"Value\", hue=\"Cluster\", data=datamart_melt)"
      ],
      "execution_count": 0,
      "outputs": [
        {
          "output_type": "execute_result",
          "data": {
            "text/plain": [
              "<matplotlib.axes._subplots.AxesSubplot at 0x7fa97b984b38>"
            ]
          },
          "metadata": {
            "tags": []
          },
          "execution_count": 17
        },
        {
          "output_type": "display_data",
          "data": {
            "image/png": "[encoded data removed]",
            "text/plain": [
              "<Figure size 432x288 with 1 Axes>"
            ]
          },
          "metadata": {
            "tags": []
          }
        }
      ]
    },
    {
      "cell_type": "markdown",
      "metadata": {
        "id": "ewYzE726JWPE",
        "colab_type": "text"
      },
      "source": [
        "**Heatmap**"
      ]
    },
    {
      "cell_type": "code",
      "metadata": {
        "id": "zZ-yp5cQI8e8",
        "colab_type": "code",
        "outputId": "32bd0315-2b09-437b-d17b-dee4489d33cc",
        "colab": {
          "base_uri": "https://localhost:8080/",
          "height": 283
        }
      },
      "source": [
        "sns.heatmap(data=relative_imp, annot=True, fmt=\".2f\", cmap=\"RdYlGn\")"
      ],
      "execution_count": 0,
      "outputs": [
        {
          "output_type": "execute_result",
          "data": {
            "text/plain": [
              "<matplotlib.axes._subplots.AxesSubplot at 0x7fa97b8dca90>"
            ]
          },
          "metadata": {
            "tags": []
          },
          "execution_count": 18
        },
        {
          "output_type": "display_data",
          "data": {
            "image/png": "[encoded data removed]",
            "text/plain": [
              "<Figure size 432x288 with 2 Axes>"
            ]
          },
          "metadata": {
            "tags": []
          }
        }
      ]
    },
    {
      "cell_type": "markdown",
      "metadata": {
        "id": "Uc8ZsAn6JgpM",
        "colab_type": "text"
      },
      "source": [
        "**Examplar**"
      ]
    },
    {
      "cell_type": "code",
      "metadata": {
        "id": "806nUbgGJCHW",
        "colab_type": "code",
        "outputId": "85680688-3124-41f7-db71-e6cfdfdef25a",
        "colab": {
          "base_uri": "https://localhost:8080/",
          "height": 977
        }
      },
      "source": [
        "for i, label in enumerate(set(k_means.labels_)):\n",
        "    X_tmp = df[k_means.labels_ == label].copy()\n",
        "\n",
        "    exemplar_idx = distance.cdist([k_means.cluster_centers_[i]], X_tmp).argmin()\n",
        "    exemplar = pd.DataFrame(X_tmp.iloc[exemplar_idx])\n",
        "\n",
        "    print(\"\\nCluster {}:\".format(label))\n",
        "    exemplar"
      ],
      "execution_count": 0,
      "outputs": [
        {
          "output_type": "stream",
          "text": [
            "\n",
            "Cluster 0:\n"
          ],
          "name": "stdout"
        },
        {
          "output_type": "execute_result",
          "data": {
            "text/html": [
              "<div>\n",
              "<style scoped>\n",
              "    .dataframe tbody tr th:only-of-type {\n",
              "        vertical-align: middle;\n",
              "    }\n",
              "\n",
              "    .dataframe tbody tr th {\n",
              "        vertical-align: top;\n",
              "    }\n",
              "\n",
              "    .dataframe thead th {\n",
              "        text-align: right;\n",
              "    }\n",
              "</style>\n",
              "<table border=\"1\" class=\"dataframe\">\n",
              "  <thead>\n",
              "    <tr style=\"text-align: right;\">\n",
              "      <th></th>\n",
              "      <th>320</th>\n",
              "    </tr>\n",
              "  </thead>\n",
              "  <tbody>\n",
              "    <tr>\n",
              "      <th>Age</th>\n",
              "      <td>87.000000</td>\n",
              "    </tr>\n",
              "    <tr>\n",
              "      <th>Income</th>\n",
              "      <td>12000.000000</td>\n",
              "    </tr>\n",
              "    <tr>\n",
              "      <th>SpendingScore</th>\n",
              "      <td>0.342991</td>\n",
              "    </tr>\n",
              "    <tr>\n",
              "      <th>Savings</th>\n",
              "      <td>16180.265252</td>\n",
              "    </tr>\n",
              "  </tbody>\n",
              "</table>\n",
              "</div>"
            ],
            "text/plain": [
              "                        320\n",
              "Age               87.000000\n",
              "Income         12000.000000\n",
              "SpendingScore      0.342991\n",
              "Savings        16180.265252"
            ]
          },
          "metadata": {
            "tags": []
          },
          "execution_count": 19
        },
        {
          "output_type": "stream",
          "text": [
            "\n",
            "Cluster 1:\n"
          ],
          "name": "stdout"
        },
        {
          "output_type": "execute_result",
          "data": {
            "text/html": [
              "<div>\n",
              "<style scoped>\n",
              "    .dataframe tbody tr th:only-of-type {\n",
              "        vertical-align: middle;\n",
              "    }\n",
              "\n",
              "    .dataframe tbody tr th {\n",
              "        vertical-align: top;\n",
              "    }\n",
              "\n",
              "    .dataframe thead th {\n",
              "        text-align: right;\n",
              "    }\n",
              "</style>\n",
              "<table border=\"1\" class=\"dataframe\">\n",
              "  <thead>\n",
              "    <tr style=\"text-align: right;\">\n",
              "      <th></th>\n",
              "      <th>278</th>\n",
              "    </tr>\n",
              "  </thead>\n",
              "  <tbody>\n",
              "    <tr>\n",
              "      <th>Age</th>\n",
              "      <td>59.000000</td>\n",
              "    </tr>\n",
              "    <tr>\n",
              "      <th>Income</th>\n",
              "      <td>56321.000000</td>\n",
              "    </tr>\n",
              "    <tr>\n",
              "      <th>SpendingScore</th>\n",
              "      <td>0.806566</td>\n",
              "    </tr>\n",
              "    <tr>\n",
              "      <th>Savings</th>\n",
              "      <td>6129.288986</td>\n",
              "    </tr>\n",
              "  </tbody>\n",
              "</table>\n",
              "</div>"
            ],
            "text/plain": [
              "                        278\n",
              "Age               59.000000\n",
              "Income         56321.000000\n",
              "SpendingScore      0.806566\n",
              "Savings         6129.288986"
            ]
          },
          "metadata": {
            "tags": []
          },
          "execution_count": 19
        },
        {
          "output_type": "stream",
          "text": [
            "\n",
            "Cluster 2:\n"
          ],
          "name": "stdout"
        },
        {
          "output_type": "execute_result",
          "data": {
            "text/html": [
              "<div>\n",
              "<style scoped>\n",
              "    .dataframe tbody tr th:only-of-type {\n",
              "        vertical-align: middle;\n",
              "    }\n",
              "\n",
              "    .dataframe tbody tr th {\n",
              "        vertical-align: top;\n",
              "    }\n",
              "\n",
              "    .dataframe thead th {\n",
              "        text-align: right;\n",
              "    }\n",
              "</style>\n",
              "<table border=\"1\" class=\"dataframe\">\n",
              "  <thead>\n",
              "    <tr style=\"text-align: right;\">\n",
              "      <th></th>\n",
              "      <th>339</th>\n",
              "    </tr>\n",
              "  </thead>\n",
              "  <tbody>\n",
              "    <tr>\n",
              "      <th>Age</th>\n",
              "      <td>34.000000</td>\n",
              "    </tr>\n",
              "    <tr>\n",
              "      <th>Income</th>\n",
              "      <td>89598.000000</td>\n",
              "    </tr>\n",
              "    <tr>\n",
              "      <th>SpendingScore</th>\n",
              "      <td>0.340152</td>\n",
              "    </tr>\n",
              "    <tr>\n",
              "      <th>Savings</th>\n",
              "      <td>12832.768721</td>\n",
              "    </tr>\n",
              "  </tbody>\n",
              "</table>\n",
              "</div>"
            ],
            "text/plain": [
              "                        339\n",
              "Age               34.000000\n",
              "Income         89598.000000\n",
              "SpendingScore      0.340152\n",
              "Savings        12832.768721"
            ]
          },
          "metadata": {
            "tags": []
          },
          "execution_count": 19
        },
        {
          "output_type": "stream",
          "text": [
            "\n",
            "Cluster 3:\n"
          ],
          "name": "stdout"
        },
        {
          "output_type": "execute_result",
          "data": {
            "text/html": [
              "<div>\n",
              "<style scoped>\n",
              "    .dataframe tbody tr th:only-of-type {\n",
              "        vertical-align: middle;\n",
              "    }\n",
              "\n",
              "    .dataframe tbody tr th {\n",
              "        vertical-align: top;\n",
              "    }\n",
              "\n",
              "    .dataframe thead th {\n",
              "        text-align: right;\n",
              "    }\n",
              "</style>\n",
              "<table border=\"1\" class=\"dataframe\">\n",
              "  <thead>\n",
              "    <tr style=\"text-align: right;\">\n",
              "      <th></th>\n",
              "      <th>360</th>\n",
              "    </tr>\n",
              "  </thead>\n",
              "  <tbody>\n",
              "    <tr>\n",
              "      <th>Age</th>\n",
              "      <td>28.000000</td>\n",
              "    </tr>\n",
              "    <tr>\n",
              "      <th>Income</th>\n",
              "      <td>117108.000000</td>\n",
              "    </tr>\n",
              "    <tr>\n",
              "      <th>SpendingScore</th>\n",
              "      <td>0.857078</td>\n",
              "    </tr>\n",
              "    <tr>\n",
              "      <th>Savings</th>\n",
              "      <td>4749.879237</td>\n",
              "    </tr>\n",
              "  </tbody>\n",
              "</table>\n",
              "</div>"
            ],
            "text/plain": [
              "                         360\n",
              "Age                28.000000\n",
              "Income         117108.000000\n",
              "SpendingScore       0.857078\n",
              "Savings          4749.879237"
            ]
          },
          "metadata": {
            "tags": []
          },
          "execution_count": 19
        },
        {
          "output_type": "stream",
          "text": [
            "\n",
            "Cluster 4:\n"
          ],
          "name": "stdout"
        },
        {
          "output_type": "execute_result",
          "data": {
            "text/html": [
              "<div>\n",
              "<style scoped>\n",
              "    .dataframe tbody tr th:only-of-type {\n",
              "        vertical-align: middle;\n",
              "    }\n",
              "\n",
              "    .dataframe tbody tr th {\n",
              "        vertical-align: top;\n",
              "    }\n",
              "\n",
              "    .dataframe thead th {\n",
              "        text-align: right;\n",
              "    }\n",
              "</style>\n",
              "<table border=\"1\" class=\"dataframe\">\n",
              "  <thead>\n",
              "    <tr style=\"text-align: right;\">\n",
              "      <th></th>\n",
              "      <th>368</th>\n",
              "    </tr>\n",
              "  </thead>\n",
              "  <tbody>\n",
              "    <tr>\n",
              "      <th>Age</th>\n",
              "      <td>84.000000</td>\n",
              "    </tr>\n",
              "    <tr>\n",
              "      <th>Income</th>\n",
              "      <td>110582.000000</td>\n",
              "    </tr>\n",
              "    <tr>\n",
              "      <th>SpendingScore</th>\n",
              "      <td>0.079049</td>\n",
              "    </tr>\n",
              "    <tr>\n",
              "      <th>Savings</th>\n",
              "      <td>14937.995170</td>\n",
              "    </tr>\n",
              "  </tbody>\n",
              "</table>\n",
              "</div>"
            ],
            "text/plain": [
              "                         368\n",
              "Age                84.000000\n",
              "Income         110582.000000\n",
              "SpendingScore       0.079049\n",
              "Savings         14937.995170"
            ]
          },
          "metadata": {
            "tags": []
          },
          "execution_count": 19
        }
      ]
    },
    {
      "cell_type": "markdown",
      "metadata": {
        "id": "YeBdOASkJGzl",
        "colab_type": "text"
      },
      "source": [
        "### 4.\tHow good are the results?"
      ]
    },
    {
      "cell_type": "markdown",
      "metadata": {
        "id": "HvU3MEvsJovN",
        "colab_type": "text"
      },
      "source": [
        "I think the result is very good. First of all, the Silhouette score is over 0.8, which is very high. It means the clusters has good distance between each other. The snake plot shows that lines are not overlapping and have different combination of low, medium and high value on the features. The InterclusterDistance plot clearly shows 5 area without overlapping. The exemplars give us a sample of each cluster, which is easy to understand. Overall, the result is satisfied."
      ]
    },
    {
      "cell_type": "markdown",
      "metadata": {
        "id": "c1eou23rJq20",
        "colab_type": "text"
      },
      "source": [
        "# 2.\tCATCHING RECIDIVISTS BEFORE THEY STRIKE"
      ]
    },
    {
      "cell_type": "markdown",
      "metadata": {
        "id": "dHVTMlwbrHEQ",
        "colab_type": "text"
      },
      "source": [
        "A recidivist is a criminal that was released from prison, but commits another crime. You are a warden at a maximum-security prison in Kingston, and you want to determine which prisoners will likely become recidivists. Luckily, you have a Queen’s degree, so you are going to take a data-driven approach. You have collected some historical training data that include some basic metadata, and whether the prisoner ended up becoming a recidivist or not.\n",
        "Given the training data below, use the ID3 algorithm and entropy-based information gain to construct a decision tree by hand to predict which prisoners will become recidivists. Show all the steps. Use the resulting decision tree to predict the class of the following prisoner: Good Behavior = false, Age < 30 = false, Drug dependent = true.\n",
        "\n",
        "| id | Good Behavior | Age < 30 | Drug Dependent | Recidivist |\n",
        "|----|---------------|----------|----------------|------------|\n",
        "| 1  | False         | True     | False          | True       |\n",
        "| 2  | False         | False    | False          | False      |\n",
        "| 3  | False         | True     | False          | True       |\n",
        "| 4  | True          | False    | False          | False      |\n",
        "| 5  | True          | False    | True           | True       |\n",
        "| 6  | True          | False    | False          | false      |"
      ]
    },
    {
      "cell_type": "markdown",
      "metadata": {
        "id": "pZX33p3trSUY",
        "colab_type": "text"
      },
      "source": [
        "## 2.1 Answer:"
      ]
    },
    {
      "cell_type": "markdown",
      "metadata": {
        "id": "PE_fVoLSJvUt",
        "colab_type": "text"
      },
      "source": [
        "* Calculate information gain\n",
        "*\tE(Recidivist)=E(3, 3)=E(0.5, 0.5)= -0.5 log2(⁡0.5)-0.5 log2(⁡0.5)=0.97\n",
        "* E(Recidivist, GoodBehavior)=P(False)E(2,1)+P(True)E(1,2)=0.5*0.92+0.5*0.92=0.92\n",
        "* Gain(Recidivist, GoodBehavior)= E(Recidivist)- E(Recidivist, GoodBehavior)=0.97-0.92=0.05\n",
        "* Gain(Recidivist, age)= 0.97-2/6*0-4/6*0.81=0.43\n",
        "* Gain(Recidivist, DrugDependent)=0.97-1/6*0-5/6*0.97=0.16\n",
        "* Because the Gain(Recidivist, age) is the highest, we first split data from this one.\n",
        "* Since the prisoner we want to predict is older than 30, so we filter the data and get the following:\n",
        "\n",
        "  \n",
        "| id | Good Behavior | Age < 30 | Drug Dependent | Recidivist |\n",
        "|----|---------------|----------|----------------|------------|\n",
        "| 2  | False         | False    | False          | False      |\n",
        "| 4  | True          | False    | False          | False      |\n",
        "| 5  | True          | False    | True           | True       |\n",
        "| 6  | True          | False    | False          | false      |\n",
        "\n",
        "* Gain’(Recidivist, GoodBehavior)=0.81-1/4*0-3/4*0.92=0.12\n",
        "* Gain’(Recidivist, DrugDependent)=0.81-1/4*0-3/4*0=0.81\n",
        "* Because the Gain(Recidivist, DrugDependent) is the highest in this level, we split data from this one.\n",
        "* Since the prisoner we want to predict is has drug dependent, so we filter the data and get the following:\n",
        "\n",
        "| id | Good Behavior | Age < 30 | Drug Dependent | Recidivist |\n",
        "|----|---------------|----------|----------------|------------|\n",
        "| 5  | True          | False    | True           | True       |\n",
        "\n",
        "* So we can stop here. I will predict Recidivist as True."
      ]
    },
    {
      "cell_type": "markdown",
      "metadata": {
        "id": "uWymD5u7J0rd",
        "colab_type": "text"
      },
      "source": [
        "# 3.\tMORE CLASSIFICATION MEASURES\n",
        "\n"
      ]
    },
    {
      "cell_type": "markdown",
      "metadata": {
        "id": "Wspla4-xrdr_",
        "colab_type": "text"
      },
      "source": [
        "In class, we talked about several classification measures, such as accuracy, precision, recall, AUC, etc. There are many other measures out there, each with its own pros and cons. \n",
        "Do a bit of research of your own to find at least two classification measures that we did not discuss in class. For each measure, describe what it is, how it is calculated, how it is different from accuracy, and in which scenarios it is best used. Show some example datasets/confusion matrices to illustrate your points."
      ]
    },
    {
      "cell_type": "markdown",
      "metadata": {
        "id": "3MoMR89irY-H",
        "colab_type": "text"
      },
      "source": [
        "## 3.1 Answer:"
      ]
    },
    {
      "cell_type": "markdown",
      "metadata": {
        "id": "Ed8kYOezLcWt",
        "colab_type": "text"
      },
      "source": [
        "1.\t\n",
        "\n",
        "* classification measure name: Diagnostic odds ratio (DOR)\n",
        "\n",
        "* The Diagnostic odds ratio =TP x TN/(FP x FN)\n",
        "DOR is utilized for estimating the discriminative ability of the test and also for comparing between two diagnostic tests. The cons is that if there is a zero in FP or FN. Then DOR cannot be applied in this case.\n",
        "* Here is an example:\n",
        "\n",
        "| Confusion matrix 1 |       |\n",
        "|--------------------|-------|\n",
        "| TP 60              | FN 20 |\n",
        "| FP 10              | TN 10 |\n",
        "\n",
        "\n",
        "| Confusion matrix 2  || \n",
        "|-----------|-----------|\n",
        "| TP        65\t|FN   15 |\n",
        "| FP        15\t|TN   5  |\n",
        "\n",
        "* Accuracy_1=(TP+TN)/(TP+TN+FP+FN)=70/100=0.7\n",
        "* DOR_1= TP x TN/(FP x FN)=60x10/(10*20)=3\n",
        "\n",
        "* Accuracy_2=(TP+TN)/(TP+TN+FP+FN)=70/100=0.7\n",
        "* DOR_2= TP x TN/(FP x FN)=65x5/(15*15)=1.44\n",
        "\n",
        "  \n",
        "\n",
        "* In this example, the accuracy is the same for both confusion matrices. But the DOR_1 is larger than DOR_2. Because the formula of DOR use TP x TN comparing to Accuracy using TN + TP. As we all know, the product of two real number is maximum when the numbers are equal give sum is constant, So, if two models have the same accuracy, the model with higher DOR should be a more balanced model to give the TP and TN. \n"
      ]
    },
    {
      "cell_type": "markdown",
      "metadata": {
        "id": "wvPVe7tRLhL8",
        "colab_type": "text"
      },
      "source": [
        "2.\t\n",
        "* classification measure name: Youden’s index (YI)\n",
        "* Youden’s index=TPR+TNR-1=TP/(TP+FN)+TN/(TN+FP)-1\n",
        "YI evaluates the discriminative power of the test. The YI metric is ranged from zero when the test is poor to one which represents a perfect diagnostic test. It is also suitable with imbalanced data. One of the major disadvantages of this test is that it does not change concerning the differences between the sensitivity and specificity of the test.\n",
        "* Here is an example:\n",
        "\n",
        "| Confusion matrix 1 |       |\n",
        "|--------------------|-------|\n",
        "| TP 60              | FN 20 |\n",
        "| FP 10              | TN 10 |\n",
        "\n",
        "\n",
        "| Confusion matrix 2  || \n",
        "|-----------|-----------|\n",
        "| TP        65\t|FN   15 |\n",
        "| FP        15\t|TN   5  |\n",
        "\n",
        "\n",
        "* Accuracy_1=(TP+TN)/(TP+TN+FP+FN)=70/100=0.7\n",
        "* YI_1= TP/(TP+FN)+TN/(TN+FP)-1=60/80+10/20-1=0.75+0.5-1=0.25\n",
        "\n",
        "* Accuracy_2=(TP+TN)/(TP+TN+FP+FN)=70/100=0.7\n",
        "* YI_2= TP/(TP+FN)+TN/(TN+FP)-1=65/80+5/20-1=0.8125+0.25-1=0.0625\n",
        "\n",
        "* In this example, two models have the same accuracy. But if the accuracy is the same, the Yi score is quite different, the one with higher YI score has overall better balance of specificity and sensitivity.\n",
        "\n",
        "\n"
      ]
    },
    {
      "cell_type": "markdown",
      "metadata": {
        "id": "MZKKfwZONXNq",
        "colab_type": "text"
      },
      "source": [
        "# 4.\tTHE INTERN\n"
      ]
    },
    {
      "cell_type": "markdown",
      "metadata": {
        "id": "ZFehBkPCrjTe",
        "colab_type": "text"
      },
      "source": [
        "You are an in-demand, world-traveling, work-all-night consultant who specializes in designing supervised machine learning solutions for clients in a wide-range of industries. You have seen it all and you know what to do. To help you get more done in less time, you have hired an intern from Ivey, who, unfortunately, needs some handholding. Your intern does not understand when to use which classification measure. Your intern keeps getting it wrong. To help your intern learn from your experience, you have decided to look at some previous projects and describe which measure you used, and more importantly, why. \n",
        "For each project below, describe which measure(s) are best, and why. Also, give an example of a measure which would be horrible to use, and why. List any assumptions you are making, about the dataset, problem, or business priorities that were involved in the project.\n"
      ]
    },
    {
      "cell_type": "markdown",
      "metadata": {
        "id": "xncl15Rrrl64",
        "colab_type": "text"
      },
      "source": [
        "## 4.1 Answer:"
      ]
    },
    {
      "cell_type": "markdown",
      "metadata": {
        "id": "wuQOC_N4N7Zh",
        "colab_type": "text"
      },
      "source": [
        "#### a)\tThe fraud department at a bank wanted to predict which transactions were fraudulent. The training dataset had 100K credit card transactions, of which 97K are legit and 3K are fraud."
      ]
    },
    {
      "cell_type": "markdown",
      "metadata": {
        "id": "YuJp58WhN_BD",
        "colab_type": "text"
      },
      "source": [
        "1.\tI will use recall to measure in this case. \n",
        "2.\tAssumption: A fraud will cause a huge loss and the cost of following up potentially fraudulent.\n",
        "3.\tBecause the huge loss and not much on following up the case, so we do not want to miss the true positive, which means when the Fraud is actually true our model should predict it as true. Also this may cause more false positive. Since in my assumption that the cost of following up potentially fraudulent is not high, Recall is a good measurement to use.\n",
        "4.\tIt is horrible to use accuracy to measure in this case. Because the data is imbalance, the model will predict all the result as legit and get 97% accuracy. So, it is not wise to use accuracy in the case.\n"
      ]
    },
    {
      "cell_type": "markdown",
      "metadata": {
        "id": "GxURfhJjlzuY",
        "colab_type": "text"
      },
      "source": [
        "#### b)\tA hospital wanted to predict whether a MRI scan contained cancer."
      ]
    },
    {
      "cell_type": "markdown",
      "metadata": {
        "id": "4_o3EQXYl5DH",
        "colab_type": "text"
      },
      "source": [
        "1.\tI will use F1 score to measure in this case.\n",
        "2.\tAssumption: Most of people who have MRI scan do not have cancer. So, the data may not imbalance.\n",
        "3.\tIn this case, because we need to deal with the imbalance data, we want to balance both recall and precision. Since F1 score equals 2 * precision * recall / (precision + recall), F1 score is a good way to measure the model.\n",
        "4.\tIt is horrible to use accuracy to measure in this case. Because the data is imbalance, the model will predict all the result as no cancer and get high accuracy. So, it is not wise to use accuracy in the case.\n"
      ]
    },
    {
      "cell_type": "markdown",
      "metadata": {
        "id": "PzkzRZ27l7Q6",
        "colab_type": "text"
      },
      "source": [
        "#### c)\tAn IT team wanted to filter spam from email inboxes."
      ]
    },
    {
      "cell_type": "markdown",
      "metadata": {
        "id": "fxWSn2q8l_M4",
        "colab_type": "text"
      },
      "source": [
        "1.\tI will use precision to measure in this case.\n",
        "2.\tAssumption: We need to avoid predicting an important email as spam (Avoid FP)\n",
        "3.\tIn this case, if the model predict the spam as true, we want to have high confidence to make sure that it is actual spam. Precision equals to TP/ (TP + FP), which is what we want in this case.\n",
        "4.\tIt is horrible to use specificity to measure in this case. The model will only predict a mail as non-spam when it is very sure, which means it will cause more normal mail be treated as spam.  \n"
      ]
    },
    {
      "cell_type": "markdown",
      "metadata": {
        "id": "TxQ6kYzgmBdQ",
        "colab_type": "text"
      },
      "source": [
        "#### d)\tA sports analytics department wants to predict which team will win the match."
      ]
    },
    {
      "cell_type": "markdown",
      "metadata": {
        "id": "Lv-6uQfVFzsO",
        "colab_type": "text"
      },
      "source": [
        "1. I will use ROC/AUC to measure in this case.\n",
        "2. Assumption: The department wants to know some of which matches they have high probability to win and some of which mataches they will probably lose.\n",
        "3. In this case, we will choose the model with highest AUC score. Then, we can check the prediction result to tell which part of prediction we have high confidence to believe the result.\n",
        "4. It is horrible to use specificity to measure in this case. The model will only predict a game as lose when it is very sure, which means that the accuracy to for predicting winning will be sacrifised."
      ]
    },
    {
      "cell_type": "markdown",
      "metadata": {
        "id": "n7gbrMxNmEZg",
        "colab_type": "text"
      },
      "source": [
        "#### e)\tA city government wanted to build a system to monitor Twitter to see if any local residents were tweeting about emergencies that needed quick response from the police department. They don’t trust Twitter that much; they only want to send police in true emergencies."
      ]
    },
    {
      "cell_type": "markdown",
      "metadata": {
        "id": "mS9IMiOwhQ63",
        "colab_type": "text"
      },
      "source": [
        "1.\tI will use precision to measure in this case.\n",
        "2.\tAssumption: We need to avoid wrong emergency alert (Avoid FP).\n",
        "3.\tIn this case, if the model predict the emergency as true, we want to have high confidence to make sure that it is actual emergency. Precision equals to TP/ (TP + FP), which is what we want in this case.\n",
        "4.\tIt is horrible to use specificity TN/(TN+FP) to measure in this case. The model will only predict non-emergency when it is very sure, which means it will cause more emergency alerts.  "
      ]
    },
    {
      "cell_type": "markdown",
      "metadata": {
        "id": "SnNg_wghmHki",
        "colab_type": "text"
      },
      "source": [
        "#### f)\t [Describe one more project, whereby the best measure is one that you have not yet listed in parts a-e above.]"
      ]
    },
    {
      "cell_type": "markdown",
      "metadata": {
        "id": "BTPQrIDdx53q",
        "colab_type": "text"
      },
      "source": [
        "1. Project: A company is preparing an event, it has invited a lot of guests. Since they have the history data of previous events, they want to have a model to predict who will come on event day.\n",
        "2. I will use log loss to measure in this case.\n",
        "2. Assumption: They only care about how many people in total will come.\n",
        "3. In this case, since I conly care about the overal situation instead of individual, I want to use log loss to penalize models being very wrong.\n",
        "4. It is horriable to use precision to measure in this case. The model will make sure the precise of prediacting people who will come. But it will sacrifice the overall accuracy. So, it is better to use log loss in this case."
      ]
    },
    {
      "cell_type": "markdown",
      "metadata": {
        "id": "-qJuBhuCmLWw",
        "colab_type": "text"
      },
      "source": [
        "# 5.Uncle STEVE’S GROCERY STORE\n",
        "\n"
      ]
    },
    {
      "cell_type": "markdown",
      "metadata": {
        "id": "VW3Tngchr2TA",
        "colab_type": "text"
      },
      "source": [
        "Uncle Steve runs a small, local grocery store. Looking for some customer insights, he has hired you to do some data science. He has given you a few years’ worth of customer transactions, i.e., sets of items that customers have purchased. You have applied an association rules learning algorithm to the data, and the algorithm has generated a large set of association rules.  \n",
        "For each of the following scenarios, provide an example of one of the discovered association rules that satisfies the following conditions. (Just make up the rule, using your human experience and intuition!) Also, describe whether and why each rule would be considered subjectively interesting or uninteresting for Uncle Steve."
      ]
    },
    {
      "cell_type": "markdown",
      "metadata": {
        "id": "koWJMRdKr39_",
        "colab_type": "text"
      },
      "source": [
        "## 5.1 Answer:"
      ]
    },
    {
      "cell_type": "markdown",
      "metadata": {
        "id": "VHzMFoFemPA5",
        "colab_type": "text"
      },
      "source": [
        "#### a)\tA rule that has high support and high confidence."
      ]
    },
    {
      "cell_type": "markdown",
      "metadata": {
        "id": "fhgpyPi2mbJx",
        "colab_type": "text"
      },
      "source": [
        "{egg} → {milk} \n",
        "\n",
        "* These two items are both high frequency purchasing items. It is uninteresting for Uncle Steve because it is a common sense that people will often buy egg and milk together (High support). Besides, Uncle Steve will not be surprised that people will buy milk when they buy eggs (High confidence).\n"
      ]
    },
    {
      "cell_type": "markdown",
      "metadata": {
        "id": "RBaR0lVsmdHQ",
        "colab_type": "text"
      },
      "source": [
        "#### b)\tA rule that has reasonably high support but low confidence."
      ]
    },
    {
      "cell_type": "markdown",
      "metadata": {
        "id": "fvHYHGGvmhWZ",
        "colab_type": "text"
      },
      "source": [
        "{egg} → {bacon} \n",
        "\n",
        "* Most people will buy eggs when they shop at a grocery store. But, bacon is not as popular as eggs. \n",
        "\n",
        "* This rule has reasonably high support since they are both daily food which has a relative high purchasing frequency. However, the confidence is low because when people buy eggs, they do not always buy bacon.\n",
        "\n",
        "* I think this is interesting to Uncle Steve because he will realize that giving a discount to eggs will not influence the sales of bacon much.\n"
      ]
    },
    {
      "cell_type": "markdown",
      "metadata": {
        "id": "JpM5b3iZmkDg",
        "colab_type": "text"
      },
      "source": [
        "#### c)\tA rule that has low support and low confidence."
      ]
    },
    {
      "cell_type": "markdown",
      "metadata": {
        "id": "sRj7-X70moli",
        "colab_type": "text"
      },
      "source": [
        "{Christmas tree} → {Halloween pumpkin} \n",
        "\n",
        "* These two items are both low frequency purchasing items. People probably buy once a year. Furthermore, since Halloween is in October, there is very low possibility that people will buy Halloween pumpkin when people buy Christmas tree. So, this rule has low support and low confidence.\n",
        "\n",
        "* This rule is not interesting to Uncle Steve because it is a common sense and he must know this result.\n"
      ]
    },
    {
      "cell_type": "markdown",
      "metadata": {
        "id": "YX7T04bYmryA",
        "colab_type": "text"
      },
      "source": [
        "#### d)\tA rule that has low support and high confidence."
      ]
    },
    {
      "cell_type": "markdown",
      "metadata": {
        "id": "UPOW6XS9mw9p",
        "colab_type": "text"
      },
      "source": [
        "{outdoor grills} → {barbecue charcoal}\n",
        "\n",
        "* Since outdoor grills are very low frequency purchasing item, the support should be very low. But, when people by outdoor grills will always buy barbecue charcoal when they buy outdoor grill, which will give this rule a high confidence.\n",
        "\n",
        "* I think this is interesting to Uncle Steve. He will realize that giving discount to barbecue charcoal will not increase the sales of outdoor grills. Instead, he can give a bundle promotion of these two items since the confidence is high. This may help to increase the sale of outdoor grills."
      ]
    },
    {
      "cell_type": "markdown",
      "metadata": {
        "id": "9fT1WYN0mzdg",
        "colab_type": "text"
      },
      "source": [
        "# 6.\tASSOCIATION RULES, TWO WAYS\n",
        "\n",
        "\n"
      ]
    },
    {
      "cell_type": "markdown",
      "metadata": {
        "id": "1WWS1laushxX",
        "colab_type": "text"
      },
      "source": [
        "Consider the following table of customer transactions.\n",
        "\n",
        "| Customer ID | Transaction ID | Items Bought |\n",
        "|-------------|----------------|--------------|\n",
        "| 1           | 0001           | {a, d, e}    |\n",
        "| 1           | 0024           | {a, b, c, e} |\n",
        "| 2           | 0012           | {a, b, d, e} |\n",
        "| 2           | 0031           | {a, c, d, e} |\n",
        "| 3           | 0015           | {b, c, e}    |\n",
        "| 3           | 0022           | {b, d, e}    |\n",
        "| 4           | 0029           | {c, d}       |\n",
        "| 4           | 0040           | {a, b, c}    |\n",
        "| 5           | 0033           | {a, d, e}    |\n",
        "| 5           | 0038           | {a, b, e}    |"
      ]
    },
    {
      "cell_type": "markdown",
      "metadata": {
        "id": "RoKXEsQUsjrH",
        "colab_type": "text"
      },
      "source": [
        "## 6.1 Answer:"
      ]
    },
    {
      "cell_type": "markdown",
      "metadata": {
        "id": "wfZK3HmlnRcW",
        "colab_type": "text"
      },
      "source": [
        "#### a)\tCompute the support for itemsets {e}, {b,d}, and {b,d,e} by treating each transaction ID as a market basket (i.e., the normal way)."
      ]
    },
    {
      "cell_type": "markdown",
      "metadata": {
        "id": "jO88RCg_nc0B",
        "colab_type": "text"
      },
      "source": [
        "| Customer ID | Transaction ID | Items Bought | a | b | c | d | e |\n",
        "|-------------|----------------|--------------|---|---|---|---|---|\n",
        "| 1           | 1              | {a, d, e}    | 1 | 0 | 0 | 1 | 1 |\n",
        "| 1           | 24             | {a, b, c, e} | 1 | 1 | 1 | 0 | 1 |\n",
        "| 2           | 12             | {a, b, d, e} | 1 | 1 | 0 | 1 | 1 |\n",
        "| 2           | 31             | {a, c, d, e} | 1 | 0 | 1 | 1 | 1 |\n",
        "| 3           | 15             | {b, c, e}    | 0 | 1 | 1 | 0 | 1 |\n",
        "| 3           | 22             | {b, d, e}    | 0 | 1 | 0 | 1 | 1 |\n",
        "| 4           | 29             | {c, d}       | 0 | 0 | 1 | 1 | 0 |\n",
        "| 4           | 40             | {a, b, c}    | 1 | 1 | 1 | 0 | 0 |\n",
        "| 5           | 33             | {a, d, e}    | 1 | 0 | 0 | 1 | 1 |\n",
        "| 5           | 38             | {a, b, e}    | 1 | 1 | 0 | 0 | 1 |"
      ]
    },
    {
      "cell_type": "markdown",
      "metadata": {
        "id": "S6euLmZBniwP",
        "colab_type": "text"
      },
      "source": [
        "* S{e}=8/10=0.8\n",
        "* S{b,d}=2/10=0.2\n",
        "* S{b,d,e}=2/10=0.2\n"
      ]
    },
    {
      "cell_type": "markdown",
      "metadata": {
        "id": "nRbWM2g6nlUX",
        "colab_type": "text"
      },
      "source": [
        "#### b)\tUse the results in part (a) to compute the confidence for the association rules {b,d} → {e} and {e} → {b,d}. Is confidence a symmetric measure?"
      ]
    },
    {
      "cell_type": "markdown",
      "metadata": {
        "id": "bjY21BbEnrCb",
        "colab_type": "text"
      },
      "source": [
        "* C({b,d} → {e})=0.2/0.2=1\n",
        "* C({e} → {b,d})=0.2/0.8=0.25\n",
        "* Confidence is not a symmetric measure.\n"
      ]
    },
    {
      "cell_type": "markdown",
      "metadata": {
        "id": "GOXblC_nnwUx",
        "colab_type": "text"
      },
      "source": [
        "#### c)\tRepeat part (a) by treating each customer ID as a market basket. Each item should be treated as a binary feature (i.e., 1 if an item appears in at least one transaction bought by the customer, and 0 otherwise). "
      ]
    },
    {
      "cell_type": "markdown",
      "metadata": {
        "id": "b4Rj5ZXPnzEg",
        "colab_type": "text"
      },
      "source": [
        "| Customer ID | a | b | c | d | e |\n",
        "|-------------|---|---|---|---|---|\n",
        "| 1           | 1 | 1 | 1 | 1 | 1 |\n",
        "| 2           | 1 | 1 | 1 | 1 | 1 |\n",
        "| 3           | 0 | 1 | 1 | 1 | 1 |\n",
        "| 4           | 1 | 1 | 1 | 1 | 0 |\n",
        "| 5           | 1 | 1 | 0 | 1 | 1 |"
      ]
    },
    {
      "cell_type": "markdown",
      "metadata": {
        "id": "QDsEQq8Vn5KZ",
        "colab_type": "text"
      },
      "source": [
        "* S{e}=4/5=0.8\n",
        "* S{b,d}=5/5=1\n",
        "* S{b,d,e}=4/5=0.8\n",
        "\n",
        "* C({b,d} → {e})=0.8/1=0.8\n",
        "* C({e} → {b,d})=0.8/0.8=1\n"
      ]
    },
    {
      "cell_type": "markdown",
      "metadata": {
        "id": "mGpOpHg8n9nA",
        "colab_type": "text"
      },
      "source": [
        "# 7.\tVIVA LA VINO\n",
        "\n"
      ]
    },
    {
      "cell_type": "markdown",
      "metadata": {
        "id": "FCjzX2SOsrFm",
        "colab_type": "text"
      },
      "source": [
        "Some Smith faculty have started a wine club. At each meeting, members of the club perform blind taste tests of different wine varietals. Members indicate how much they enjoy each varietal, using an integer scale of 1 (worst) to 7 (best). After the most recent meeting, here are the ratings.\n",
        "\n",
        "|  |Zin    | Pinot Noir | Chard | Merlot | Cab | Pinot Gris |  \n",
        "|--------|------------|-------|--------|-----|------------|---|\n",
        "| Yuri   | 7          | 6     | 7      | 4   | 5          | 4 |\n",
        "| Steve  |            | 7     | 6      | 4   | 3          | 4 |\n",
        "| Gary   | 3          | 3     | 3      | 1   | 1          | 5 |\n",
        "| Qurat  | 2          | 2     | 1      | 3   | 7          | 4 |\n",
        "| Brigid | 5          | 6     | 7      | 2   | 3          | 3 |\n",
        "\n",
        "Unfortunately, the club ran out of Zin before Steve had a chance to try it. Luckily, the club has you, a data-driven, clever, and charming Queen’s student. Use your skills to predict what Steve would rate Zin. Use user-based collaborative filtering with cosine distance. To predict the rating, find the two nearest neighbors and take the weighted average of their scores of the item in question.\n",
        "Hints:\n",
        "\tRecall that the cosine distance is calculated as  〖dist〗_cos (A,B)=1-(∑_(i=0)^n▒〖A_i B_i 〗)/(√(∑_(i=0)^n▒A_i^2 ) √(∑_(i=0)^n▒B_i^2 ))\n",
        "\tWhen comparing two users, only include items that both users have rated.  For example, to compare Yuri and Steve, the calculation would ignore Zin (since Steve hasn’t rated it) and would be 1-(7*6+6*7+4*4+5*3+4*4)/(√(7^2+6^2+4^2+5^2+4^2 ) √(6^2+7^2+4^2+3^2+4^2 ))=0.021.\n",
        "\tTo find the weighted average of two ratings R1 and R2, which have a distances D1 and D2 respectively, use the formula: Weighted_Average = ((1-D1)*R1 + (1-D2)*R2) / (2-D1 - D2).\n",
        "\tRound the predicted rating to the nearest integer."
      ]
    },
    {
      "cell_type": "markdown",
      "metadata": {
        "id": "p2N1rEz73K2O",
        "colab_type": "text"
      },
      "source": [
        "## 7.1 Answer:"
      ]
    },
    {
      "cell_type": "markdown",
      "metadata": {
        "id": "5ipm7B_D3TWR",
        "colab_type": "text"
      },
      "source": [
        "Here is how I caculate this manually."
      ]
    },
    {
      "cell_type": "code",
      "metadata": {
        "id": "RVHiNvAhoRRc",
        "colab_type": "code",
        "outputId": "1f5c7e51-350c-4b8f-ee3d-4c38036adb00",
        "colab": {
          "base_uri": "https://localhost:8080/"
        }
      },
      "source": [
        "# import a package to find the smallest number\n",
        "from heapq import nsmallest\n",
        "\n",
        "# create the table\n",
        "dict_df={\"Zin\":[7,np.nan,3,2,5],\n",
        "        \"Pinot\":[6,7,3,2,6],\n",
        "        \"Chard\":[7,6,3,1,7],\n",
        "        \"Merlot\":[4,4,1,3,2],\n",
        "        \"Cab\":[5,3,1,7,3],\n",
        "        \"Pinot Gris\":[4,4,5,4,3]}\n",
        "df_club=pd.DataFrame(dict_df)\n",
        "df_club.index=['Yuri',\"Steve\",\"Gary\",\"Qurat\",\"Brigid\"]\n",
        "\n",
        "# slice the table to remove the column Zin\n",
        "df_without_zin=df_club.iloc[:,1:]\n",
        "\n",
        "# define a function to caculate the distance\n",
        "def dist_cos(A,B):\n",
        "  '''Caculate the cosine distance'''\n",
        "  result=1-sum(A*B)/((sum(A**2))**0.5*(sum(B**2))**0.5)\n",
        "  return result\n",
        "\n",
        "# create a dictionary to save the distance value\n",
        "dict_dist={}\n",
        "for i in ['Yuri',\"Gary\",\"Qurat\",\"Brigid\"]:\n",
        "  dict_dist[i]=dist_cos(df_without_zin.loc[i],df_without_zin.loc['Steve'])\n",
        "\n",
        "# find the dictionary key of the 2 smallest value\n",
        "two_smallest_distance=nsmallest(2,dict_dist,key=dict_dist.get)\n",
        "\n",
        "# caculate the rating\n",
        "rating=int(round(((1-dict_dist[two_smallest_distance[0]])*df_club.loc[two_smallest_distance[0],'Zin']+(1-dict_dist[two_smallest_distance[1]])*df_club.loc[two_smallest_distance[1],'Zin'])/(2-dict_dist[two_smallest_distance[0]]-dict_dist[two_smallest_distance[1]])))\n",
        "rating"
      ],
      "execution_count": 0,
      "outputs": [
        {
          "output_type": "execute_result",
          "data": {
            "text/plain": [
              "6"
            ]
          },
          "metadata": {
            "tags": []
          },
          "execution_count": 20
        }
      ]
    },
    {
      "cell_type": "markdown",
      "metadata": {
        "id": "nybiwo7e498b",
        "colab_type": "text"
      },
      "source": [
        "So, my prediction is 6."
      ]
    },
    {
      "cell_type": "markdown",
      "metadata": {
        "id": "HUIjHIxToIbY",
        "colab_type": "text"
      },
      "source": [
        "# 8.\tYUM, ORANGE JUICE!\n"
      ]
    },
    {
      "cell_type": "markdown",
      "metadata": {
        "id": "8pdmb0hqsxZB",
        "colab_type": "text"
      },
      "source": [
        "[For this question, please answer the parts below in English, and also turn in your code. Your code should be submitted as a notebook – either a Python Jupyter Notebook (.ipynb) or an R Markdown file (.Rmd), along with a PDF rendering of the notebook.]\n",
        "One cup of fresh orange juice has 124 mg of vitamin C, which is 200% of the recommended daily intake of vitamin C for an adult. With this as (completely unrelated) motivation, build a model to predict whether a grocery store customer will Purchase Citrus Hill (CH) or Minute Maid (MM) orange juice.\n"
      ]
    },
    {
      "cell_type": "markdown",
      "metadata": {
        "id": "j3mMl1upoqyu",
        "colab_type": "text"
      },
      "source": [
        "## 8.1 Coding part"
      ]
    },
    {
      "cell_type": "markdown",
      "metadata": {
        "id": "40M-E1EyvRnN",
        "colab_type": "text"
      },
      "source": [
        "### Load data"
      ]
    },
    {
      "cell_type": "code",
      "metadata": {
        "id": "-4IFPH1DovGH",
        "colab_type": "code",
        "outputId": "a088c61f-d799-4233-e243-f6da1e9cdc99",
        "colab": {
          "base_uri": "https://localhost:8080/"
        }
      },
      "source": [
        "df8 = pd.read_csv(\"/content/drive/My Drive/MMA/MMA869/OJ.CSV\")\n",
        "df8.head()\n",
        "df8.info()\n",
        "\n"
      ],
      "execution_count": 0,
      "outputs": [
        {
          "output_type": "execute_result",
          "data": {
            "text/html": [
              "<div>\n",
              "<style scoped>\n",
              "    .dataframe tbody tr th:only-of-type {\n",
              "        vertical-align: middle;\n",
              "    }\n",
              "\n",
              "    .dataframe tbody tr th {\n",
              "        vertical-align: top;\n",
              "    }\n",
              "\n",
              "    .dataframe thead th {\n",
              "        text-align: right;\n",
              "    }\n",
              "</style>\n",
              "<table border=\"1\" class=\"dataframe\">\n",
              "  <thead>\n",
              "    <tr style=\"text-align: right;\">\n",
              "      <th></th>\n",
              "      <th>Unnamed: 0</th>\n",
              "      <th>Purchase</th>\n",
              "      <th>WeekofPurchase</th>\n",
              "      <th>StoreID</th>\n",
              "      <th>PriceCH</th>\n",
              "      <th>PriceMM</th>\n",
              "      <th>DiscCH</th>\n",
              "      <th>DiscMM</th>\n",
              "      <th>SpecialCH</th>\n",
              "      <th>SpecialMM</th>\n",
              "      <th>LoyalCH</th>\n",
              "      <th>SalePriceMM</th>\n",
              "      <th>SalePriceCH</th>\n",
              "      <th>PriceDiff</th>\n",
              "      <th>Store7</th>\n",
              "      <th>PctDiscMM</th>\n",
              "      <th>PctDiscCH</th>\n",
              "      <th>ListPriceDiff</th>\n",
              "      <th>STORE</th>\n",
              "    </tr>\n",
              "  </thead>\n",
              "  <tbody>\n",
              "    <tr>\n",
              "      <th>0</th>\n",
              "      <td>1</td>\n",
              "      <td>CH</td>\n",
              "      <td>237</td>\n",
              "      <td>1</td>\n",
              "      <td>1.75</td>\n",
              "      <td>1.99</td>\n",
              "      <td>0.00</td>\n",
              "      <td>0.0</td>\n",
              "      <td>0</td>\n",
              "      <td>0</td>\n",
              "      <td>0.500000</td>\n",
              "      <td>1.99</td>\n",
              "      <td>1.75</td>\n",
              "      <td>0.24</td>\n",
              "      <td>No</td>\n",
              "      <td>0.000000</td>\n",
              "      <td>0.000000</td>\n",
              "      <td>0.24</td>\n",
              "      <td>1</td>\n",
              "    </tr>\n",
              "    <tr>\n",
              "      <th>1</th>\n",
              "      <td>2</td>\n",
              "      <td>CH</td>\n",
              "      <td>239</td>\n",
              "      <td>1</td>\n",
              "      <td>1.75</td>\n",
              "      <td>1.99</td>\n",
              "      <td>0.00</td>\n",
              "      <td>0.3</td>\n",
              "      <td>0</td>\n",
              "      <td>1</td>\n",
              "      <td>0.600000</td>\n",
              "      <td>1.69</td>\n",
              "      <td>1.75</td>\n",
              "      <td>-0.06</td>\n",
              "      <td>No</td>\n",
              "      <td>0.150754</td>\n",
              "      <td>0.000000</td>\n",
              "      <td>0.24</td>\n",
              "      <td>1</td>\n",
              "    </tr>\n",
              "    <tr>\n",
              "      <th>2</th>\n",
              "      <td>3</td>\n",
              "      <td>CH</td>\n",
              "      <td>245</td>\n",
              "      <td>1</td>\n",
              "      <td>1.86</td>\n",
              "      <td>2.09</td>\n",
              "      <td>0.17</td>\n",
              "      <td>0.0</td>\n",
              "      <td>0</td>\n",
              "      <td>0</td>\n",
              "      <td>0.680000</td>\n",
              "      <td>2.09</td>\n",
              "      <td>1.69</td>\n",
              "      <td>0.40</td>\n",
              "      <td>No</td>\n",
              "      <td>0.000000</td>\n",
              "      <td>0.091398</td>\n",
              "      <td>0.23</td>\n",
              "      <td>1</td>\n",
              "    </tr>\n",
              "    <tr>\n",
              "      <th>3</th>\n",
              "      <td>4</td>\n",
              "      <td>MM</td>\n",
              "      <td>227</td>\n",
              "      <td>1</td>\n",
              "      <td>1.69</td>\n",
              "      <td>1.69</td>\n",
              "      <td>0.00</td>\n",
              "      <td>0.0</td>\n",
              "      <td>0</td>\n",
              "      <td>0</td>\n",
              "      <td>0.400000</td>\n",
              "      <td>1.69</td>\n",
              "      <td>1.69</td>\n",
              "      <td>0.00</td>\n",
              "      <td>No</td>\n",
              "      <td>0.000000</td>\n",
              "      <td>0.000000</td>\n",
              "      <td>0.00</td>\n",
              "      <td>1</td>\n",
              "    </tr>\n",
              "    <tr>\n",
              "      <th>4</th>\n",
              "      <td>5</td>\n",
              "      <td>CH</td>\n",
              "      <td>228</td>\n",
              "      <td>7</td>\n",
              "      <td>1.69</td>\n",
              "      <td>1.69</td>\n",
              "      <td>0.00</td>\n",
              "      <td>0.0</td>\n",
              "      <td>0</td>\n",
              "      <td>0</td>\n",
              "      <td>0.956535</td>\n",
              "      <td>1.69</td>\n",
              "      <td>1.69</td>\n",
              "      <td>0.00</td>\n",
              "      <td>Yes</td>\n",
              "      <td>0.000000</td>\n",
              "      <td>0.000000</td>\n",
              "      <td>0.00</td>\n",
              "      <td>0</td>\n",
              "    </tr>\n",
              "  </tbody>\n",
              "</table>\n",
              "</div>"
            ],
            "text/plain": [
              "   Unnamed: 0 Purchase  WeekofPurchase  StoreID  PriceCH  PriceMM  DiscCH  \\\n",
              "0           1       CH             237        1     1.75     1.99    0.00   \n",
              "1           2       CH             239        1     1.75     1.99    0.00   \n",
              "2           3       CH             245        1     1.86     2.09    0.17   \n",
              "3           4       MM             227        1     1.69     1.69    0.00   \n",
              "4           5       CH             228        7     1.69     1.69    0.00   \n",
              "\n",
              "   DiscMM  SpecialCH  SpecialMM   LoyalCH  SalePriceMM  SalePriceCH  \\\n",
              "0     0.0          0          0  0.500000         1.99         1.75   \n",
              "1     0.3          0          1  0.600000         1.69         1.75   \n",
              "2     0.0          0          0  0.680000         2.09         1.69   \n",
              "3     0.0          0          0  0.400000         1.69         1.69   \n",
              "4     0.0          0          0  0.956535         1.69         1.69   \n",
              "\n",
              "   PriceDiff Store7  PctDiscMM  PctDiscCH  ListPriceDiff  STORE  \n",
              "0       0.24     No   0.000000   0.000000           0.24      1  \n",
              "1      -0.06     No   0.150754   0.000000           0.24      1  \n",
              "2       0.40     No   0.000000   0.091398           0.23      1  \n",
              "3       0.00     No   0.000000   0.000000           0.00      1  \n",
              "4       0.00    Yes   0.000000   0.000000           0.00      0  "
            ]
          },
          "metadata": {
            "tags": []
          },
          "execution_count": 21
        },
        {
          "output_type": "stream",
          "text": [
            "<class 'pandas.core.frame.DataFrame'>\n",
            "RangeIndex: 1070 entries, 0 to 1069\n",
            "Data columns (total 19 columns):\n",
            "Unnamed: 0        1070 non-null int64\n",
            "Purchase          1070 non-null object\n",
            "WeekofPurchase    1070 non-null int64\n",
            "StoreID           1070 non-null int64\n",
            "PriceCH           1070 non-null float64\n",
            "PriceMM           1070 non-null float64\n",
            "DiscCH            1070 non-null float64\n",
            "DiscMM            1070 non-null float64\n",
            "SpecialCH         1070 non-null int64\n",
            "SpecialMM         1070 non-null int64\n",
            "LoyalCH           1070 non-null float64\n",
            "SalePriceMM       1070 non-null float64\n",
            "SalePriceCH       1070 non-null float64\n",
            "PriceDiff         1070 non-null float64\n",
            "Store7            1070 non-null object\n",
            "PctDiscMM         1070 non-null float64\n",
            "PctDiscCH         1070 non-null float64\n",
            "ListPriceDiff     1070 non-null float64\n",
            "STORE             1070 non-null int64\n",
            "dtypes: float64(11), int64(6), object(2)\n",
            "memory usage: 158.9+ KB\n"
          ],
          "name": "stdout"
        }
      ]
    },
    {
      "cell_type": "markdown",
      "metadata": {
        "id": "PTCkEB8SVVlW",
        "colab_type": "text"
      },
      "source": [
        "### preprocess the data"
      ]
    },
    {
      "cell_type": "code",
      "metadata": {
        "id": "uQDXC4YqIuf-",
        "colab_type": "code",
        "outputId": "57978c8b-55c0-4adc-c45a-60600a46f4de",
        "colab": {
          "base_uri": "https://localhost:8080/",
          "height": 467
        }
      },
      "source": [
        "df8.WeekofPurchase=df8.WeekofPurchase.apply(str)\n",
        "df8.StoreID=df8.StoreID.apply(str)\n",
        "df8.STORE=df8.STORE.apply(str)\n",
        "df8['Store7_dummy']=np.where(df8.Store7=='Yes',1,0)\n",
        "df8.info()"
      ],
      "execution_count": 0,
      "outputs": [
        {
          "output_type": "stream",
          "text": [
            "<class 'pandas.core.frame.DataFrame'>\n",
            "RangeIndex: 1070 entries, 0 to 1069\n",
            "Data columns (total 20 columns):\n",
            "Unnamed: 0        1070 non-null int64\n",
            "Purchase          1070 non-null object\n",
            "WeekofPurchase    1070 non-null object\n",
            "StoreID           1070 non-null object\n",
            "PriceCH           1070 non-null float64\n",
            "PriceMM           1070 non-null float64\n",
            "DiscCH            1070 non-null float64\n",
            "DiscMM            1070 non-null float64\n",
            "SpecialCH         1070 non-null int64\n",
            "SpecialMM         1070 non-null int64\n",
            "LoyalCH           1070 non-null float64\n",
            "SalePriceMM       1070 non-null float64\n",
            "SalePriceCH       1070 non-null float64\n",
            "PriceDiff         1070 non-null float64\n",
            "Store7            1070 non-null object\n",
            "PctDiscMM         1070 non-null float64\n",
            "PctDiscCH         1070 non-null float64\n",
            "ListPriceDiff     1070 non-null float64\n",
            "STORE             1070 non-null object\n",
            "Store7_dummy      1070 non-null int64\n",
            "dtypes: float64(11), int64(4), object(5)\n",
            "memory usage: 167.3+ KB\n"
          ],
          "name": "stdout"
        }
      ]
    },
    {
      "cell_type": "code",
      "metadata": {
        "id": "ZEvs0vmmUUZu",
        "colab_type": "code",
        "outputId": "32e3b78c-88d2-4ad0-f369-7b53e1918d27",
        "colab": {
          "base_uri": "https://localhost:8080/",
          "height": 576
        }
      },
      "source": [
        "corr=df8.corr()\n",
        "corr_triu = corr.where(~np.tril(np.ones(corr.shape)).astype(np.bool))\n",
        "corr_triu = corr_triu.stack()\n",
        "corr_triu.name = 'Pearson Correlation Coefficient'\n",
        "corr_triu.index.names = ['Col1', 'Col2']\n",
        "corr_triu[(corr_triu > 0.5) | (corr_triu < -0.5) ].to_frame()"
      ],
      "execution_count": 0,
      "outputs": [
        {
          "output_type": "execute_result",
          "data": {
            "text/html": [
              "<div>\n",
              "<style scoped>\n",
              "    .dataframe tbody tr th:only-of-type {\n",
              "        vertical-align: middle;\n",
              "    }\n",
              "\n",
              "    .dataframe tbody tr th {\n",
              "        vertical-align: top;\n",
              "    }\n",
              "\n",
              "    .dataframe thead th {\n",
              "        text-align: right;\n",
              "    }\n",
              "</style>\n",
              "<table border=\"1\" class=\"dataframe\">\n",
              "  <thead>\n",
              "    <tr style=\"text-align: right;\">\n",
              "      <th></th>\n",
              "      <th></th>\n",
              "      <th>Pearson Correlation Coefficient</th>\n",
              "    </tr>\n",
              "    <tr>\n",
              "      <th>Col1</th>\n",
              "      <th>Col2</th>\n",
              "      <th></th>\n",
              "    </tr>\n",
              "  </thead>\n",
              "  <tbody>\n",
              "    <tr>\n",
              "      <th rowspan=\"2\" valign=\"top\">PriceCH</th>\n",
              "      <th>PriceMM</th>\n",
              "      <td>0.616402</td>\n",
              "    </tr>\n",
              "    <tr>\n",
              "      <th>SalePriceCH</th>\n",
              "      <td>0.586716</td>\n",
              "    </tr>\n",
              "    <tr>\n",
              "      <th rowspan=\"2\" valign=\"top\">PriceMM</th>\n",
              "      <th>SalePriceMM</th>\n",
              "      <td>0.532859</td>\n",
              "    </tr>\n",
              "    <tr>\n",
              "      <th>ListPriceDiff</th>\n",
              "      <td>0.665187</td>\n",
              "    </tr>\n",
              "    <tr>\n",
              "      <th rowspan=\"3\" valign=\"top\">DiscCH</th>\n",
              "      <th>SpecialCH</th>\n",
              "      <td>0.534775</td>\n",
              "    </tr>\n",
              "    <tr>\n",
              "      <th>SalePriceCH</th>\n",
              "      <td>-0.711274</td>\n",
              "    </tr>\n",
              "    <tr>\n",
              "      <th>PctDiscCH</th>\n",
              "      <td>0.999022</td>\n",
              "    </tr>\n",
              "    <tr>\n",
              "      <th rowspan=\"3\" valign=\"top\">DiscMM</th>\n",
              "      <th>SalePriceMM</th>\n",
              "      <td>-0.846868</td>\n",
              "    </tr>\n",
              "    <tr>\n",
              "      <th>PriceDiff</th>\n",
              "      <td>-0.823908</td>\n",
              "    </tr>\n",
              "    <tr>\n",
              "      <th>PctDiscMM</th>\n",
              "      <td>0.998793</td>\n",
              "    </tr>\n",
              "    <tr>\n",
              "      <th rowspan=\"2\" valign=\"top\">SpecialCH</th>\n",
              "      <th>SalePriceCH</th>\n",
              "      <td>-0.508586</td>\n",
              "    </tr>\n",
              "    <tr>\n",
              "      <th>PctDiscCH</th>\n",
              "      <td>0.549015</td>\n",
              "    </tr>\n",
              "    <tr>\n",
              "      <th rowspan=\"2\" valign=\"top\">SalePriceMM</th>\n",
              "      <th>PriceDiff</th>\n",
              "      <td>0.852798</td>\n",
              "    </tr>\n",
              "    <tr>\n",
              "      <th>PctDiscMM</th>\n",
              "      <td>-0.856749</td>\n",
              "    </tr>\n",
              "    <tr>\n",
              "      <th>SalePriceCH</th>\n",
              "      <th>PctDiscCH</th>\n",
              "      <td>-0.722776</td>\n",
              "    </tr>\n",
              "    <tr>\n",
              "      <th>PriceDiff</th>\n",
              "      <th>PctDiscMM</th>\n",
              "      <td>-0.828097</td>\n",
              "    </tr>\n",
              "  </tbody>\n",
              "</table>\n",
              "</div>"
            ],
            "text/plain": [
              "                           Pearson Correlation Coefficient\n",
              "Col1        Col2                                          \n",
              "PriceCH     PriceMM                               0.616402\n",
              "            SalePriceCH                           0.586716\n",
              "PriceMM     SalePriceMM                           0.532859\n",
              "            ListPriceDiff                         0.665187\n",
              "DiscCH      SpecialCH                             0.534775\n",
              "            SalePriceCH                          -0.711274\n",
              "            PctDiscCH                             0.999022\n",
              "DiscMM      SalePriceMM                          -0.846868\n",
              "            PriceDiff                            -0.823908\n",
              "            PctDiscMM                             0.998793\n",
              "SpecialCH   SalePriceCH                          -0.508586\n",
              "            PctDiscCH                             0.549015\n",
              "SalePriceMM PriceDiff                             0.852798\n",
              "            PctDiscMM                            -0.856749\n",
              "SalePriceCH PctDiscCH                            -0.722776\n",
              "PriceDiff   PctDiscMM                            -0.828097"
            ]
          },
          "metadata": {
            "tags": []
          },
          "execution_count": 23
        }
      ]
    },
    {
      "cell_type": "markdown",
      "metadata": {
        "id": "ffZZaQOvWESB",
        "colab_type": "text"
      },
      "source": [
        "Because the correlation between DiscCH and PctDiscCH and the correlation between DiscMM and PctDiscMM are extremely high (almost 1), so I deceide to drop PctDiscMM and PctDiscCH. Also, I will drop PriceDiff, SalePriceCH and SalePriceMM, since the correlation coefficient is high."
      ]
    },
    {
      "cell_type": "code",
      "metadata": {
        "id": "GPWI6oNhWpfi",
        "colab_type": "code",
        "colab": {}
      },
      "source": [
        "features=['WeekofPurchase','StoreID','PriceCH','PriceMM','DiscCH','DiscMM','SpecialCH','SpecialMM','LoyalCH', 'Store7_dummy','ListPriceDiff','STORE']\n",
        "X=df8[features]\n",
        "df8['Purchase_dummy']=np.where(df8['Purchase']=='CH',1,0)\n",
        "y=df8['Purchase_dummy']"
      ],
      "execution_count": 0,
      "outputs": []
    },
    {
      "cell_type": "code",
      "metadata": {
        "id": "D3AEAEm0pBU2",
        "colab_type": "code",
        "outputId": "fb2444f7-08b3-426a-fd62-918b1bf0c2e0",
        "colab": {
          "base_uri": "https://localhost:8080/",
          "height": 173
        }
      },
      "source": [
        "corr=X.corr()\n",
        "corr_triu = corr.where(~np.tril(np.ones(corr.shape)).astype(np.bool))\n",
        "corr_triu = corr_triu.stack()\n",
        "corr_triu.name = 'Pearson Correlation Coefficient'\n",
        "corr_triu.index.names = ['Col1', 'Col2']\n",
        "corr_triu[(corr_triu > 0.5) | (corr_triu < -0.5) ].to_frame()"
      ],
      "execution_count": 0,
      "outputs": [
        {
          "output_type": "execute_result",
          "data": {
            "text/html": [
              "<div>\n",
              "<style scoped>\n",
              "    .dataframe tbody tr th:only-of-type {\n",
              "        vertical-align: middle;\n",
              "    }\n",
              "\n",
              "    .dataframe tbody tr th {\n",
              "        vertical-align: top;\n",
              "    }\n",
              "\n",
              "    .dataframe thead th {\n",
              "        text-align: right;\n",
              "    }\n",
              "</style>\n",
              "<table border=\"1\" class=\"dataframe\">\n",
              "  <thead>\n",
              "    <tr style=\"text-align: right;\">\n",
              "      <th></th>\n",
              "      <th></th>\n",
              "      <th>Pearson Correlation Coefficient</th>\n",
              "    </tr>\n",
              "    <tr>\n",
              "      <th>Col1</th>\n",
              "      <th>Col2</th>\n",
              "      <th></th>\n",
              "    </tr>\n",
              "  </thead>\n",
              "  <tbody>\n",
              "    <tr>\n",
              "      <th>PriceCH</th>\n",
              "      <th>PriceMM</th>\n",
              "      <td>0.616402</td>\n",
              "    </tr>\n",
              "    <tr>\n",
              "      <th>PriceMM</th>\n",
              "      <th>ListPriceDiff</th>\n",
              "      <td>0.665187</td>\n",
              "    </tr>\n",
              "    <tr>\n",
              "      <th>DiscCH</th>\n",
              "      <th>SpecialCH</th>\n",
              "      <td>0.534775</td>\n",
              "    </tr>\n",
              "  </tbody>\n",
              "</table>\n",
              "</div>"
            ],
            "text/plain": [
              "                       Pearson Correlation Coefficient\n",
              "Col1    Col2                                          \n",
              "PriceCH PriceMM                               0.616402\n",
              "PriceMM ListPriceDiff                         0.665187\n",
              "DiscCH  SpecialCH                             0.534775"
            ]
          },
          "metadata": {
            "tags": []
          },
          "execution_count": 25
        }
      ]
    },
    {
      "cell_type": "code",
      "metadata": {
        "id": "yzQlHpjSUXy7",
        "colab_type": "code",
        "outputId": "36923e3e-8a3d-4437-9534-c792911494b3",
        "colab": {
          "base_uri": "https://localhost:8080/",
          "height": 420
        }
      },
      "source": [
        "features_to_be_scaled = ['PriceCH', 'PriceMM', 'DiscCH', 'DiscMM','LoyalCH', 'ListPriceDiff']\n",
        "# Separating out the features\n",
        "\n",
        "X[features_to_be_scaled] = StandardScaler().fit_transform(X[features_to_be_scaled])\n",
        "X.head()"
      ],
      "execution_count": 0,
      "outputs": [
        {
          "output_type": "stream",
          "text": [
            "/usr/local/lib/python3.6/dist-packages/ipykernel_launcher.py:4: SettingWithCopyWarning: \n",
            "A value is trying to be set on a copy of a slice from a DataFrame.\n",
            "Try using .loc[row_indexer,col_indexer] = value instead\n",
            "\n",
            "See the caveats in the documentation: http://pandas.pydata.org/pandas-docs/stable/indexing.html#indexing-view-versus-copy\n",
            "  after removing the cwd from sys.path.\n",
            "/usr/local/lib/python3.6/dist-packages/pandas/core/indexing.py:543: SettingWithCopyWarning: \n",
            "A value is trying to be set on a copy of a slice from a DataFrame.\n",
            "Try using .loc[row_indexer,col_indexer] = value instead\n",
            "\n",
            "See the caveats in the documentation: http://pandas.pydata.org/pandas-docs/stable/indexing.html#indexing-view-versus-copy\n",
            "  self.obj[item] = s\n"
          ],
          "name": "stderr"
        },
        {
          "output_type": "execute_result",
          "data": {
            "text/html": [
              "<div>\n",
              "<style scoped>\n",
              "    .dataframe tbody tr th:only-of-type {\n",
              "        vertical-align: middle;\n",
              "    }\n",
              "\n",
              "    .dataframe tbody tr th {\n",
              "        vertical-align: top;\n",
              "    }\n",
              "\n",
              "    .dataframe thead th {\n",
              "        text-align: right;\n",
              "    }\n",
              "</style>\n",
              "<table border=\"1\" class=\"dataframe\">\n",
              "  <thead>\n",
              "    <tr style=\"text-align: right;\">\n",
              "      <th></th>\n",
              "      <th>WeekofPurchase</th>\n",
              "      <th>StoreID</th>\n",
              "      <th>PriceCH</th>\n",
              "      <th>PriceMM</th>\n",
              "      <th>DiscCH</th>\n",
              "      <th>DiscMM</th>\n",
              "      <th>SpecialCH</th>\n",
              "      <th>SpecialMM</th>\n",
              "      <th>LoyalCH</th>\n",
              "      <th>Store7_dummy</th>\n",
              "      <th>ListPriceDiff</th>\n",
              "      <th>STORE</th>\n",
              "    </tr>\n",
              "  </thead>\n",
              "  <tbody>\n",
              "    <tr>\n",
              "      <th>0</th>\n",
              "      <td>237</td>\n",
              "      <td>1</td>\n",
              "      <td>-1.152062</td>\n",
              "      <td>-0.710313</td>\n",
              "      <td>-0.441664</td>\n",
              "      <td>-0.577188</td>\n",
              "      <td>0</td>\n",
              "      <td>0</td>\n",
              "      <td>-0.213788</td>\n",
              "      <td>0</td>\n",
              "      <td>0.204766</td>\n",
              "      <td>1</td>\n",
              "    </tr>\n",
              "    <tr>\n",
              "      <th>1</th>\n",
              "      <td>239</td>\n",
              "      <td>1</td>\n",
              "      <td>-1.152062</td>\n",
              "      <td>-0.710313</td>\n",
              "      <td>-0.441664</td>\n",
              "      <td>0.826428</td>\n",
              "      <td>0</td>\n",
              "      <td>1</td>\n",
              "      <td>0.111205</td>\n",
              "      <td>0</td>\n",
              "      <td>0.204766</td>\n",
              "      <td>1</td>\n",
              "    </tr>\n",
              "    <tr>\n",
              "      <th>2</th>\n",
              "      <td>245</td>\n",
              "      <td>1</td>\n",
              "      <td>-0.072806</td>\n",
              "      <td>0.034162</td>\n",
              "      <td>1.006140</td>\n",
              "      <td>-0.577188</td>\n",
              "      <td>0</td>\n",
              "      <td>0</td>\n",
              "      <td>0.371200</td>\n",
              "      <td>0</td>\n",
              "      <td>0.111730</td>\n",
              "      <td>1</td>\n",
              "    </tr>\n",
              "    <tr>\n",
              "      <th>3</th>\n",
              "      <td>227</td>\n",
              "      <td>1</td>\n",
              "      <td>-1.740747</td>\n",
              "      <td>-2.943741</td>\n",
              "      <td>-0.441664</td>\n",
              "      <td>-0.577188</td>\n",
              "      <td>0</td>\n",
              "      <td>0</td>\n",
              "      <td>-0.538781</td>\n",
              "      <td>0</td>\n",
              "      <td>-2.028100</td>\n",
              "      <td>1</td>\n",
              "    </tr>\n",
              "    <tr>\n",
              "      <th>4</th>\n",
              "      <td>228</td>\n",
              "      <td>7</td>\n",
              "      <td>-1.740747</td>\n",
              "      <td>-2.943741</td>\n",
              "      <td>-0.441664</td>\n",
              "      <td>-0.577188</td>\n",
              "      <td>0</td>\n",
              "      <td>0</td>\n",
              "      <td>1.269920</td>\n",
              "      <td>1</td>\n",
              "      <td>-2.028100</td>\n",
              "      <td>0</td>\n",
              "    </tr>\n",
              "  </tbody>\n",
              "</table>\n",
              "</div>"
            ],
            "text/plain": [
              "  WeekofPurchase StoreID   PriceCH   PriceMM    DiscCH    DiscMM  SpecialCH  \\\n",
              "0            237       1 -1.152062 -0.710313 -0.441664 -0.577188          0   \n",
              "1            239       1 -1.152062 -0.710313 -0.441664  0.826428          0   \n",
              "2            245       1 -0.072806  0.034162  1.006140 -0.577188          0   \n",
              "3            227       1 -1.740747 -2.943741 -0.441664 -0.577188          0   \n",
              "4            228       7 -1.740747 -2.943741 -0.441664 -0.577188          0   \n",
              "\n",
              "   SpecialMM   LoyalCH  Store7_dummy  ListPriceDiff STORE  \n",
              "0          0 -0.213788             0       0.204766     1  \n",
              "1          1  0.111205             0       0.204766     1  \n",
              "2          0  0.371200             0       0.111730     1  \n",
              "3          0 -0.538781             0      -2.028100     1  \n",
              "4          0  1.269920             1      -2.028100     0  "
            ]
          },
          "metadata": {
            "tags": []
          },
          "execution_count": 27
        }
      ]
    },
    {
      "cell_type": "markdown",
      "metadata": {
        "id": "rNsxVJP50kSJ",
        "colab_type": "text"
      },
      "source": [
        "### Split data into test and train"
      ]
    },
    {
      "cell_type": "code",
      "metadata": {
        "id": "nMXXBdTWYUt2",
        "colab_type": "code",
        "outputId": "0f0512cc-7f93-48f6-911e-5ea0880a2797",
        "colab": {
          "base_uri": "https://localhost:8080/",
          "height": 35
        }
      },
      "source": [
        "sum(y)/len(y) # check the ratio of True in target"
      ],
      "execution_count": 0,
      "outputs": [
        {
          "output_type": "execute_result",
          "data": {
            "text/plain": [
              "0.6102803738317757"
            ]
          },
          "metadata": {
            "tags": []
          },
          "execution_count": 28
        }
      ]
    },
    {
      "cell_type": "code",
      "metadata": {
        "id": "sr3zS8Km0qjh",
        "colab_type": "code",
        "colab": {}
      },
      "source": [
        "from sklearn.model_selection import train_test_split\n",
        "X_train, X_test, y_train, y_test = train_test_split(X, y, test_size=0.2, random_state=1120)\n"
      ],
      "execution_count": 0,
      "outputs": []
    },
    {
      "cell_type": "markdown",
      "metadata": {
        "id": "umOTMtAECu3G",
        "colab_type": "text"
      },
      "source": [
        "### Define a function to measure the score"
      ]
    },
    {
      "cell_type": "code",
      "metadata": {
        "id": "_TWnUYTtC39i",
        "colab_type": "code",
        "colab": {}
      },
      "source": [
        "from sklearn.metrics import accuracy_score, cohen_kappa_score, f1_score, log_loss,roc_auc_score,precision_score,recall_score\n",
        "def score_list(predicion,y_test=y_test):\n",
        "  '''this function will print Accurarcy, Kappa, F1 score, Log Loss and AUC'''\n",
        "  print('\\n ****************************')\n",
        "  print(\"Accuracy = {:.2f}\".format(accuracy_score(y_test, predicion)))\n",
        "  print(\"F1 Score = {:.2f}\".format(f1_score(y_test, predicion)))\n",
        "  print(\"AUC = {:.2f}\".format(roc_auc_score(y_test, predicion)))\n",
        "  print(\"Precision = {:.2f}\".format(precision_score(y_test, predicion)))\n",
        "  print(\"Recall = {:.2f}\".format(recall_score(y_test, predicion)))\n",
        "  print('**************************** \\n')"
      ],
      "execution_count": 0,
      "outputs": []
    },
    {
      "cell_type": "markdown",
      "metadata": {
        "id": "Opf-10cg1sgZ",
        "colab_type": "text"
      },
      "source": [
        "### Five models"
      ]
    },
    {
      "cell_type": "markdown",
      "metadata": {
        "id": "2CjIhL0o1yXP",
        "colab_type": "text"
      },
      "source": [
        "#### Decision Trees"
      ]
    },
    {
      "cell_type": "code",
      "metadata": {
        "id": "hJqm5KOq3eWn",
        "colab_type": "code",
        "outputId": "e8515916-f605-4273-c1a4-04e6efbc6602",
        "colab": {
          "base_uri": "https://localhost:8080/",
          "height": 557
        }
      },
      "source": [
        "from sklearn.model_selection import GridSearchCV\n",
        "from sklearn.tree import DecisionTreeClassifier\n",
        "\n",
        "# build model using grid search with 5Fold Cross validation to train and test\n",
        "treeclf = DecisionTreeClassifier(splitter='best', presort=True, class_weight=None, random_state=42)\n",
        "parameters = {'criterion':('gini', 'entropy'), 'max_depth':[2, 4, 6, 8, 10], 'min_samples_split':[2, 10, 50], 'min_samples_leaf':[1, 5, 10],\n",
        "             'max_features':[None, 'auto'], 'max_leaf_nodes':[None, 5, 10, 50], 'min_impurity_decrease':[0, 0.1, 0.2]}\n",
        "cv_clf = GridSearchCV(treeclf, parameters, scoring='roc_auc', cv=5, return_train_score=True)\n",
        "cv_clf.fit(X_train, y_train)\n",
        "\n",
        "# predict on test data\n",
        "y_pred_dt_cv = cv_clf.predict(X_test)\n",
        "\n",
        "# print the score with the function defined myself\n",
        "score_list(y_pred_dt_cv)"
      ],
      "execution_count": 0,
      "outputs": [
        {
          "output_type": "execute_result",
          "data": {
            "text/plain": [
              "GridSearchCV(cv=5, error_score='raise-deprecating',\n",
              "             estimator=DecisionTreeClassifier(class_weight=None,\n",
              "                                              criterion='gini', max_depth=None,\n",
              "                                              max_features=None,\n",
              "                                              max_leaf_nodes=None,\n",
              "                                              min_impurity_decrease=0.0,\n",
              "                                              min_impurity_split=None,\n",
              "                                              min_samples_leaf=1,\n",
              "                                              min_samples_split=2,\n",
              "                                              min_weight_fraction_leaf=0.0,\n",
              "                                              presort=True, random_state=42,\n",
              "                                              splitter='best'),\n",
              "             iid='warn', n_jobs=None,\n",
              "             param_grid={'criterion': ('gini', 'entropy'),\n",
              "                         'max_depth': [2, 4, 6, 8, 10],\n",
              "                         'max_features': [None, 'auto'],\n",
              "                         'max_leaf_nodes': [None, 5, 10, 50],\n",
              "                         'min_impurity_decrease': [0, 0.1, 0.2],\n",
              "                         'min_samples_leaf': [1, 5, 10],\n",
              "                         'min_samples_split': [2, 10, 50]},\n",
              "             pre_dispatch='2*n_jobs', refit=True, return_train_score=True,\n",
              "             scoring='roc_auc', verbose=0)"
            ]
          },
          "metadata": {
            "tags": []
          },
          "execution_count": 31
        },
        {
          "output_type": "stream",
          "text": [
            "\n",
            " ****************************\n",
            "Accuracy = 0.75\n",
            "F1 Score = 0.78\n",
            "AUC = 0.75\n",
            "Precision = 0.81\n",
            "Recall = 0.75\n",
            "**************************** \n",
            "\n"
          ],
          "name": "stdout"
        }
      ]
    },
    {
      "cell_type": "markdown",
      "metadata": {
        "id": "s61gsWx25g8Y",
        "colab_type": "text"
      },
      "source": [
        "#### Naive Bayes"
      ]
    },
    {
      "cell_type": "code",
      "metadata": {
        "id": "z-Pv0oeL5mS3",
        "colab_type": "code",
        "outputId": "ff847af9-6763-4598-9b90-ba34b923ce50",
        "colab": {
          "base_uri": "https://localhost:8080/"
        }
      },
      "source": [
        "from sklearn.naive_bayes import GaussianNB\n",
        "\n",
        "# build model using grid search with 5Fold Cross validation to train and test\n",
        "gnb = GaussianNB()\n",
        "parameters = {\"var_smoothing\":[1e-7,1e-8,1e-9,1e-10,1e-11]}\n",
        "cv_gnb = GridSearchCV(gnb, parameters, scoring='roc_auc', cv=5, return_train_score=True)\n",
        "cv_gnb.fit(X_train, y_train)\n",
        "\n",
        "# predict on test data\n",
        "y_pred_gnb_cv = cv_gnb.predict(X_test)\n",
        "\n",
        "# print the score with the function defined myself\n",
        "score_list(y_pred_gnb_cv)"
      ],
      "execution_count": 0,
      "outputs": [
        {
          "output_type": "execute_result",
          "data": {
            "text/plain": [
              "GridSearchCV(cv=5, error_score='raise-deprecating',\n",
              "             estimator=GaussianNB(priors=None, var_smoothing=1e-09), iid='warn',\n",
              "             n_jobs=None,\n",
              "             param_grid={'var_smoothing': [1e-07, 1e-08, 1e-09, 1e-10, 1e-11]},\n",
              "             pre_dispatch='2*n_jobs', refit=True, return_train_score=True,\n",
              "             scoring='roc_auc', verbose=0)"
            ]
          },
          "metadata": {
            "tags": []
          },
          "execution_count": 32
        },
        {
          "output_type": "stream",
          "text": [
            "\n",
            " ****************************\n",
            "Accuracy = 0.75\n",
            "F1 Score = 0.78\n",
            "AUC = 0.75\n",
            "Precision = 0.81\n",
            "Recall = 0.76\n",
            "**************************** \n",
            "\n"
          ],
          "name": "stdout"
        }
      ]
    },
    {
      "cell_type": "markdown",
      "metadata": {
        "id": "GYPN1day5vAQ",
        "colab_type": "text"
      },
      "source": [
        "#### KNN"
      ]
    },
    {
      "cell_type": "code",
      "metadata": {
        "id": "bCg4Wa5T6bzv",
        "colab_type": "code",
        "outputId": "d6a8389d-e366-4c3c-b1d7-167dde2570ef",
        "colab": {
          "base_uri": "https://localhost:8080/"
        }
      },
      "source": [
        "from sklearn.neighbors import KNeighborsClassifier\n",
        "\n",
        "\n",
        "# build model using grid search with 5Fold Cross validation to train and test\n",
        "knn_clf = KNeighborsClassifier()\n",
        "parameters = {\"n_neighbors\":range(2,11)}\n",
        "cv_knn_clf = GridSearchCV(knn_clf, parameters, scoring='roc_auc', cv=5, return_train_score=True)\n",
        "cv_knn_clf.fit(X_train, y_train)\n",
        "\n",
        "# predict on test data\n",
        "y_pred_knn_clf_cv = cv_knn_clf.predict(X_test)\n",
        "\n",
        "# print the score with the function defined myself\n",
        "score_list(y_pred_knn_clf_cv)"
      ],
      "execution_count": 0,
      "outputs": [
        {
          "output_type": "execute_result",
          "data": {
            "text/plain": [
              "GridSearchCV(cv=5, error_score='raise-deprecating',\n",
              "             estimator=KNeighborsClassifier(algorithm='auto', leaf_size=30,\n",
              "                                            metric='minkowski',\n",
              "                                            metric_params=None, n_jobs=None,\n",
              "                                            n_neighbors=5, p=2,\n",
              "                                            weights='uniform'),\n",
              "             iid='warn', n_jobs=None, param_grid={'n_neighbors': range(2, 11)},\n",
              "             pre_dispatch='2*n_jobs', refit=True, return_train_score=True,\n",
              "             scoring='roc_auc', verbose=0)"
            ]
          },
          "metadata": {
            "tags": []
          },
          "execution_count": 33
        },
        {
          "output_type": "stream",
          "text": [
            "\n",
            " ****************************\n",
            "Accuracy = 0.76\n",
            "F1 Score = 0.80\n",
            "AUC = 0.74\n",
            "Precision = 0.77\n",
            "Recall = 0.84\n",
            "**************************** \n",
            "\n"
          ],
          "name": "stdout"
        }
      ]
    },
    {
      "cell_type": "markdown",
      "metadata": {
        "id": "Yvm8tdZm6fZH",
        "colab_type": "text"
      },
      "source": [
        "#### NN"
      ]
    },
    {
      "cell_type": "code",
      "metadata": {
        "id": "Mz3T550W6zJP",
        "colab_type": "code",
        "outputId": "82f81033-6176-4da1-e236-9ac2df129558",
        "colab": {
          "base_uri": "https://localhost:8080/"
        }
      },
      "source": [
        "from sklearn.neural_network import MLPClassifier\n",
        "\n",
        "\n",
        "# build model using grid search with 5Fold Cross validation to train and test\n",
        "nn_clf = MLPClassifier(solver='lbfgs',random_state=1, verbose=False)\n",
        "parameters = {'activation':['logistic','tanh','relu'],'alpha':[0.001,0.003,0.01,0.03,0.1,0.3,1,3],'hidden_layer_sizes':range(2,11)}\n",
        "cv_nn_clf = GridSearchCV(nn_clf, parameters, scoring='roc_auc', cv=5, return_train_score=False)\n",
        "cv_nn_clf.fit(X_train, y_train)\n",
        "\n",
        "# predict on test data\n",
        "y_pred_nn_clf_cv = cv_nn_clf.predict(X_test)\n",
        "\n",
        "# print the score with the function defined myself\n",
        "score_list(y_pred_nn_clf_cv)"
      ],
      "execution_count": 0,
      "outputs": [
        {
          "output_type": "stream",
          "text": [
            "/usr/local/lib/python3.6/dist-packages/sklearn/model_selection/_search.py:814: DeprecationWarning: The default of the `iid` parameter will change from True to False in version 0.22 and will be removed in 0.24. This will change numeric results when test-set sizes are unequal.\n",
            "  DeprecationWarning)\n"
          ],
          "name": "stderr"
        },
        {
          "output_type": "execute_result",
          "data": {
            "text/plain": [
              "GridSearchCV(cv=5, error_score='raise-deprecating',\n",
              "             estimator=MLPClassifier(activation='relu', alpha=0.0001,\n",
              "                                     batch_size='auto', beta_1=0.9,\n",
              "                                     beta_2=0.999, early_stopping=False,\n",
              "                                     epsilon=1e-08, hidden_layer_sizes=(100,),\n",
              "                                     learning_rate='constant',\n",
              "                                     learning_rate_init=0.001, max_iter=200,\n",
              "                                     momentum=0.9, n_iter_no_change=10,\n",
              "                                     nesterovs_momentum=True, power_t=0.5,\n",
              "                                     random_state=1, shuffle=True,\n",
              "                                     solver='lbfgs', tol=0.0001,\n",
              "                                     validation_fraction=0.1, verbose=False,\n",
              "                                     warm_start=False),\n",
              "             iid='warn', n_jobs=None,\n",
              "             param_grid={'activation': ['logistic', 'tanh', 'relu'],\n",
              "                         'alpha': [0.001, 0.003, 0.01, 0.03, 0.1, 0.3, 1, 3],\n",
              "                         'hidden_layer_sizes': range(2, 11)},\n",
              "             pre_dispatch='2*n_jobs', refit=True, return_train_score=False,\n",
              "             scoring='roc_auc', verbose=0)"
            ]
          },
          "metadata": {
            "tags": []
          },
          "execution_count": 34
        },
        {
          "output_type": "stream",
          "text": [
            "\n",
            " ****************************\n",
            "Accuracy = 0.80\n",
            "F1 Score = 0.83\n",
            "AUC = 0.79\n",
            "Precision = 0.83\n",
            "Recall = 0.83\n",
            "**************************** \n",
            "\n"
          ],
          "name": "stdout"
        }
      ]
    },
    {
      "cell_type": "markdown",
      "metadata": {
        "id": "4Ie0Vry88TuO",
        "colab_type": "text"
      },
      "source": [
        "#### Random Forest"
      ]
    },
    {
      "cell_type": "code",
      "metadata": {
        "id": "JrGf9TqL662d",
        "colab_type": "code",
        "outputId": "c4f75013-3779-4c3d-8146-2ed2bec88ed3",
        "colab": {
          "base_uri": "https://localhost:8080/",
          "height": 503
        }
      },
      "source": [
        "from sklearn.ensemble import RandomForestClassifier\n",
        "\n",
        "\n",
        "# build model using grid search with 5Fold Cross validation to train and test\n",
        "rf_clf = RandomForestClassifier(random_state=1120)\n",
        "parameters = {\"n_estimators\":[50,100,200,300],'max_depth':[2,5,8,11]}\n",
        "cv_rf_clf = GridSearchCV(rf_clf, parameters, scoring='roc_auc', cv=5, return_train_score=False)\n",
        "cv_rf_clf.fit(X_train, y_train)\n",
        "\n",
        "# predict on test data\n",
        "y_pred_rf_clf_cv = cv_rf_clf.predict(X_test)\n",
        "\n",
        "# print the score with the function defined myself\n",
        "score_list(y_pred_rf_clf_cv)"
      ],
      "execution_count": 0,
      "outputs": [
        {
          "output_type": "execute_result",
          "data": {
            "text/plain": [
              "GridSearchCV(cv=5, error_score='raise-deprecating',\n",
              "             estimator=RandomForestClassifier(bootstrap=True, class_weight=None,\n",
              "                                              criterion='gini', max_depth=None,\n",
              "                                              max_features='auto',\n",
              "                                              max_leaf_nodes=None,\n",
              "                                              min_impurity_decrease=0.0,\n",
              "                                              min_impurity_split=None,\n",
              "                                              min_samples_leaf=1,\n",
              "                                              min_samples_split=2,\n",
              "                                              min_weight_fraction_leaf=0.0,\n",
              "                                              n_estimators='warn', n_jobs=None,\n",
              "                                              oob_score=False,\n",
              "                                              random_state=1120, verbose=0,\n",
              "                                              warm_start=False),\n",
              "             iid='warn', n_jobs=None,\n",
              "             param_grid={'max_depth': [2, 5, 8, 11],\n",
              "                         'n_estimators': [50, 100, 200, 300]},\n",
              "             pre_dispatch='2*n_jobs', refit=True, return_train_score=False,\n",
              "             scoring='roc_auc', verbose=0)"
            ]
          },
          "metadata": {
            "tags": []
          },
          "execution_count": 35
        },
        {
          "output_type": "stream",
          "text": [
            "\n",
            " ****************************\n",
            "Accuracy = 0.80\n",
            "F1 Score = 0.83\n",
            "AUC = 0.80\n",
            "Precision = 0.84\n",
            "Recall = 0.82\n",
            "**************************** \n",
            "\n"
          ],
          "name": "stdout"
        }
      ]
    },
    {
      "cell_type": "markdown",
      "metadata": {
        "id": "Sh_ra80fo6Op",
        "colab_type": "text"
      },
      "source": [
        "## 8.2 Answer"
      ]
    },
    {
      "cell_type": "markdown",
      "metadata": {
        "id": "9ww-6PLIp4c5",
        "colab_type": "text"
      },
      "source": [
        "#### 1.\tDownload the file OJ.csv. The target feature is Purchase. The rest of the features are self-explanatory, hopefully."
      ]
    },
    {
      "cell_type": "markdown",
      "metadata": {
        "id": "Pu6iRid9qLsX",
        "colab_type": "text"
      },
      "source": [
        "I have downloaded the data and loaded in the coding part."
      ]
    },
    {
      "cell_type": "markdown",
      "metadata": {
        "id": "N0ETWIRGqQUX",
        "colab_type": "text"
      },
      "source": [
        "#### 2.\tPreprocess the data however you see fit. Describe what you did and why."
      ]
    },
    {
      "cell_type": "markdown",
      "metadata": {
        "id": "kQoIcVnwVNL2",
        "colab_type": "text"
      },
      "source": [
        "* I set WeekofPurchase, StoreID and STORE to object in pandas dataframe.\n",
        "* I made a correlation table to check the correlation between each two features. Then I list the correlation coefficients which are larger than 0.5\n",
        "* Because the correlation between DiscCH and PctDiscCH and the correlation between DiscMM and PctDiscMM are extremely high (almost 1), so I deceide to drop PctDiscMM and PctDiscCH. \n",
        "* Also, I drop PriceDiff since the correlation coefficient is high.\n",
        "* I set the target to 1 and 0.\n",
        "\n"
      ]
    },
    {
      "cell_type": "markdown",
      "metadata": {
        "id": "lv3Lg5PTqT0H",
        "colab_type": "text"
      },
      "source": [
        "#### 3.\tSplit the data into training and testing sets. Describe what you did and why."
      ]
    },
    {
      "cell_type": "markdown",
      "metadata": {
        "id": "tGW5baE9YE_9",
        "colab_type": "text"
      },
      "source": [
        "* I check the ratio of true and false in target. Since around 60% is true and 40% is false, I consider this is a balance data.\n",
        "* I just randomly split the data into train and test. The train data is 80% and the test data is 20%\n",
        "* I will use 5-foldcross validation to tune the hyper parameter with train data and test the model with test data."
      ]
    },
    {
      "cell_type": "markdown",
      "metadata": {
        "id": "PzyvATC1qVlH",
        "colab_type": "text"
      },
      "source": [
        "#### 4.\tChoose an appropriate metric to analyze a model’s performance. Justify."
      ]
    },
    {
      "cell_type": "markdown",
      "metadata": {
        "id": "gvpmqK-4Zsv4",
        "colab_type": "text"
      },
      "source": [
        "* I use AUC score to measure the performance\n",
        "* The target is not 60% true and 40% false, I do not want to use accuracy as the measure.\n",
        "* I do not care too much about either specificity or sensitivity.\n",
        "* I may want to know top 10 percent of situations that customer will buy CH.\n",
        "* So, AUC is a good choice in this case."
      ]
    },
    {
      "cell_type": "markdown",
      "metadata": {
        "id": "RyqyV4NlqaC4",
        "colab_type": "text"
      },
      "source": [
        "#### 5.\tBuild five different models, using five different classifier algorithms. (Any five will do.) a.\tTune each model. What were the best parameter values for each model?\n"
      ]
    },
    {
      "cell_type": "markdown",
      "metadata": {
        "id": "vsZY6DZChvoo",
        "colab_type": "text"
      },
      "source": [
        "* I have build 5 different models to test, which are Decvision Trees, Naive Bayes, K-nearest neighbors, neural network and random forest.\n",
        "* For each model, I use grid search with 5-foldcross validation to tune the hyper parameter.\n",
        "* Here are the best parameter values for each model, please check the output below."
      ]
    },
    {
      "cell_type": "code",
      "metadata": {
        "id": "JJIDyDwBf3R6",
        "colab_type": "code",
        "outputId": "7fafee78-ecce-4fe6-897a-a92290ead5c3",
        "colab": {
          "base_uri": "https://localhost:8080/",
          "height": 701
        }
      },
      "source": [
        "print('\\n **** Decision Trees ****')\n",
        "cv_clf.best_estimator_\n",
        "print('\\n')\n",
        "\n",
        "print('\\n **** Naive Bayes ****')\n",
        "cv_gnb.best_estimator_\n",
        "print('\\n')\n",
        "\n",
        "print('\\n **** k-nearest neighbors ****')\n",
        "cv_knn_clf.best_estimator_\n",
        "print('\\n')\n",
        "\n",
        "print('\\n **** neural network ****')\n",
        "cv_nn_clf.best_estimator_\n",
        "print('\\n')\n",
        "\n",
        "print('\\n **** random forest ****')\n",
        "cv_rf_clf.best_estimator_"
      ],
      "execution_count": 0,
      "outputs": [
        {
          "output_type": "stream",
          "text": [
            "\n",
            " **** Decision Trees ****\n"
          ],
          "name": "stdout"
        },
        {
          "output_type": "execute_result",
          "data": {
            "text/plain": [
              "DecisionTreeClassifier(class_weight=None, criterion='gini', max_depth=4,\n",
              "                       max_features=None, max_leaf_nodes=None,\n",
              "                       min_impurity_decrease=0, min_impurity_split=None,\n",
              "                       min_samples_leaf=10, min_samples_split=50,\n",
              "                       min_weight_fraction_leaf=0.0, presort=True,\n",
              "                       random_state=42, splitter='best')"
            ]
          },
          "metadata": {
            "tags": []
          },
          "execution_count": 36
        },
        {
          "output_type": "stream",
          "text": [
            "\n",
            "\n",
            "\n",
            " **** Naive Bayes ****\n"
          ],
          "name": "stdout"
        },
        {
          "output_type": "execute_result",
          "data": {
            "text/plain": [
              "GaussianNB(priors=None, var_smoothing=1e-07)"
            ]
          },
          "metadata": {
            "tags": []
          },
          "execution_count": 36
        },
        {
          "output_type": "stream",
          "text": [
            "\n",
            "\n",
            "\n",
            " **** k-nearest neighbors ****\n"
          ],
          "name": "stdout"
        },
        {
          "output_type": "execute_result",
          "data": {
            "text/plain": [
              "KNeighborsClassifier(algorithm='auto', leaf_size=30, metric='minkowski',\n",
              "                     metric_params=None, n_jobs=None, n_neighbors=5, p=2,\n",
              "                     weights='uniform')"
            ]
          },
          "metadata": {
            "tags": []
          },
          "execution_count": 36
        },
        {
          "output_type": "stream",
          "text": [
            "\n",
            "\n",
            "\n",
            " **** neural network ****\n"
          ],
          "name": "stdout"
        },
        {
          "output_type": "execute_result",
          "data": {
            "text/plain": [
              "MLPClassifier(activation='tanh', alpha=3, batch_size='auto', beta_1=0.9,\n",
              "              beta_2=0.999, early_stopping=False, epsilon=1e-08,\n",
              "              hidden_layer_sizes=7, learning_rate='constant',\n",
              "              learning_rate_init=0.001, max_iter=200, momentum=0.9,\n",
              "              n_iter_no_change=10, nesterovs_momentum=True, power_t=0.5,\n",
              "              random_state=1, shuffle=True, solver='lbfgs', tol=0.0001,\n",
              "              validation_fraction=0.1, verbose=False, warm_start=False)"
            ]
          },
          "metadata": {
            "tags": []
          },
          "execution_count": 36
        },
        {
          "output_type": "stream",
          "text": [
            "\n",
            "\n",
            "\n",
            " **** random forest ****\n"
          ],
          "name": "stdout"
        },
        {
          "output_type": "execute_result",
          "data": {
            "text/plain": [
              "RandomForestClassifier(bootstrap=True, class_weight=None, criterion='gini',\n",
              "                       max_depth=5, max_features='auto', max_leaf_nodes=None,\n",
              "                       min_impurity_decrease=0.0, min_impurity_split=None,\n",
              "                       min_samples_leaf=1, min_samples_split=2,\n",
              "                       min_weight_fraction_leaf=0.0, n_estimators=100,\n",
              "                       n_jobs=None, oob_score=False, random_state=1120,\n",
              "                       verbose=0, warm_start=False)"
            ]
          },
          "metadata": {
            "tags": []
          },
          "execution_count": 36
        }
      ]
    },
    {
      "cell_type": "markdown",
      "metadata": {
        "id": "ogulDkNjqdLQ",
        "colab_type": "text"
      },
      "source": [
        "#### 6.\tDescribe and compare the performance of each fine-tuned model."
      ]
    },
    {
      "cell_type": "markdown",
      "metadata": {
        "id": "G7W9s6R306ON",
        "colab_type": "text"
      },
      "source": [
        "* Random forest gets the highest score on  AUC, accuracy ad f1 score. \n",
        "* Here are the scores, please check the table below."
      ]
    },
    {
      "cell_type": "code",
      "metadata": {
        "id": "z9QSTrzIqldf",
        "colab_type": "code",
        "outputId": "4d222f81-d16b-45bc-f494-3053477cc9a3",
        "colab": {
          "base_uri": "https://localhost:8080/",
          "height": 204
        }
      },
      "source": [
        "dict_score={}\n",
        "for i in [accuracy_score, f1_score,roc_auc_score,precision_score,recall_score]:\n",
        "  dict_score[i.__name__]=[]\n",
        "  for k in [y_pred_dt_cv,y_pred_gnb_cv,y_pred_knn_clf_cv,y_pred_nn_clf_cv,y_pred_rf_clf_cv]:\n",
        "    dict_score[i.__name__].append(round(i(y_test,k),3))\n",
        "\n",
        "df8_6=pd.DataFrame(dict_score,index=['Decision Trees','Naive Bayes','k-nearest neighbors','neural network','random forest'])\n",
        "df8_6.sort_values('roc_auc_score',ascending=False)"
      ],
      "execution_count": 0,
      "outputs": [
        {
          "output_type": "execute_result",
          "data": {
            "text/html": [
              "<div>\n",
              "<style scoped>\n",
              "    .dataframe tbody tr th:only-of-type {\n",
              "        vertical-align: middle;\n",
              "    }\n",
              "\n",
              "    .dataframe tbody tr th {\n",
              "        vertical-align: top;\n",
              "    }\n",
              "\n",
              "    .dataframe thead th {\n",
              "        text-align: right;\n",
              "    }\n",
              "</style>\n",
              "<table border=\"1\" class=\"dataframe\">\n",
              "  <thead>\n",
              "    <tr style=\"text-align: right;\">\n",
              "      <th></th>\n",
              "      <th>accuracy_score</th>\n",
              "      <th>f1_score</th>\n",
              "      <th>roc_auc_score</th>\n",
              "      <th>precision_score</th>\n",
              "      <th>recall_score</th>\n",
              "    </tr>\n",
              "  </thead>\n",
              "  <tbody>\n",
              "    <tr>\n",
              "      <th>random forest</th>\n",
              "      <td>0.804</td>\n",
              "      <td>0.831</td>\n",
              "      <td>0.801</td>\n",
              "      <td>0.844</td>\n",
              "      <td>0.817</td>\n",
              "    </tr>\n",
              "    <tr>\n",
              "      <th>neural network</th>\n",
              "      <td>0.799</td>\n",
              "      <td>0.829</td>\n",
              "      <td>0.793</td>\n",
              "      <td>0.832</td>\n",
              "      <td>0.825</td>\n",
              "    </tr>\n",
              "    <tr>\n",
              "      <th>Naive Bayes</th>\n",
              "      <td>0.752</td>\n",
              "      <td>0.784</td>\n",
              "      <td>0.750</td>\n",
              "      <td>0.807</td>\n",
              "      <td>0.762</td>\n",
              "    </tr>\n",
              "    <tr>\n",
              "      <th>Decision Trees</th>\n",
              "      <td>0.748</td>\n",
              "      <td>0.779</td>\n",
              "      <td>0.746</td>\n",
              "      <td>0.805</td>\n",
              "      <td>0.754</td>\n",
              "    </tr>\n",
              "    <tr>\n",
              "      <th>k-nearest neighbors</th>\n",
              "      <td>0.757</td>\n",
              "      <td>0.803</td>\n",
              "      <td>0.739</td>\n",
              "      <td>0.768</td>\n",
              "      <td>0.841</td>\n",
              "    </tr>\n",
              "  </tbody>\n",
              "</table>\n",
              "</div>"
            ],
            "text/plain": [
              "                     accuracy_score  f1_score  roc_auc_score  precision_score  \\\n",
              "random forest                 0.804     0.831          0.801            0.844   \n",
              "neural network                0.799     0.829          0.793            0.832   \n",
              "Naive Bayes                   0.752     0.784          0.750            0.807   \n",
              "Decision Trees                0.748     0.779          0.746            0.805   \n",
              "k-nearest neighbors           0.757     0.803          0.739            0.768   \n",
              "\n",
              "                     recall_score  \n",
              "random forest               0.817  \n",
              "neural network              0.825  \n",
              "Naive Bayes                 0.762  \n",
              "Decision Trees              0.754  \n",
              "k-nearest neighbors         0.841  "
            ]
          },
          "metadata": {
            "tags": []
          },
          "execution_count": 38
        }
      ]
    },
    {
      "cell_type": "markdown",
      "metadata": {
        "id": "s-7G71bIqhF_",
        "colab_type": "text"
      },
      "source": [
        "#### 7.\tSelect the best model. Justify."
      ]
    },
    {
      "cell_type": "markdown",
      "metadata": {
        "id": "IWtQ4cdU7yec",
        "colab_type": "text"
      },
      "source": [
        "I select random forest as the best model in this case. Because it has the highest AUC, F1 score and accuracy."
      ]
    },
    {
      "cell_type": "markdown",
      "metadata": {
        "id": "oCHSJrEfqjWg",
        "colab_type": "text"
      },
      "source": [
        "#### 8.\tIs this model good enough to deploy today? Justify."
      ]
    },
    {
      "cell_type": "markdown",
      "metadata": {
        "id": "fJy0WhcG35TU",
        "colab_type": "text"
      },
      "source": [
        "* Since the AUC is over 0.8, I think it is good enough to deploy today.\n",
        "* Besides, I think the model will definitely help the business. At least they can have the support to predict the demond of the CH and MM orange juice. \n",
        "* If the merchant can collect data in more dimensions such as weather, temperature, holiday, and season, I think we can make a better model for the business."
      ]
    }
  ]
}