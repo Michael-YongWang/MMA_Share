{
  "nbformat": 4,
  "nbformat_minor": 0,
  "metadata": {
    "colab": {
      "name": "MMA823_A3_Q3.ipynb",
      "provenance": [],
      "collapsed_sections": [
        "1VnEhMSYvlKt",
        "g6OKwawVvqbX",
        "G64G1qv_BDn_",
        "Ik8VP-SjBH6u",
        "bGWD0y9CBMxO"
      ],
      "include_colab_link": true
    },
    "kernelspec": {
      "name": "python3",
      "display_name": "Python 3"
    }
  },
  "cells": [
    {
      "cell_type": "markdown",
      "metadata": {
        "id": "view-in-github",
        "colab_type": "text"
      },
      "source": [
        "<a href=\"https://colab.research.google.com/github/Wangmiaobeng/MMA_Share/blob/master/MMA823_A3_Q3.ipynb\" target=\"_parent\"><img src=\"https://colab.research.google.com/assets/colab-badge.svg\" alt=\"Open In Colab\"/></a>"
      ]
    },
    {
      "cell_type": "markdown",
      "metadata": {
        "id": "chBP75zzvew6",
        "colab_type": "text"
      },
      "source": [
        "#MMA 823 Assignment 3"
      ]
    },
    {
      "cell_type": "markdown",
      "metadata": {
        "id": "1VnEhMSYvlKt",
        "colab_type": "text"
      },
      "source": [
        "## Import packages"
      ]
    },
    {
      "cell_type": "code",
      "metadata": {
        "id": "dDNNFh9KF6NQ",
        "colab_type": "code",
        "colab": {}
      },
      "source": [
        "import pandas as pd\n",
        "import numpy as np\n",
        "from scipy.stats import kurtosis, skew,variation\n",
        "import statistics \n",
        "\n",
        "from IPython.core.interactiveshell import InteractiveShell\n",
        "InteractiveShell.ast_node_interactivity = \"all\"\n",
        "\n",
        "pd.set_option(\"display.max_colwidth\", 200)\n",
        "pd.options.display.max_columns = None\n"
      ],
      "execution_count": 0,
      "outputs": []
    },
    {
      "cell_type": "markdown",
      "metadata": {
        "id": "g6OKwawVvqbX",
        "colab_type": "text"
      },
      "source": [
        "## Define 3 functions to simulate"
      ]
    },
    {
      "cell_type": "code",
      "metadata": {
        "id": "B6wM6jk4nQg0",
        "colab_type": "code",
        "colab": {}
      },
      "source": [
        "def EWMA_sim(\n",
        "    simulations=50000,\n",
        "    lambda_Q2=0.942285798061926,\n",
        "    days=252,\n",
        "    return_ini=0.003323116,\n",
        "    variance_ini=0.000030328,\n",
        "    mu=0.07,\n",
        "    random_seed=1121,\n",
        "):\n",
        "    \"\"\"simulate using EWMA\"\"\"\n",
        "    np.random.seed(random_seed)\n",
        "    SP_return = np.full(days, np.nan)\n",
        "    SP_variance = np.full(days, np.nan)\n",
        "    SP_simulations = pd.DataFrame({\"SP_return\": np.full(simulations, np.nan)})\n",
        "    for i in range(simulations):\n",
        "        for k in range(days):\n",
        "            if k == 0:\n",
        "                return_day = return_ini\n",
        "                variance_day = variance_ini\n",
        "            else:\n",
        "                return_day = SP_return[k - 1]\n",
        "                variance_day = SP_variance[k - 1]\n",
        "            SP_variance[k] = (1 - lambda_Q2) * (\n",
        "                return_day ** 2\n",
        "            ) + lambda_Q2 * variance_day\n",
        "            SP_return[k] = np.random.normal(\n",
        "                loc=mu / days, scale=np.sqrt(SP_variance[k]), size=1\n",
        "            )\n",
        "        SP_simulations.SP_return[i] = sum(SP_return)\n",
        "    print(\"kurtosis : {}\".format(kurtosis(SP_simulations.SP_return)))\n",
        "    print(\"skewness : {}\".format(skew(SP_simulations.SP_return)))\n",
        "    print(\"variance : {}\".format(statistics.variance(SP_simulations.SP_return)))\n",
        "    return SP_simulations.hist()\n",
        "\n",
        "\n",
        "def Garch_sim(\n",
        "    simulations=50000,\n",
        "    omega=0.0000033263,\n",
        "    beta=0.831932,\n",
        "    alpha=0.1,\n",
        "    days=252,\n",
        "    return_ini=0.003323116,\n",
        "    variance_ini=0.000030328,\n",
        "    mu=0.07,\n",
        "    random_seed=1121,\n",
        "):\n",
        "    \"\"\"simulate using Garch\"\"\"\n",
        "    np.random.seed(random_seed)\n",
        "    SP_return = np.full(days, np.nan)\n",
        "    SP_variance = np.full(days, np.nan)\n",
        "    SP_simulations = pd.DataFrame({\"SP_return\": np.full(simulations, np.nan)})\n",
        "    for i in range(simulations):\n",
        "        for k in range(days):\n",
        "            if k == 0:\n",
        "                return_day = return_ini\n",
        "                variance_day = variance_ini\n",
        "            else:\n",
        "                return_day = SP_return[k - 1]\n",
        "                variance_day = SP_variance[k - 1]\n",
        "            SP_variance[k] = omega + alpha * (return_day ** 2) + beta * variance_day\n",
        "            SP_return[k] = np.random.normal(\n",
        "                loc=mu / days, scale=np.sqrt(SP_variance[k]), size=1\n",
        "            )\n",
        "        SP_simulations.SP_return[i] = sum(SP_return)\n",
        "    print(\"kurtosis : {}\".format(kurtosis(SP_simulations.SP_return)))\n",
        "    print(\"skewness : {}\".format(skew(SP_simulations.SP_return)))\n",
        "    print(\"variance : {}\".format(statistics.variance(SP_simulations.SP_return)))\n",
        "    return SP_simulations.hist()\n",
        "\n",
        "def Asymmetric_Garch_sim(\n",
        "    simulations=50000,\n",
        "    omega=0.00000000,\n",
        "    beta=0.8040613,\n",
        "    alpha=0.1,\n",
        "    kappa = 0.0070950,\n",
        "    days=252,\n",
        "    return_ini=0.003323116,\n",
        "    variance_ini=0.000030328,\n",
        "    mu=0.07,\n",
        "    random_seed=1121,\n",
        "):\n",
        "    \"\"\"simulate using Asymmetric Garch\"\"\"\n",
        "    np.random.seed(random_seed)\n",
        "    SP_return = np.full(days, np.nan)\n",
        "    SP_variance = np.full(days, np.nan)\n",
        "    SP_simulations = pd.DataFrame({\"SP_return\": np.full(simulations, np.nan)})\n",
        "    for i in range(simulations):\n",
        "        for k in range(days):\n",
        "            if k == 0:\n",
        "                return_day = return_ini\n",
        "                variance_day = variance_ini\n",
        "            else:\n",
        "                return_day = SP_return[k - 1]\n",
        "                variance_day = SP_variance[k - 1]\n",
        "            SP_variance[k] = omega + alpha * ((return_day - kappa) ** 2) + beta * variance_day\n",
        "            SP_return[k] = np.random.normal(\n",
        "                loc=mu / days, scale=np.sqrt(SP_variance[k]), size=1\n",
        "            )\n",
        "        SP_simulations.SP_return[i] = sum(SP_return)\n",
        "    print(\"kurtosis : {}\".format(kurtosis(SP_simulations.SP_return)))\n",
        "    print(\"skewness : {}\".format(skew(SP_simulations.SP_return)))\n",
        "    print(\"variance : {}\".format(statistics.variance(SP_simulations.SP_return)))\n",
        "    return SP_simulations.hist()"
      ],
      "execution_count": 0,
      "outputs": []
    },
    {
      "cell_type": "markdown",
      "metadata": {
        "id": "azvpns-ew1lG",
        "colab_type": "text"
      },
      "source": [
        "## Check the results"
      ]
    },
    {
      "cell_type": "markdown",
      "metadata": {
        "id": "G64G1qv_BDn_",
        "colab_type": "text"
      },
      "source": [
        "### EWMA"
      ]
    },
    {
      "cell_type": "code",
      "metadata": {
        "id": "XQ33h5Ruq63u",
        "colab_type": "code",
        "outputId": "3f95ac19-cd87-499f-d492-13ce85bb5c37",
        "colab": {
          "base_uri": "https://localhost:8080/",
          "height": 365
        }
      },
      "source": [
        "EWMA_sim()"
      ],
      "execution_count": 0,
      "outputs": [
        {
          "output_type": "stream",
          "text": [
            "kurtosis : 2.82721779709183\n",
            "skewness : 0.17091592671773623\n",
            "variance : 0.007508955468771462\n"
          ],
          "name": "stdout"
        },
        {
          "output_type": "execute_result",
          "data": {
            "text/plain": [
              "array([[<matplotlib.axes._subplots.AxesSubplot object at 0x7f2b0a4c1128>]],\n",
              "      dtype=object)"
            ]
          },
          "metadata": {
            "tags": []
          },
          "execution_count": 7
        },
        {
          "output_type": "display_data",
          "data": {
            "image/png": "[encoded data removed]",
            "text/plain": [
              "<Figure size 432x288 with 1 Axes>"
            ]
          },
          "metadata": {
            "tags": []
          }
        }
      ]
    },
    {
      "cell_type": "markdown",
      "metadata": {
        "id": "Ik8VP-SjBH6u",
        "colab_type": "text"
      },
      "source": [
        "### Garch"
      ]
    },
    {
      "cell_type": "code",
      "metadata": {
        "id": "Renn3-3Xrgle",
        "colab_type": "code",
        "outputId": "3bb33865-f915-4698-ffab-2c1c4a460e69",
        "colab": {
          "base_uri": "https://localhost:8080/",
          "height": 365
        }
      },
      "source": [
        "Garch_sim()"
      ],
      "execution_count": 0,
      "outputs": [
        {
          "output_type": "stream",
          "text": [
            "kurtosis : 0.12794428768303145\n",
            "skewness : 0.022088839115509455\n",
            "variance : 0.012181106365937912\n"
          ],
          "name": "stdout"
        },
        {
          "output_type": "execute_result",
          "data": {
            "text/plain": [
              "array([[<matplotlib.axes._subplots.AxesSubplot object at 0x7f2aff4522e8>]],\n",
              "      dtype=object)"
            ]
          },
          "metadata": {
            "tags": []
          },
          "execution_count": 8
        },
        {
          "output_type": "display_data",
          "data": {
            "image/png": "[encoded data removed]",
            "text/plain": [
              "<Figure size 432x288 with 1 Axes>"
            ]
          },
          "metadata": {
            "tags": []
          }
        }
      ]
    },
    {
      "cell_type": "markdown",
      "metadata": {
        "id": "bGWD0y9CBMxO",
        "colab_type": "text"
      },
      "source": [
        "### Asymmetric Garch"
      ]
    },
    {
      "cell_type": "code",
      "metadata": {
        "id": "HlTWekPFrghq",
        "colab_type": "code",
        "outputId": "e8becfc8-30fe-4b80-afa6-cb34639728a2",
        "colab": {
          "base_uri": "https://localhost:8080/",
          "height": 365
        }
      },
      "source": [
        "Asymmetric_Garch_sim()"
      ],
      "execution_count": 0,
      "outputs": [
        {
          "output_type": "stream",
          "text": [
            "kurtosis : 0.37463918881769587\n",
            "skewness : -0.3808158840978681\n",
            "variance : 0.012105908703653153\n"
          ],
          "name": "stdout"
        },
        {
          "output_type": "execute_result",
          "data": {
            "text/plain": [
              "array([[<matplotlib.axes._subplots.AxesSubplot object at 0x7f2aff388ba8>]],\n",
              "      dtype=object)"
            ]
          },
          "metadata": {
            "tags": []
          },
          "execution_count": 10
        },
        {
          "output_type": "display_data",
          "data": {
            "image/png": "[encoded data removed]",
            "text/plain": [
              "<Figure size 432x288 with 1 Axes>"
            ]
          },
          "metadata": {
            "tags": []
          }
        }
      ]
    }
  ]
}