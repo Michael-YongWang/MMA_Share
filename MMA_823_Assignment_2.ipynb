{
  "nbformat": 4,
  "nbformat_minor": 0,
  "metadata": {
    "colab": {
      "name": "MMA 823 Assignment 2.ipynb",
      "provenance": [],
      "collapsed_sections": [
        "tBxpYe8xFTot",
        "SoU3paMMFY2g"
      ],
      "include_colab_link": true
    },
    "kernelspec": {
      "name": "python3",
      "display_name": "Python 3"
    },
    "accelerator": "TPU"
  },
  "cells": [
    {
      "cell_type": "markdown",
      "metadata": {
        "id": "view-in-github",
        "colab_type": "text"
      },
      "source": [
        "<a href=\"https://colab.research.google.com/github/Wangmiaobeng/MMA_Share/blob/master/MMA_823_Assignment_2.ipynb\" target=\"_parent\"><img src=\"https://colab.research.google.com/assets/colab-badge.svg\" alt=\"Open In Colab\"/></a>"
      ]
    },
    {
      "cell_type": "markdown",
      "metadata": {
        "id": "Zb6R7CfyFLZf",
        "colab_type": "text"
      },
      "source": [
        "# MMA 823 Assignment 2"
      ]
    },
    {
      "cell_type": "markdown",
      "metadata": {
        "id": "tBxpYe8xFTot",
        "colab_type": "text"
      },
      "source": [
        "## load packages"
      ]
    },
    {
      "cell_type": "code",
      "metadata": {
        "id": "uZaGt_QX-8Rg",
        "colab_type": "code",
        "colab": {}
      },
      "source": [
        "import pandas as pd\n",
        "import numpy as np\n",
        "from IPython.core.interactiveshell import InteractiveShell\n",
        "\n",
        "import matplotlib as mpl\n",
        "import matplotlib.pyplot as plt\n",
        "\n",
        "from sklearn.metrics import silhouette_score, silhouette_samples\n",
        "import sklearn.metrics\n",
        "from sklearn.preprocessing import StandardScaler\n",
        "from sklearn.cluster import KMeans, DBSCAN, AgglomerativeClustering\n",
        "from sklearn.mixture import GaussianMixture\n",
        "\n",
        "from yellowbrick.cluster import (\n",
        "    SilhouetteVisualizer,\n",
        "    InterclusterDistance,\n",
        "    KElbowVisualizer,\n",
        ")\n",
        "\n",
        "import itertools\n",
        "\n",
        "import scipy\n",
        "\n",
        "import pandas_profiling\n",
        "\n",
        "# The following is just to change the display settings.\n",
        "InteractiveShell.ast_node_interactivity = \"all\"\n",
        "pd.set_option(\"display.max_colwidth\", 200)\n",
        "pd.options.display.max_columns = None\n",
        "\n",
        "%matplotlib inline"
      ],
      "execution_count": 0,
      "outputs": []
    },
    {
      "cell_type": "markdown",
      "metadata": {
        "id": "SoU3paMMFY2g",
        "colab_type": "text"
      },
      "source": [
        "## Load data."
      ]
    },
    {
      "cell_type": "code",
      "metadata": {
        "id": "UENz7r8y_cKH",
        "colab_type": "code",
        "colab": {}
      },
      "source": [
        "df=pd.read_excel('https://github.com/Wangmiaobeng/MMA_Share/releases/download/MMA823/Bankruptcy_data_Final.xlsx')"
      ],
      "execution_count": 0,
      "outputs": []
    },
    {
      "cell_type": "markdown",
      "metadata": {
        "id": "CnMwAfa0NOqD",
        "colab_type": "text"
      },
      "source": [
        "## Clean data"
      ]
    },
    {
      "cell_type": "markdown",
      "metadata": {
        "id": "p9gE_SlsFnr4",
        "colab_type": "text"
      },
      "source": [
        "#### check the data"
      ]
    },
    {
      "cell_type": "code",
      "metadata": {
        "id": "OLySfUYx_gJ4",
        "colab_type": "code",
        "outputId": "a668f5ff-61b8-4206-9f97-83469fb0eae1",
        "colab": {
          "base_uri": "https://localhost:8080/"
        }
      },
      "source": [
        "df.head()\n",
        "df.info()"
      ],
      "execution_count": 0,
      "outputs": [
        {
          "output_type": "execute_result",
          "data": {
            "text/html": [
              "<div>\n",
              "<style scoped>\n",
              "    .dataframe tbody tr th:only-of-type {\n",
              "        vertical-align: middle;\n",
              "    }\n",
              "\n",
              "    .dataframe tbody tr th {\n",
              "        vertical-align: top;\n",
              "    }\n",
              "\n",
              "    .dataframe thead th {\n",
              "        text-align: right;\n",
              "    }\n",
              "</style>\n",
              "<table border=\"1\" class=\"dataframe\">\n",
              "  <thead>\n",
              "    <tr style=\"text-align: right;\">\n",
              "      <th></th>\n",
              "      <th>Data Year - Fiscal</th>\n",
              "      <th>Tobin's Q</th>\n",
              "      <th>EPS</th>\n",
              "      <th>Liquidity</th>\n",
              "      <th>Profitability</th>\n",
              "      <th>Productivity</th>\n",
              "      <th>Leverage Ratio</th>\n",
              "      <th>Asset Turnover</th>\n",
              "      <th>Operational Margin</th>\n",
              "      <th>Return on Equity</th>\n",
              "      <th>Market Book Ratio</th>\n",
              "      <th>Assets Growth</th>\n",
              "      <th>Sales Growth</th>\n",
              "      <th>Employee Growth</th>\n",
              "      <th>BK</th>\n",
              "    </tr>\n",
              "  </thead>\n",
              "  <tbody>\n",
              "    <tr>\n",
              "      <th>0</th>\n",
              "      <td>1979</td>\n",
              "      <td>0.98</td>\n",
              "      <td>1.58</td>\n",
              "      <td>0.36</td>\n",
              "      <td>0.18</td>\n",
              "      <td>0.13</td>\n",
              "      <td>1.33</td>\n",
              "      <td>1.77</td>\n",
              "      <td>0.07</td>\n",
              "      <td>0.15</td>\n",
              "      <td>2.22</td>\n",
              "      <td>NaN</td>\n",
              "      <td>NaN</td>\n",
              "      <td>NaN</td>\n",
              "      <td>0</td>\n",
              "    </tr>\n",
              "    <tr>\n",
              "      <th>1</th>\n",
              "      <td>1980</td>\n",
              "      <td>0.98</td>\n",
              "      <td>1.41</td>\n",
              "      <td>0.36</td>\n",
              "      <td>0.19</td>\n",
              "      <td>0.12</td>\n",
              "      <td>1.31</td>\n",
              "      <td>1.59</td>\n",
              "      <td>0.07</td>\n",
              "      <td>0.13</td>\n",
              "      <td>2.41</td>\n",
              "      <td>0.126319</td>\n",
              "      <td>0.014278</td>\n",
              "      <td>0.040179</td>\n",
              "      <td>0</td>\n",
              "    </tr>\n",
              "    <tr>\n",
              "      <th>2</th>\n",
              "      <td>1981</td>\n",
              "      <td>0.87</td>\n",
              "      <td>0.31</td>\n",
              "      <td>0.32</td>\n",
              "      <td>0.13</td>\n",
              "      <td>0.08</td>\n",
              "      <td>1.03</td>\n",
              "      <td>1.55</td>\n",
              "      <td>0.05</td>\n",
              "      <td>0.04</td>\n",
              "      <td>2.56</td>\n",
              "      <td>0.368077</td>\n",
              "      <td>0.327909</td>\n",
              "      <td>0.566524</td>\n",
              "      <td>0</td>\n",
              "    </tr>\n",
              "    <tr>\n",
              "      <th>3</th>\n",
              "      <td>1982</td>\n",
              "      <td>1.13</td>\n",
              "      <td>0.71</td>\n",
              "      <td>0.28</td>\n",
              "      <td>0.14</td>\n",
              "      <td>0.08</td>\n",
              "      <td>0.80</td>\n",
              "      <td>1.39</td>\n",
              "      <td>0.06</td>\n",
              "      <td>0.05</td>\n",
              "      <td>5.28</td>\n",
              "      <td>-0.020809</td>\n",
              "      <td>-0.118904</td>\n",
              "      <td>-0.095890</td>\n",
              "      <td>0</td>\n",
              "    </tr>\n",
              "    <tr>\n",
              "      <th>4</th>\n",
              "      <td>1983</td>\n",
              "      <td>1.26</td>\n",
              "      <td>0.75</td>\n",
              "      <td>0.41</td>\n",
              "      <td>0.13</td>\n",
              "      <td>0.08</td>\n",
              "      <td>0.20</td>\n",
              "      <td>1.30</td>\n",
              "      <td>0.06</td>\n",
              "      <td>0.04</td>\n",
              "      <td>8.68</td>\n",
              "      <td>0.233089</td>\n",
              "      <td>0.146807</td>\n",
              "      <td>0.053030</td>\n",
              "      <td>0</td>\n",
              "    </tr>\n",
              "  </tbody>\n",
              "</table>\n",
              "</div>"
            ],
            "text/plain": [
              "   Data Year - Fiscal  Tobin's Q   EPS  Liquidity  Profitability  \\\n",
              "0                1979       0.98  1.58       0.36           0.18   \n",
              "1                1980       0.98  1.41       0.36           0.19   \n",
              "2                1981       0.87  0.31       0.32           0.13   \n",
              "3                1982       1.13  0.71       0.28           0.14   \n",
              "4                1983       1.26  0.75       0.41           0.13   \n",
              "\n",
              "   Productivity  Leverage Ratio  Asset Turnover  Operational Margin  \\\n",
              "0          0.13            1.33            1.77                0.07   \n",
              "1          0.12            1.31            1.59                0.07   \n",
              "2          0.08            1.03            1.55                0.05   \n",
              "3          0.08            0.80            1.39                0.06   \n",
              "4          0.08            0.20            1.30                0.06   \n",
              "\n",
              "   Return on Equity  Market Book Ratio  Assets Growth  Sales Growth  \\\n",
              "0              0.15               2.22            NaN           NaN   \n",
              "1              0.13               2.41       0.126319      0.014278   \n",
              "2              0.04               2.56       0.368077      0.327909   \n",
              "3              0.05               5.28      -0.020809     -0.118904   \n",
              "4              0.04               8.68       0.233089      0.146807   \n",
              "\n",
              "   Employee Growth  BK  \n",
              "0              NaN   0  \n",
              "1         0.040179   0  \n",
              "2         0.566524   0  \n",
              "3        -0.095890   0  \n",
              "4         0.053030   0  "
            ]
          },
          "metadata": {
            "tags": []
          },
          "execution_count": 3
        },
        {
          "output_type": "stream",
          "text": [
            "<class 'pandas.core.frame.DataFrame'>\n",
            "RangeIndex: 92872 entries, 0 to 92871\n",
            "Data columns (total 15 columns):\n",
            "Data Year - Fiscal    92872 non-null int64\n",
            "Tobin's Q             92620 non-null float64\n",
            "EPS                   92867 non-null float64\n",
            "Liquidity             92625 non-null float64\n",
            "Profitability         92625 non-null float64\n",
            "Productivity          92625 non-null float64\n",
            "Leverage Ratio        92846 non-null float64\n",
            "Asset Turnover        92625 non-null float64\n",
            "Operational Margin    87315 non-null float64\n",
            "Return on Equity      92864 non-null float64\n",
            "Market Book Ratio     92815 non-null float64\n",
            "Assets Growth         86171 non-null float64\n",
            "Sales Growth          86171 non-null float64\n",
            "Employee Growth       85862 non-null float64\n",
            "BK                    92872 non-null int64\n",
            "dtypes: float64(13), int64(2)\n",
            "memory usage: 10.6 MB\n"
          ],
          "name": "stdout"
        }
      ]
    },
    {
      "cell_type": "markdown",
      "metadata": {
        "id": "QkK_1pJ4ObRE",
        "colab_type": "text"
      },
      "source": [
        "#### Set the year to string type"
      ]
    },
    {
      "cell_type": "code",
      "metadata": {
        "id": "kmSCZMmXK1tG",
        "colab_type": "code",
        "colab": {}
      },
      "source": [
        "df['Data Year - Fiscal'] = df['Data Year - Fiscal'].apply(str)"
      ],
      "execution_count": 0,
      "outputs": []
    },
    {
      "cell_type": "markdown",
      "metadata": {
        "id": "JJ-ry1gqloRl",
        "colab_type": "text"
      },
      "source": [
        "#### check the correlation\n",
        "* There is one group of features correlation coefficient large than 0.5.\n",
        "\n",
        "* We will keep these features."
      ]
    },
    {
      "cell_type": "code",
      "metadata": {
        "id": "nVZEE_7eO602",
        "colab_type": "code",
        "outputId": "47ca0f65-faf3-49d6-d47b-e1472f324d12",
        "colab": {
          "base_uri": "https://localhost:8080/",
          "height": 111
        }
      },
      "source": [
        "corr=df.corr()\n",
        "corr_triu = corr.where(~np.tril(np.ones(corr.shape)).astype(np.bool))\n",
        "corr_triu = corr_triu.stack()\n",
        "corr_triu.name = 'Pearson Correlation Coefficient'\n",
        "corr_triu.index.names = ['Col1', 'Col2']\n",
        "corr_triu[(corr_triu > 0.5) | (corr_triu < -0.5) ].to_frame()"
      ],
      "execution_count": 0,
      "outputs": [
        {
          "output_type": "execute_result",
          "data": {
            "text/html": [
              "<div>\n",
              "<style scoped>\n",
              "    .dataframe tbody tr th:only-of-type {\n",
              "        vertical-align: middle;\n",
              "    }\n",
              "\n",
              "    .dataframe tbody tr th {\n",
              "        vertical-align: top;\n",
              "    }\n",
              "\n",
              "    .dataframe thead th {\n",
              "        text-align: right;\n",
              "    }\n",
              "</style>\n",
              "<table border=\"1\" class=\"dataframe\">\n",
              "  <thead>\n",
              "    <tr style=\"text-align: right;\">\n",
              "      <th></th>\n",
              "      <th></th>\n",
              "      <th>Pearson Correlation Coefficient</th>\n",
              "    </tr>\n",
              "    <tr>\n",
              "      <th>Col1</th>\n",
              "      <th>Col2</th>\n",
              "      <th></th>\n",
              "    </tr>\n",
              "  </thead>\n",
              "  <tbody>\n",
              "    <tr>\n",
              "      <th>Liquidity</th>\n",
              "      <th>Return on Equity</th>\n",
              "      <td>0.582335</td>\n",
              "    </tr>\n",
              "  </tbody>\n",
              "</table>\n",
              "</div>"
            ],
            "text/plain": [
              "                            Pearson Correlation Coefficient\n",
              "Col1      Col2                                             \n",
              "Liquidity Return on Equity                         0.582335"
            ]
          },
          "metadata": {
            "tags": []
          },
          "execution_count": 5
        }
      ]
    },
    {
      "cell_type": "markdown",
      "metadata": {
        "id": "NbhJ9tH1mcwS",
        "colab_type": "text"
      },
      "source": [
        "#### Check the missing value"
      ]
    },
    {
      "cell_type": "code",
      "metadata": {
        "id": "ZT9IAx3pHV9e",
        "colab_type": "code",
        "colab": {}
      },
      "source": [
        "percent_missing = df.isnull().sum() * 100 / len(df)\n",
        "missing_value_df = pd.DataFrame({'column_name': df.columns,\n",
        "                                 'percent_missing': percent_missing})"
      ],
      "execution_count": 0,
      "outputs": []
    },
    {
      "cell_type": "code",
      "metadata": {
        "id": "v32tLIy8IDDI",
        "colab_type": "code",
        "outputId": "07ecd61c-29b6-46b3-cab0-769d7e1de4f2",
        "colab": {
          "base_uri": "https://localhost:8080/",
          "height": 514
        }
      },
      "source": [
        "missing_value_df"
      ],
      "execution_count": 0,
      "outputs": [
        {
          "output_type": "execute_result",
          "data": {
            "text/html": [
              "<div>\n",
              "<style scoped>\n",
              "    .dataframe tbody tr th:only-of-type {\n",
              "        vertical-align: middle;\n",
              "    }\n",
              "\n",
              "    .dataframe tbody tr th {\n",
              "        vertical-align: top;\n",
              "    }\n",
              "\n",
              "    .dataframe thead th {\n",
              "        text-align: right;\n",
              "    }\n",
              "</style>\n",
              "<table border=\"1\" class=\"dataframe\">\n",
              "  <thead>\n",
              "    <tr style=\"text-align: right;\">\n",
              "      <th></th>\n",
              "      <th>column_name</th>\n",
              "      <th>percent_missing</th>\n",
              "    </tr>\n",
              "  </thead>\n",
              "  <tbody>\n",
              "    <tr>\n",
              "      <th>Data Year - Fiscal</th>\n",
              "      <td>Data Year - Fiscal</td>\n",
              "      <td>0.000000</td>\n",
              "    </tr>\n",
              "    <tr>\n",
              "      <th>Tobin's Q</th>\n",
              "      <td>Tobin's Q</td>\n",
              "      <td>0.271341</td>\n",
              "    </tr>\n",
              "    <tr>\n",
              "      <th>EPS</th>\n",
              "      <td>EPS</td>\n",
              "      <td>0.005384</td>\n",
              "    </tr>\n",
              "    <tr>\n",
              "      <th>Liquidity</th>\n",
              "      <td>Liquidity</td>\n",
              "      <td>0.265957</td>\n",
              "    </tr>\n",
              "    <tr>\n",
              "      <th>Profitability</th>\n",
              "      <td>Profitability</td>\n",
              "      <td>0.265957</td>\n",
              "    </tr>\n",
              "    <tr>\n",
              "      <th>Productivity</th>\n",
              "      <td>Productivity</td>\n",
              "      <td>0.265957</td>\n",
              "    </tr>\n",
              "    <tr>\n",
              "      <th>Leverage Ratio</th>\n",
              "      <td>Leverage Ratio</td>\n",
              "      <td>0.027996</td>\n",
              "    </tr>\n",
              "    <tr>\n",
              "      <th>Asset Turnover</th>\n",
              "      <td>Asset Turnover</td>\n",
              "      <td>0.265957</td>\n",
              "    </tr>\n",
              "    <tr>\n",
              "      <th>Operational Margin</th>\n",
              "      <td>Operational Margin</td>\n",
              "      <td>5.983504</td>\n",
              "    </tr>\n",
              "    <tr>\n",
              "      <th>Return on Equity</th>\n",
              "      <td>Return on Equity</td>\n",
              "      <td>0.008614</td>\n",
              "    </tr>\n",
              "    <tr>\n",
              "      <th>Market Book Ratio</th>\n",
              "      <td>Market Book Ratio</td>\n",
              "      <td>0.061375</td>\n",
              "    </tr>\n",
              "    <tr>\n",
              "      <th>Assets Growth</th>\n",
              "      <td>Assets Growth</td>\n",
              "      <td>7.215307</td>\n",
              "    </tr>\n",
              "    <tr>\n",
              "      <th>Sales Growth</th>\n",
              "      <td>Sales Growth</td>\n",
              "      <td>7.215307</td>\n",
              "    </tr>\n",
              "    <tr>\n",
              "      <th>Employee Growth</th>\n",
              "      <td>Employee Growth</td>\n",
              "      <td>7.548023</td>\n",
              "    </tr>\n",
              "    <tr>\n",
              "      <th>BK</th>\n",
              "      <td>BK</td>\n",
              "      <td>0.000000</td>\n",
              "    </tr>\n",
              "  </tbody>\n",
              "</table>\n",
              "</div>"
            ],
            "text/plain": [
              "                           column_name  percent_missing\n",
              "Data Year - Fiscal  Data Year - Fiscal         0.000000\n",
              "Tobin's Q                    Tobin's Q         0.271341\n",
              "EPS                                EPS         0.005384\n",
              "Liquidity                    Liquidity         0.265957\n",
              "Profitability            Profitability         0.265957\n",
              "Productivity              Productivity         0.265957\n",
              "Leverage Ratio          Leverage Ratio         0.027996\n",
              "Asset Turnover          Asset Turnover         0.265957\n",
              "Operational Margin  Operational Margin         5.983504\n",
              "Return on Equity      Return on Equity         0.008614\n",
              "Market Book Ratio    Market Book Ratio         0.061375\n",
              "Assets Growth            Assets Growth         7.215307\n",
              "Sales Growth              Sales Growth         7.215307\n",
              "Employee Growth        Employee Growth         7.548023\n",
              "BK                                  BK         0.000000"
            ]
          },
          "metadata": {
            "tags": []
          },
          "execution_count": 7
        }
      ]
    },
    {
      "cell_type": "markdown",
      "metadata": {
        "id": "3YlYY0NGmyHF",
        "colab_type": "text"
      },
      "source": [
        "##### Check the ratio of target\n",
        "\n",
        "* This is an imbanlanced data set"
      ]
    },
    {
      "cell_type": "code",
      "metadata": {
        "id": "wrYf0V4MIEhZ",
        "colab_type": "code",
        "outputId": "8aeffab6-628d-49aa-d188-3dd293a6148f",
        "colab": {
          "base_uri": "https://localhost:8080/",
          "height": 53
        }
      },
      "source": [
        "BK0_ratio=len(df[df.BK==0])/len(df)\n",
        "BK1_ratio=len(df[df.BK==1])/len(df)\n",
        "print(BK0_ratio)\n",
        "print(BK1_ratio)\n"
      ],
      "execution_count": 0,
      "outputs": [
        {
          "output_type": "stream",
          "text": [
            "0.9939917305538806\n",
            "0.00600826944611939\n"
          ],
          "name": "stdout"
        }
      ]
    },
    {
      "cell_type": "markdown",
      "metadata": {
        "id": "zLNmvPwPnXxD",
        "colab_type": "text"
      },
      "source": [
        "##### Check the ratio of target which has missing value "
      ]
    },
    {
      "cell_type": "code",
      "metadata": {
        "id": "vJxRNZtAL58J",
        "colab_type": "code",
        "colab": {}
      },
      "source": [
        "null_data = df[df.isnull().any(axis=1)]"
      ],
      "execution_count": 0,
      "outputs": []
    },
    {
      "cell_type": "code",
      "metadata": {
        "id": "au2uS2ukMXf2",
        "colab_type": "code",
        "outputId": "78f732fa-c3dd-4911-d9e4-ca1bdf80daae",
        "colab": {
          "base_uri": "https://localhost:8080/",
          "height": 53
        }
      },
      "source": [
        "print(len(null_data[null_data.BK==0])/len(null_data))\n",
        "print(len(null_data[null_data.BK==1])/len(null_data))"
      ],
      "execution_count": 0,
      "outputs": [
        {
          "output_type": "stream",
          "text": [
            "0.9927151182721975\n",
            "0.007284881727802537\n"
          ],
          "name": "stdout"
        }
      ]
    },
    {
      "cell_type": "markdown",
      "metadata": {
        "id": "HNR3wkoGnjn_",
        "colab_type": "text"
      },
      "source": [
        "##### Check the target ratio relative ratio of each missing feature"
      ]
    },
    {
      "cell_type": "code",
      "metadata": {
        "id": "G3Oo0YG_Mv46",
        "colab_type": "code",
        "colab": {}
      },
      "source": [
        "BK_ratio_dict={}\n",
        "BK_ratio_dict['variable']=[]\n",
        "BK_ratio_dict['total_missing']=[]\n",
        "BK_ratio_dict['BK1_ratio']=[]\n",
        "BK_ratio_dict['BK1_ratio_relative']=[]\n",
        "\n",
        "for i in list(df.columns)[1:-1]:\n",
        "  temp_df=df[df[i].isnull()]\n",
        "  BK_ratio_dict['variable'].append(i)\n",
        "  temp_ratio=len(temp_df[temp_df.BK==1])/len(temp_df)\n",
        "  BK_ratio_dict['BK1_ratio'].append(temp_ratio)\n",
        "  BK_ratio_dict['BK1_ratio_relative'].append( abs((temp_ratio-BK1_ratio)/BK1_ratio))\n",
        "  BK_ratio_dict['total_missing'].append(len(temp_df))"
      ],
      "execution_count": 0,
      "outputs": []
    },
    {
      "cell_type": "code",
      "metadata": {
        "id": "apwxLiw8QBcJ",
        "colab_type": "code",
        "outputId": "b3b4748d-c1af-4c22-89ea-17c2ae448a71",
        "colab": {
          "base_uri": "https://localhost:8080/",
          "height": 452
        }
      },
      "source": [
        "pd.DataFrame(BK_ratio_dict).sort_values('BK1_ratio_relative',ascending=False)"
      ],
      "execution_count": 0,
      "outputs": [
        {
          "output_type": "execute_result",
          "data": {
            "text/html": [
              "<div>\n",
              "<style scoped>\n",
              "    .dataframe tbody tr th:only-of-type {\n",
              "        vertical-align: middle;\n",
              "    }\n",
              "\n",
              "    .dataframe tbody tr th {\n",
              "        vertical-align: top;\n",
              "    }\n",
              "\n",
              "    .dataframe thead th {\n",
              "        text-align: right;\n",
              "    }\n",
              "</style>\n",
              "<table border=\"1\" class=\"dataframe\">\n",
              "  <thead>\n",
              "    <tr style=\"text-align: right;\">\n",
              "      <th></th>\n",
              "      <th>variable</th>\n",
              "      <th>total_missing</th>\n",
              "      <th>BK1_ratio</th>\n",
              "      <th>BK1_ratio_relative</th>\n",
              "    </tr>\n",
              "  </thead>\n",
              "  <tbody>\n",
              "    <tr>\n",
              "      <th>1</th>\n",
              "      <td>EPS</td>\n",
              "      <td>5</td>\n",
              "      <td>0.800000</td>\n",
              "      <td>132.149821</td>\n",
              "    </tr>\n",
              "    <tr>\n",
              "      <th>8</th>\n",
              "      <td>Return on Equity</td>\n",
              "      <td>8</td>\n",
              "      <td>0.500000</td>\n",
              "      <td>82.218638</td>\n",
              "    </tr>\n",
              "    <tr>\n",
              "      <th>9</th>\n",
              "      <td>Market Book Ratio</td>\n",
              "      <td>57</td>\n",
              "      <td>0.157895</td>\n",
              "      <td>25.279570</td>\n",
              "    </tr>\n",
              "    <tr>\n",
              "      <th>5</th>\n",
              "      <td>Leverage Ratio</td>\n",
              "      <td>26</td>\n",
              "      <td>0.038462</td>\n",
              "      <td>5.401434</td>\n",
              "    </tr>\n",
              "    <tr>\n",
              "      <th>2</th>\n",
              "      <td>Liquidity</td>\n",
              "      <td>247</td>\n",
              "      <td>0.000000</td>\n",
              "      <td>1.000000</td>\n",
              "    </tr>\n",
              "    <tr>\n",
              "      <th>3</th>\n",
              "      <td>Profitability</td>\n",
              "      <td>247</td>\n",
              "      <td>0.000000</td>\n",
              "      <td>1.000000</td>\n",
              "    </tr>\n",
              "    <tr>\n",
              "      <th>4</th>\n",
              "      <td>Productivity</td>\n",
              "      <td>247</td>\n",
              "      <td>0.000000</td>\n",
              "      <td>1.000000</td>\n",
              "    </tr>\n",
              "    <tr>\n",
              "      <th>6</th>\n",
              "      <td>Asset Turnover</td>\n",
              "      <td>247</td>\n",
              "      <td>0.000000</td>\n",
              "      <td>1.000000</td>\n",
              "    </tr>\n",
              "    <tr>\n",
              "      <th>10</th>\n",
              "      <td>Assets Growth</td>\n",
              "      <td>6701</td>\n",
              "      <td>0.000000</td>\n",
              "      <td>1.000000</td>\n",
              "    </tr>\n",
              "    <tr>\n",
              "      <th>11</th>\n",
              "      <td>Sales Growth</td>\n",
              "      <td>6701</td>\n",
              "      <td>0.000000</td>\n",
              "      <td>1.000000</td>\n",
              "    </tr>\n",
              "    <tr>\n",
              "      <th>0</th>\n",
              "      <td>Tobin's Q</td>\n",
              "      <td>252</td>\n",
              "      <td>0.011905</td>\n",
              "      <td>0.981396</td>\n",
              "    </tr>\n",
              "    <tr>\n",
              "      <th>12</th>\n",
              "      <td>Employee Growth</td>\n",
              "      <td>7010</td>\n",
              "      <td>0.010271</td>\n",
              "      <td>0.709484</td>\n",
              "    </tr>\n",
              "    <tr>\n",
              "      <th>7</th>\n",
              "      <td>Operational Margin</td>\n",
              "      <td>5557</td>\n",
              "      <td>0.003059</td>\n",
              "      <td>0.490834</td>\n",
              "    </tr>\n",
              "  </tbody>\n",
              "</table>\n",
              "</div>"
            ],
            "text/plain": [
              "              variable  total_missing  BK1_ratio  BK1_ratio_relative\n",
              "1                  EPS              5   0.800000          132.149821\n",
              "8     Return on Equity              8   0.500000           82.218638\n",
              "9    Market Book Ratio             57   0.157895           25.279570\n",
              "5       Leverage Ratio             26   0.038462            5.401434\n",
              "2            Liquidity            247   0.000000            1.000000\n",
              "3        Profitability            247   0.000000            1.000000\n",
              "4         Productivity            247   0.000000            1.000000\n",
              "6       Asset Turnover            247   0.000000            1.000000\n",
              "10       Assets Growth           6701   0.000000            1.000000\n",
              "11        Sales Growth           6701   0.000000            1.000000\n",
              "0            Tobin's Q            252   0.011905            0.981396\n",
              "12     Employee Growth           7010   0.010271            0.709484\n",
              "7   Operational Margin           5557   0.003059            0.490834"
            ]
          },
          "metadata": {
            "tags": []
          },
          "execution_count": 12
        }
      ]
    },
    {
      "cell_type": "markdown",
      "metadata": {
        "id": "BJVk8HJhQVGp",
        "colab_type": "text"
      },
      "source": [
        "* After checking all the missing values, I decided to impute the missing value with 0."
      ]
    },
    {
      "cell_type": "code",
      "metadata": {
        "id": "aLTqueNe-0lH",
        "colab_type": "code",
        "colab": {}
      },
      "source": [
        "df_cleaned=df.fillna(0)"
      ],
      "execution_count": 0,
      "outputs": []
    },
    {
      "cell_type": "code",
      "metadata": {
        "id": "pNGoUHcB_fjR",
        "colab_type": "code",
        "outputId": "b715ae14-f24c-43b3-dda3-1e42f10be67d",
        "colab": {
          "base_uri": "https://localhost:8080/",
          "height": 564
        }
      },
      "source": [
        "df_cleaned.head()\n",
        "df_cleaned.info()"
      ],
      "execution_count": 0,
      "outputs": [
        {
          "output_type": "execute_result",
          "data": {
            "text/html": [
              "<div>\n",
              "<style scoped>\n",
              "    .dataframe tbody tr th:only-of-type {\n",
              "        vertical-align: middle;\n",
              "    }\n",
              "\n",
              "    .dataframe tbody tr th {\n",
              "        vertical-align: top;\n",
              "    }\n",
              "\n",
              "    .dataframe thead th {\n",
              "        text-align: right;\n",
              "    }\n",
              "</style>\n",
              "<table border=\"1\" class=\"dataframe\">\n",
              "  <thead>\n",
              "    <tr style=\"text-align: right;\">\n",
              "      <th></th>\n",
              "      <th>Data Year - Fiscal</th>\n",
              "      <th>Tobin's Q</th>\n",
              "      <th>EPS</th>\n",
              "      <th>Liquidity</th>\n",
              "      <th>Profitability</th>\n",
              "      <th>Productivity</th>\n",
              "      <th>Leverage Ratio</th>\n",
              "      <th>Asset Turnover</th>\n",
              "      <th>Operational Margin</th>\n",
              "      <th>Return on Equity</th>\n",
              "      <th>Market Book Ratio</th>\n",
              "      <th>Assets Growth</th>\n",
              "      <th>Sales Growth</th>\n",
              "      <th>Employee Growth</th>\n",
              "      <th>BK</th>\n",
              "    </tr>\n",
              "  </thead>\n",
              "  <tbody>\n",
              "    <tr>\n",
              "      <th>0</th>\n",
              "      <td>1979</td>\n",
              "      <td>0.98</td>\n",
              "      <td>1.58</td>\n",
              "      <td>0.36</td>\n",
              "      <td>0.18</td>\n",
              "      <td>0.13</td>\n",
              "      <td>1.33</td>\n",
              "      <td>1.77</td>\n",
              "      <td>0.07</td>\n",
              "      <td>0.15</td>\n",
              "      <td>2.22</td>\n",
              "      <td>0.000000</td>\n",
              "      <td>0.000000</td>\n",
              "      <td>0.000000</td>\n",
              "      <td>0</td>\n",
              "    </tr>\n",
              "    <tr>\n",
              "      <th>1</th>\n",
              "      <td>1980</td>\n",
              "      <td>0.98</td>\n",
              "      <td>1.41</td>\n",
              "      <td>0.36</td>\n",
              "      <td>0.19</td>\n",
              "      <td>0.12</td>\n",
              "      <td>1.31</td>\n",
              "      <td>1.59</td>\n",
              "      <td>0.07</td>\n",
              "      <td>0.13</td>\n",
              "      <td>2.41</td>\n",
              "      <td>0.126319</td>\n",
              "      <td>0.014278</td>\n",
              "      <td>0.040179</td>\n",
              "      <td>0</td>\n",
              "    </tr>\n",
              "    <tr>\n",
              "      <th>2</th>\n",
              "      <td>1981</td>\n",
              "      <td>0.87</td>\n",
              "      <td>0.31</td>\n",
              "      <td>0.32</td>\n",
              "      <td>0.13</td>\n",
              "      <td>0.08</td>\n",
              "      <td>1.03</td>\n",
              "      <td>1.55</td>\n",
              "      <td>0.05</td>\n",
              "      <td>0.04</td>\n",
              "      <td>2.56</td>\n",
              "      <td>0.368077</td>\n",
              "      <td>0.327909</td>\n",
              "      <td>0.566524</td>\n",
              "      <td>0</td>\n",
              "    </tr>\n",
              "    <tr>\n",
              "      <th>3</th>\n",
              "      <td>1982</td>\n",
              "      <td>1.13</td>\n",
              "      <td>0.71</td>\n",
              "      <td>0.28</td>\n",
              "      <td>0.14</td>\n",
              "      <td>0.08</td>\n",
              "      <td>0.80</td>\n",
              "      <td>1.39</td>\n",
              "      <td>0.06</td>\n",
              "      <td>0.05</td>\n",
              "      <td>5.28</td>\n",
              "      <td>-0.020809</td>\n",
              "      <td>-0.118904</td>\n",
              "      <td>-0.095890</td>\n",
              "      <td>0</td>\n",
              "    </tr>\n",
              "    <tr>\n",
              "      <th>4</th>\n",
              "      <td>1983</td>\n",
              "      <td>1.26</td>\n",
              "      <td>0.75</td>\n",
              "      <td>0.41</td>\n",
              "      <td>0.13</td>\n",
              "      <td>0.08</td>\n",
              "      <td>0.20</td>\n",
              "      <td>1.30</td>\n",
              "      <td>0.06</td>\n",
              "      <td>0.04</td>\n",
              "      <td>8.68</td>\n",
              "      <td>0.233089</td>\n",
              "      <td>0.146807</td>\n",
              "      <td>0.053030</td>\n",
              "      <td>0</td>\n",
              "    </tr>\n",
              "  </tbody>\n",
              "</table>\n",
              "</div>"
            ],
            "text/plain": [
              "  Data Year - Fiscal  Tobin's Q   EPS  Liquidity  Profitability  Productivity  \\\n",
              "0               1979       0.98  1.58       0.36           0.18          0.13   \n",
              "1               1980       0.98  1.41       0.36           0.19          0.12   \n",
              "2               1981       0.87  0.31       0.32           0.13          0.08   \n",
              "3               1982       1.13  0.71       0.28           0.14          0.08   \n",
              "4               1983       1.26  0.75       0.41           0.13          0.08   \n",
              "\n",
              "   Leverage Ratio  Asset Turnover  Operational Margin  Return on Equity  \\\n",
              "0            1.33            1.77                0.07              0.15   \n",
              "1            1.31            1.59                0.07              0.13   \n",
              "2            1.03            1.55                0.05              0.04   \n",
              "3            0.80            1.39                0.06              0.05   \n",
              "4            0.20            1.30                0.06              0.04   \n",
              "\n",
              "   Market Book Ratio  Assets Growth  Sales Growth  Employee Growth  BK  \n",
              "0               2.22       0.000000      0.000000         0.000000   0  \n",
              "1               2.41       0.126319      0.014278         0.040179   0  \n",
              "2               2.56       0.368077      0.327909         0.566524   0  \n",
              "3               5.28      -0.020809     -0.118904        -0.095890   0  \n",
              "4               8.68       0.233089      0.146807         0.053030   0  "
            ]
          },
          "metadata": {
            "tags": []
          },
          "execution_count": 14
        },
        {
          "output_type": "stream",
          "text": [
            "<class 'pandas.core.frame.DataFrame'>\n",
            "RangeIndex: 92872 entries, 0 to 92871\n",
            "Data columns (total 15 columns):\n",
            "Data Year - Fiscal    92872 non-null object\n",
            "Tobin's Q             92872 non-null float64\n",
            "EPS                   92872 non-null float64\n",
            "Liquidity             92872 non-null float64\n",
            "Profitability         92872 non-null float64\n",
            "Productivity          92872 non-null float64\n",
            "Leverage Ratio        92872 non-null float64\n",
            "Asset Turnover        92872 non-null float64\n",
            "Operational Margin    92872 non-null float64\n",
            "Return on Equity      92872 non-null float64\n",
            "Market Book Ratio     92872 non-null float64\n",
            "Assets Growth         92872 non-null float64\n",
            "Sales Growth          92872 non-null float64\n",
            "Employee Growth       92872 non-null float64\n",
            "BK                    92872 non-null int64\n",
            "dtypes: float64(13), int64(1), object(1)\n",
            "memory usage: 10.6+ MB\n"
          ],
          "name": "stdout"
        }
      ]
    },
    {
      "cell_type": "markdown",
      "metadata": {
        "id": "v9qf5SKTAwS-",
        "colab_type": "text"
      },
      "source": [
        "## Scale data"
      ]
    },
    {
      "cell_type": "code",
      "metadata": {
        "id": "caJss7YtA0ki",
        "colab_type": "code",
        "outputId": "08036e3d-fcf8-4e67-f0bf-0336df8e9e6d",
        "colab": {
          "base_uri": "https://localhost:8080/",
          "height": 420
        }
      },
      "source": [
        "features =list( df_cleaned.columns)[:-1]\n",
        "features_to_be_scaled=features[1:]\n",
        "\n",
        "X=df_cleaned[features]\n",
        "y=df_cleaned['BK']\n",
        "X[features_to_be_scaled] = StandardScaler().fit_transform(X[features_to_be_scaled])\n",
        "X.head()"
      ],
      "execution_count": 0,
      "outputs": [
        {
          "output_type": "stream",
          "text": [
            "/usr/local/lib/python3.6/dist-packages/ipykernel_launcher.py:6: SettingWithCopyWarning: \n",
            "A value is trying to be set on a copy of a slice from a DataFrame.\n",
            "Try using .loc[row_indexer,col_indexer] = value instead\n",
            "\n",
            "See the caveats in the documentation: http://pandas.pydata.org/pandas-docs/stable/indexing.html#indexing-view-versus-copy\n",
            "  \n",
            "/usr/local/lib/python3.6/dist-packages/pandas/core/indexing.py:543: SettingWithCopyWarning: \n",
            "A value is trying to be set on a copy of a slice from a DataFrame.\n",
            "Try using .loc[row_indexer,col_indexer] = value instead\n",
            "\n",
            "See the caveats in the documentation: http://pandas.pydata.org/pandas-docs/stable/indexing.html#indexing-view-versus-copy\n",
            "  self.obj[item] = s\n"
          ],
          "name": "stderr"
        },
        {
          "output_type": "execute_result",
          "data": {
            "text/html": [
              "<div>\n",
              "<style scoped>\n",
              "    .dataframe tbody tr th:only-of-type {\n",
              "        vertical-align: middle;\n",
              "    }\n",
              "\n",
              "    .dataframe tbody tr th {\n",
              "        vertical-align: top;\n",
              "    }\n",
              "\n",
              "    .dataframe thead th {\n",
              "        text-align: right;\n",
              "    }\n",
              "</style>\n",
              "<table border=\"1\" class=\"dataframe\">\n",
              "  <thead>\n",
              "    <tr style=\"text-align: right;\">\n",
              "      <th></th>\n",
              "      <th>Data Year - Fiscal</th>\n",
              "      <th>Tobin's Q</th>\n",
              "      <th>EPS</th>\n",
              "      <th>Liquidity</th>\n",
              "      <th>Profitability</th>\n",
              "      <th>Productivity</th>\n",
              "      <th>Leverage Ratio</th>\n",
              "      <th>Asset Turnover</th>\n",
              "      <th>Operational Margin</th>\n",
              "      <th>Return on Equity</th>\n",
              "      <th>Market Book Ratio</th>\n",
              "      <th>Assets Growth</th>\n",
              "      <th>Sales Growth</th>\n",
              "      <th>Employee Growth</th>\n",
              "    </tr>\n",
              "  </thead>\n",
              "  <tbody>\n",
              "    <tr>\n",
              "      <th>0</th>\n",
              "      <td>1979</td>\n",
              "      <td>-0.026975</td>\n",
              "      <td>0.007306</td>\n",
              "      <td>0.024572</td>\n",
              "      <td>0.043823</td>\n",
              "      <td>0.037659</td>\n",
              "      <td>-0.000059</td>\n",
              "      <td>0.340233</td>\n",
              "      <td>0.036123</td>\n",
              "      <td>0.006416</td>\n",
              "      <td>-0.013666</td>\n",
              "      <td>-0.016897</td>\n",
              "      <td>-0.010304</td>\n",
              "      <td>-0.023455</td>\n",
              "    </tr>\n",
              "    <tr>\n",
              "      <th>1</th>\n",
              "      <td>1980</td>\n",
              "      <td>-0.026975</td>\n",
              "      <td>0.007229</td>\n",
              "      <td>0.024572</td>\n",
              "      <td>0.043838</td>\n",
              "      <td>0.037380</td>\n",
              "      <td>-0.000138</td>\n",
              "      <td>0.255079</td>\n",
              "      <td>0.036123</td>\n",
              "      <td>0.006359</td>\n",
              "      <td>-0.013658</td>\n",
              "      <td>-0.015120</td>\n",
              "      <td>-0.010220</td>\n",
              "      <td>-0.020486</td>\n",
              "    </tr>\n",
              "    <tr>\n",
              "      <th>2</th>\n",
              "      <td>1981</td>\n",
              "      <td>-0.027097</td>\n",
              "      <td>0.006728</td>\n",
              "      <td>0.024243</td>\n",
              "      <td>0.043749</td>\n",
              "      <td>0.036264</td>\n",
              "      <td>-0.001245</td>\n",
              "      <td>0.236155</td>\n",
              "      <td>0.036027</td>\n",
              "      <td>0.006104</td>\n",
              "      <td>-0.013653</td>\n",
              "      <td>-0.011717</td>\n",
              "      <td>-0.008387</td>\n",
              "      <td>0.018408</td>\n",
              "    </tr>\n",
              "    <tr>\n",
              "      <th>3</th>\n",
              "      <td>1982</td>\n",
              "      <td>-0.026808</td>\n",
              "      <td>0.006910</td>\n",
              "      <td>0.023913</td>\n",
              "      <td>0.043764</td>\n",
              "      <td>0.036264</td>\n",
              "      <td>-0.002154</td>\n",
              "      <td>0.160463</td>\n",
              "      <td>0.036075</td>\n",
              "      <td>0.006133</td>\n",
              "      <td>-0.013548</td>\n",
              "      <td>-0.017190</td>\n",
              "      <td>-0.010999</td>\n",
              "      <td>-0.030540</td>\n",
              "    </tr>\n",
              "    <tr>\n",
              "      <th>4</th>\n",
              "      <td>1983</td>\n",
              "      <td>-0.026664</td>\n",
              "      <td>0.006928</td>\n",
              "      <td>0.024984</td>\n",
              "      <td>0.043749</td>\n",
              "      <td>0.036264</td>\n",
              "      <td>-0.004525</td>\n",
              "      <td>0.117886</td>\n",
              "      <td>0.036075</td>\n",
              "      <td>0.006104</td>\n",
              "      <td>-0.013418</td>\n",
              "      <td>-0.013617</td>\n",
              "      <td>-0.009446</td>\n",
              "      <td>-0.019536</td>\n",
              "    </tr>\n",
              "  </tbody>\n",
              "</table>\n",
              "</div>"
            ],
            "text/plain": [
              "  Data Year - Fiscal  Tobin's Q       EPS  Liquidity  Profitability  \\\n",
              "0               1979  -0.026975  0.007306   0.024572       0.043823   \n",
              "1               1980  -0.026975  0.007229   0.024572       0.043838   \n",
              "2               1981  -0.027097  0.006728   0.024243       0.043749   \n",
              "3               1982  -0.026808  0.006910   0.023913       0.043764   \n",
              "4               1983  -0.026664  0.006928   0.024984       0.043749   \n",
              "\n",
              "   Productivity  Leverage Ratio  Asset Turnover  Operational Margin  \\\n",
              "0      0.037659       -0.000059        0.340233            0.036123   \n",
              "1      0.037380       -0.000138        0.255079            0.036123   \n",
              "2      0.036264       -0.001245        0.236155            0.036027   \n",
              "3      0.036264       -0.002154        0.160463            0.036075   \n",
              "4      0.036264       -0.004525        0.117886            0.036075   \n",
              "\n",
              "   Return on Equity  Market Book Ratio  Assets Growth  Sales Growth  \\\n",
              "0          0.006416          -0.013666      -0.016897     -0.010304   \n",
              "1          0.006359          -0.013658      -0.015120     -0.010220   \n",
              "2          0.006104          -0.013653      -0.011717     -0.008387   \n",
              "3          0.006133          -0.013548      -0.017190     -0.010999   \n",
              "4          0.006104          -0.013418      -0.013617     -0.009446   \n",
              "\n",
              "   Employee Growth  \n",
              "0        -0.023455  \n",
              "1        -0.020486  \n",
              "2         0.018408  \n",
              "3        -0.030540  \n",
              "4        -0.019536  "
            ]
          },
          "metadata": {
            "tags": []
          },
          "execution_count": 15
        }
      ]
    },
    {
      "cell_type": "markdown",
      "metadata": {
        "id": "P1MHbwkf_8JH",
        "colab_type": "text"
      },
      "source": [
        "## Seperate data into train and test"
      ]
    },
    {
      "cell_type": "code",
      "metadata": {
        "id": "JHursSmTABvS",
        "colab_type": "code",
        "outputId": "bde81d58-9a66-424b-b9e9-b7cbc66834ce",
        "colab": {
          "base_uri": "https://localhost:8080/"
        }
      },
      "source": [
        "sum(y)/len(y) # check the ratio of True in target"
      ],
      "execution_count": 0,
      "outputs": [
        {
          "output_type": "execute_result",
          "data": {
            "text/plain": [
              "0.00600826944611939"
            ]
          },
          "metadata": {
            "tags": []
          },
          "execution_count": 16
        }
      ]
    },
    {
      "cell_type": "code",
      "metadata": {
        "id": "46Y7CPRdVr0c",
        "colab_type": "code",
        "outputId": "93256192-c37c-4c1a-a93c-a1d6710c3a70",
        "colab": {
          "base_uri": "https://localhost:8080/",
          "height": 35
        }
      },
      "source": [
        "sum(y)"
      ],
      "execution_count": 0,
      "outputs": [
        {
          "output_type": "execute_result",
          "data": {
            "text/plain": [
              "558"
            ]
          },
          "metadata": {
            "tags": []
          },
          "execution_count": 28
        }
      ]
    },
    {
      "cell_type": "code",
      "metadata": {
        "id": "bIlfjPGrBwKg",
        "colab_type": "code",
        "outputId": "34540e74-7706-47c6-a7c2-526ec4edf9f9",
        "colab": {
          "base_uri": "https://localhost:8080/"
        }
      },
      "source": [
        "X.iloc[:,0:1].nunique()"
      ],
      "execution_count": 0,
      "outputs": [
        {
          "output_type": "execute_result",
          "data": {
            "text/plain": [
              "Data Year - Fiscal    39\n",
              "dtype: int64"
            ]
          },
          "metadata": {
            "tags": []
          },
          "execution_count": 17
        }
      ]
    },
    {
      "cell_type": "code",
      "metadata": {
        "id": "eiFU8VUkDVmE",
        "colab_type": "code",
        "colab": {}
      },
      "source": [
        "from sklearn.model_selection import train_test_split\n",
        "X_train_UN, X_test, y_train_UN, y_test = train_test_split(X, y, test_size=0.2, random_state=1028, stratify=y)"
      ],
      "execution_count": 0,
      "outputs": []
    },
    {
      "cell_type": "markdown",
      "metadata": {
        "id": "lK1dV0mEVgjz",
        "colab_type": "text"
      },
      "source": [
        "## Balance data"
      ]
    },
    {
      "cell_type": "code",
      "metadata": {
        "id": "hP1tbfXzVo9k",
        "colab_type": "code",
        "outputId": "4a8a90e7-73a3-45c8-aea5-215dd0cf4de9",
        "colab": {
          "base_uri": "https://localhost:8080/",
          "height": 73
        }
      },
      "source": [
        "from imblearn.over_sampling import SMOTE"
      ],
      "execution_count": 0,
      "outputs": [
        {
          "output_type": "stream",
          "text": [
            "/usr/local/lib/python3.6/dist-packages/sklearn/externals/six.py:31: DeprecationWarning: The module is deprecated in version 0.21 and will be removed in version 0.23 since we've dropped support for Python 2.7. Please rely on the official version of six (https://pypi.org/project/six/).\n",
            "  \"(https://pypi.org/project/six/).\", DeprecationWarning)\n"
          ],
          "name": "stderr"
        }
      ]
    },
    {
      "cell_type": "code",
      "metadata": {
        "id": "Aq-cZ1TyV3X0",
        "colab_type": "code",
        "outputId": "759e09a1-5a52-40e5-d026-8e2649bc67e0",
        "colab": {
          "base_uri": "https://localhost:8080/",
          "height": 35
        }
      },
      "source": [
        " sm = SMOTE(random_state=42)\n",
        "X_train, y_train = sm.fit_resample(X_train_UN, y_train_UN)\n",
        "sum(y_train)/len(y_train)"
      ],
      "execution_count": 0,
      "outputs": [
        {
          "output_type": "execute_result",
          "data": {
            "text/plain": [
              "0.5"
            ]
          },
          "metadata": {
            "tags": []
          },
          "execution_count": 20
        }
      ]
    },
    {
      "cell_type": "markdown",
      "metadata": {
        "id": "yl2hOeayVcrO",
        "colab_type": "text"
      },
      "source": [
        "## Build models"
      ]
    },
    {
      "cell_type": "code",
      "metadata": {
        "id": "7Ge3X0GbFslk",
        "colab_type": "code",
        "colab": {}
      },
      "source": [
        "from sklearn.metrics import accuracy_score, cohen_kappa_score, f1_score, log_loss,roc_auc_score,precision_score,recall_score\n",
        "def score_list(predicion,y_test=y_test):\n",
        "  '''this function will print Accurarcy, Kappa, F1 score, Log Loss and AUC'''\n",
        "  print('\\n ****************************')\n",
        "  print(\"Accuracy = {:.2f}\".format(accuracy_score(y_test, predicion)))\n",
        "  print(\"F1 Score = {:.2f}\".format(f1_score(y_test, predicion)))\n",
        "  print(\"AUC = {:.2f}\".format(roc_auc_score(y_test, predicion)))\n",
        "  print(\"Precision = {:.2f}\".format(precision_score(y_test, predicion)))\n",
        "  print(\"Recall = {:.2f}\".format(recall_score(y_test, predicion)))\n",
        "  print('**************************** \\n')"
      ],
      "execution_count": 0,
      "outputs": []
    },
    {
      "cell_type": "code",
      "metadata": {
        "id": "Y61doIhZF0E1",
        "colab_type": "code",
        "outputId": "b5005a8a-8225-40dd-df16-f400f80fe7f4",
        "colab": {
          "base_uri": "https://localhost:8080/",
          "height": 557
        }
      },
      "source": [
        "from sklearn.model_selection import GridSearchCV\n",
        "from sklearn.tree import DecisionTreeClassifier\n",
        "\n",
        "# build model using grid search with 5Fold Cross validation to train and test\n",
        "treeclf = DecisionTreeClassifier(splitter='best', presort=True, class_weight=None, random_state=42)\n",
        "parameters = {'criterion':('gini', 'entropy'), 'max_depth':[2, 4, 6, 8, 10], 'min_samples_split':[2, 10, 50], 'min_samples_leaf':[1, 5, 10],\n",
        "             'max_features':[None, 'auto'], 'max_leaf_nodes':[None, 5, 10, 50], 'min_impurity_decrease':[0, 0.1, 0.2]}\n",
        "cv_clf = GridSearchCV(treeclf, parameters, scoring='roc_auc', cv=5, return_train_score=True)\n",
        "cv_clf.fit(X_train, y_train)\n",
        "\n",
        "# predict on test data\n",
        "y_pred_dt_cv = cv_clf.predict(X_test)\n",
        "\n",
        "# print the score with the function defined myself\n",
        "score_list(y_pred_dt_cv)"
      ],
      "execution_count": 0,
      "outputs": [
        {
          "output_type": "execute_result",
          "data": {
            "text/plain": [
              "GridSearchCV(cv=5, error_score='raise-deprecating',\n",
              "             estimator=DecisionTreeClassifier(class_weight=None,\n",
              "                                              criterion='gini', max_depth=None,\n",
              "                                              max_features=None,\n",
              "                                              max_leaf_nodes=None,\n",
              "                                              min_impurity_decrease=0.0,\n",
              "                                              min_impurity_split=None,\n",
              "                                              min_samples_leaf=1,\n",
              "                                              min_samples_split=2,\n",
              "                                              min_weight_fraction_leaf=0.0,\n",
              "                                              presort=True, random_state=42,\n",
              "                                              splitter='best'),\n",
              "             iid='warn', n_jobs=None,\n",
              "             param_grid={'criterion': ('gini', 'entropy'),\n",
              "                         'max_depth': [2, 4, 6, 8, 10],\n",
              "                         'max_features': [None, 'auto'],\n",
              "                         'max_leaf_nodes': [None, 5, 10, 50],\n",
              "                         'min_impurity_decrease': [0, 0.1, 0.2],\n",
              "                         'min_samples_leaf': [1, 5, 10],\n",
              "                         'min_samples_split': [2, 10, 50]},\n",
              "             pre_dispatch='2*n_jobs', refit=True, return_train_score=True,\n",
              "             scoring='roc_auc', verbose=0)"
            ]
          },
          "metadata": {
            "tags": []
          },
          "execution_count": 22
        },
        {
          "output_type": "stream",
          "text": [
            "\n",
            " ****************************\n",
            "Accuracy = 0.93\n",
            "F1 Score = 0.11\n",
            "AUC = 0.83\n",
            "Precision = 0.06\n",
            "Recall = 0.72\n",
            "**************************** \n",
            "\n"
          ],
          "name": "stdout"
        }
      ]
    },
    {
      "cell_type": "code",
      "metadata": {
        "id": "3thJHbBcF3Dp",
        "colab_type": "code",
        "outputId": "88fe7be0-a33d-44ee-d02f-5649230b8169",
        "colab": {
          "base_uri": "https://localhost:8080/",
          "height": 269
        }
      },
      "source": [
        "from sklearn.naive_bayes import GaussianNB\n",
        "\n",
        "# build model using grid search with 5Fold Cross validation to train and test\n",
        "gnb = GaussianNB()\n",
        "parameters = {\"var_smoothing\":[1e-7,1e-8,1e-9,1e-10,1e-11]}\n",
        "cv_gnb = GridSearchCV(gnb, parameters, scoring='roc_auc', cv=5, return_train_score=True)\n",
        "cv_gnb.fit(X_train, y_train)\n",
        "\n",
        "# predict on test data\n",
        "y_pred_gnb_cv = cv_gnb.predict(X_test)\n",
        "\n",
        "# print the score with the function defined myself\n",
        "score_list(y_pred_gnb_cv)"
      ],
      "execution_count": 0,
      "outputs": [
        {
          "output_type": "execute_result",
          "data": {
            "text/plain": [
              "GridSearchCV(cv=5, error_score='raise-deprecating',\n",
              "             estimator=GaussianNB(priors=None, var_smoothing=1e-09), iid='warn',\n",
              "             n_jobs=None,\n",
              "             param_grid={'var_smoothing': [1e-07, 1e-08, 1e-09, 1e-10, 1e-11]},\n",
              "             pre_dispatch='2*n_jobs', refit=True, return_train_score=True,\n",
              "             scoring='roc_auc', verbose=0)"
            ]
          },
          "metadata": {
            "tags": []
          },
          "execution_count": 23
        },
        {
          "output_type": "stream",
          "text": [
            "\n",
            " ****************************\n",
            "Accuracy = 0.09\n",
            "F1 Score = 0.01\n",
            "AUC = 0.50\n",
            "Precision = 0.01\n",
            "Recall = 0.91\n",
            "**************************** \n",
            "\n"
          ],
          "name": "stdout"
        }
      ]
    },
    {
      "cell_type": "code",
      "metadata": {
        "id": "uhMz9MvZHFPF",
        "colab_type": "code",
        "outputId": "e4d36635-8397-4f8d-f536-81ded7a80054",
        "colab": {
          "base_uri": "https://localhost:8080/",
          "height": 323
        }
      },
      "source": [
        "from sklearn.neighbors import KNeighborsClassifier\n",
        "\n",
        "\n",
        "# build model using grid search with 5Fold Cross validation to train and test\n",
        "knn_clf = KNeighborsClassifier()\n",
        "parameters = {\"n_neighbors\":range(2,11)}\n",
        "cv_knn_clf = GridSearchCV(knn_clf, parameters, scoring='roc_auc', cv=5, return_train_score=True)\n",
        "cv_knn_clf.fit(X_train, y_train)\n",
        "\n",
        "# predict on test data\n",
        "y_pred_knn_clf_cv = cv_knn_clf.predict(X_test)\n",
        "\n",
        "# print the score with the function defined myself\n",
        "score_list(y_pred_knn_clf_cv)"
      ],
      "execution_count": 0,
      "outputs": [
        {
          "output_type": "execute_result",
          "data": {
            "text/plain": [
              "GridSearchCV(cv=5, error_score='raise-deprecating',\n",
              "             estimator=KNeighborsClassifier(algorithm='auto', leaf_size=30,\n",
              "                                            metric='minkowski',\n",
              "                                            metric_params=None, n_jobs=None,\n",
              "                                            n_neighbors=5, p=2,\n",
              "                                            weights='uniform'),\n",
              "             iid='warn', n_jobs=None, param_grid={'n_neighbors': range(2, 11)},\n",
              "             pre_dispatch='2*n_jobs', refit=True, return_train_score=True,\n",
              "             scoring='roc_auc', verbose=0)"
            ]
          },
          "metadata": {
            "tags": []
          },
          "execution_count": 24
        },
        {
          "output_type": "stream",
          "text": [
            "\n",
            " ****************************\n",
            "Accuracy = 0.94\n",
            "F1 Score = 0.06\n",
            "AUC = 0.62\n",
            "Precision = 0.03\n",
            "Recall = 0.29\n",
            "**************************** \n",
            "\n"
          ],
          "name": "stdout"
        }
      ]
    },
    {
      "cell_type": "code",
      "metadata": {
        "id": "bVfVh-gpHI7n",
        "colab_type": "code",
        "outputId": "545dd8a2-a5e4-4b66-d6a4-47ffe01bb301",
        "colab": {
          "base_uri": "https://localhost:8080/",
          "height": 503
        }
      },
      "source": [
        "from sklearn.neural_network import MLPClassifier\n",
        "\n",
        "\n",
        "# build model using grid search with 5Fold Cross validation to train and test\n",
        "nn_clf = MLPClassifier(solver='lbfgs',random_state=1, verbose=False)\n",
        "parameters = {'activation':['logistic','tanh','relu'],'alpha':[0.001,0.003,0.01,0.03,0.1,0.3,1,3],'hidden_layer_sizes':range(2,11)}\n",
        "cv_nn_clf = GridSearchCV(nn_clf, parameters, scoring='roc_auc', cv=5, return_train_score=False)\n",
        "cv_nn_clf.fit(X_train, y_train)\n",
        "\n",
        "# predict on test data\n",
        "y_pred_nn_clf_cv = cv_nn_clf.predict(X_test)\n",
        "\n",
        "# print the score with the function defined myself\n",
        "score_list(y_pred_nn_clf_cv)"
      ],
      "execution_count": 0,
      "outputs": [
        {
          "output_type": "execute_result",
          "data": {
            "text/plain": [
              "GridSearchCV(cv=5, error_score='raise-deprecating',\n",
              "             estimator=MLPClassifier(activation='relu', alpha=0.0001,\n",
              "                                     batch_size='auto', beta_1=0.9,\n",
              "                                     beta_2=0.999, early_stopping=False,\n",
              "                                     epsilon=1e-08, hidden_layer_sizes=(100,),\n",
              "                                     learning_rate='constant',\n",
              "                                     learning_rate_init=0.001, max_iter=200,\n",
              "                                     momentum=0.9, n_iter_no_change=10,\n",
              "                                     nesterovs_momentum=True, power_t=0.5,\n",
              "                                     random_state=1, shuffle=True,\n",
              "                                     solver='lbfgs', tol=0.0001,\n",
              "                                     validation_fraction=0.1, verbose=False,\n",
              "                                     warm_start=False),\n",
              "             iid='warn', n_jobs=None,\n",
              "             param_grid={'activation': ['logistic', 'tanh', 'relu'],\n",
              "                         'alpha': [0.001, 0.003, 0.01, 0.03, 0.1, 0.3, 1, 3],\n",
              "                         'hidden_layer_sizes': range(2, 11)},\n",
              "             pre_dispatch='2*n_jobs', refit=True, return_train_score=False,\n",
              "             scoring='roc_auc', verbose=0)"
            ]
          },
          "metadata": {
            "tags": []
          },
          "execution_count": 25
        },
        {
          "output_type": "stream",
          "text": [
            "\n",
            " ****************************\n",
            "Accuracy = 0.69\n",
            "F1 Score = 0.02\n",
            "AUC = 0.60\n",
            "Precision = 0.01\n",
            "Recall = 0.50\n",
            "**************************** \n",
            "\n"
          ],
          "name": "stdout"
        }
      ]
    },
    {
      "cell_type": "code",
      "metadata": {
        "id": "A0TqxzuxHLbj",
        "colab_type": "code",
        "outputId": "c6c4c961-13a8-41c9-ca64-ffabda4a2295",
        "colab": {
          "base_uri": "https://localhost:8080/",
          "height": 503
        }
      },
      "source": [
        "from sklearn.ensemble import RandomForestClassifier\n",
        "\n",
        "\n",
        "# build model using grid search with 5Fold Cross validation to train and test\n",
        "rf_clf = RandomForestClassifier(random_state=1120)\n",
        "parameters = {\"n_estimators\":[50,100,200,300],'max_depth':[2,5,8,11]}\n",
        "cv_rf_clf = GridSearchCV(rf_clf, parameters, scoring='roc_auc', cv=5, return_train_score=False)\n",
        "cv_rf_clf.fit(X_train, y_train)\n",
        "\n",
        "# predict on test data\n",
        "y_pred_rf_clf_cv = cv_rf_clf.predict(X_test)\n",
        "\n",
        "# print the score with the function defined myself\n",
        "score_list(y_pred_rf_clf_cv)"
      ],
      "execution_count": 0,
      "outputs": [
        {
          "output_type": "execute_result",
          "data": {
            "text/plain": [
              "GridSearchCV(cv=5, error_score='raise-deprecating',\n",
              "             estimator=RandomForestClassifier(bootstrap=True, class_weight=None,\n",
              "                                              criterion='gini', max_depth=None,\n",
              "                                              max_features='auto',\n",
              "                                              max_leaf_nodes=None,\n",
              "                                              min_impurity_decrease=0.0,\n",
              "                                              min_impurity_split=None,\n",
              "                                              min_samples_leaf=1,\n",
              "                                              min_samples_split=2,\n",
              "                                              min_weight_fraction_leaf=0.0,\n",
              "                                              n_estimators='warn', n_jobs=None,\n",
              "                                              oob_score=False,\n",
              "                                              random_state=1120, verbose=0,\n",
              "                                              warm_start=False),\n",
              "             iid='warn', n_jobs=None,\n",
              "             param_grid={'max_depth': [2, 5, 8, 11],\n",
              "                         'n_estimators': [50, 100, 200, 300]},\n",
              "             pre_dispatch='2*n_jobs', refit=True, return_train_score=False,\n",
              "             scoring='roc_auc', verbose=0)"
            ]
          },
          "metadata": {
            "tags": []
          },
          "execution_count": 26
        },
        {
          "output_type": "stream",
          "text": [
            "\n",
            " ****************************\n",
            "Accuracy = 0.95\n",
            "F1 Score = 0.16\n",
            "AUC = 0.83\n",
            "Precision = 0.09\n",
            "Recall = 0.71\n",
            "**************************** \n",
            "\n"
          ],
          "name": "stdout"
        }
      ]
    },
    {
      "cell_type": "markdown",
      "metadata": {
        "id": "uKXEkR2z2AEZ",
        "colab_type": "text"
      },
      "source": [
        "## Model result"
      ]
    },
    {
      "cell_type": "code",
      "metadata": {
        "id": "7Mv1rLNCHNRA",
        "colab_type": "code",
        "outputId": "6a13f98d-df6a-4665-8010-3e5ca54e020d",
        "colab": {
          "base_uri": "https://localhost:8080/",
          "height": 204
        }
      },
      "source": [
        "dict_score={}\n",
        "for i in [accuracy_score, f1_score,roc_auc_score,precision_score,recall_score]:\n",
        "  dict_score[i.__name__]=[]\n",
        "  for k in [y_pred_dt_cv,y_pred_gnb_cv,y_pred_knn_clf_cv,y_pred_nn_clf_cv,y_pred_rf_clf_cv]:\n",
        "    dict_score[i.__name__].append(round(i(y_test,k),3))\n",
        "\n",
        "df8_6=pd.DataFrame(dict_score,index=['Decision Trees','Naive Bayes','k-nearest neighbors','neural network','random forest'])\n",
        "df8_6.sort_values('roc_auc_score',ascending=False)"
      ],
      "execution_count": 0,
      "outputs": [
        {
          "output_type": "execute_result",
          "data": {
            "text/html": [
              "<div>\n",
              "<style scoped>\n",
              "    .dataframe tbody tr th:only-of-type {\n",
              "        vertical-align: middle;\n",
              "    }\n",
              "\n",
              "    .dataframe tbody tr th {\n",
              "        vertical-align: top;\n",
              "    }\n",
              "\n",
              "    .dataframe thead th {\n",
              "        text-align: right;\n",
              "    }\n",
              "</style>\n",
              "<table border=\"1\" class=\"dataframe\">\n",
              "  <thead>\n",
              "    <tr style=\"text-align: right;\">\n",
              "      <th></th>\n",
              "      <th>accuracy_score</th>\n",
              "      <th>f1_score</th>\n",
              "      <th>roc_auc_score</th>\n",
              "      <th>precision_score</th>\n",
              "      <th>recall_score</th>\n",
              "    </tr>\n",
              "  </thead>\n",
              "  <tbody>\n",
              "    <tr>\n",
              "      <th>random forest</th>\n",
              "      <td>0.954</td>\n",
              "      <td>0.155</td>\n",
              "      <td>0.830</td>\n",
              "      <td>0.087</td>\n",
              "      <td>0.705</td>\n",
              "    </tr>\n",
              "    <tr>\n",
              "      <th>Decision Trees</th>\n",
              "      <td>0.931</td>\n",
              "      <td>0.112</td>\n",
              "      <td>0.828</td>\n",
              "      <td>0.061</td>\n",
              "      <td>0.723</td>\n",
              "    </tr>\n",
              "    <tr>\n",
              "      <th>k-nearest neighbors</th>\n",
              "      <td>0.943</td>\n",
              "      <td>0.057</td>\n",
              "      <td>0.617</td>\n",
              "      <td>0.032</td>\n",
              "      <td>0.286</td>\n",
              "    </tr>\n",
              "    <tr>\n",
              "      <th>neural network</th>\n",
              "      <td>0.689</td>\n",
              "      <td>0.019</td>\n",
              "      <td>0.595</td>\n",
              "      <td>0.010</td>\n",
              "      <td>0.500</td>\n",
              "    </tr>\n",
              "    <tr>\n",
              "      <th>Naive Bayes</th>\n",
              "      <td>0.092</td>\n",
              "      <td>0.012</td>\n",
              "      <td>0.499</td>\n",
              "      <td>0.006</td>\n",
              "      <td>0.911</td>\n",
              "    </tr>\n",
              "  </tbody>\n",
              "</table>\n",
              "</div>"
            ],
            "text/plain": [
              "                     accuracy_score  f1_score  roc_auc_score  precision_score  \\\n",
              "random forest                 0.954     0.155          0.830            0.087   \n",
              "Decision Trees                0.931     0.112          0.828            0.061   \n",
              "k-nearest neighbors           0.943     0.057          0.617            0.032   \n",
              "neural network                0.689     0.019          0.595            0.010   \n",
              "Naive Bayes                   0.092     0.012          0.499            0.006   \n",
              "\n",
              "                     recall_score  \n",
              "random forest               0.705  \n",
              "Decision Trees              0.723  \n",
              "k-nearest neighbors         0.286  \n",
              "neural network              0.500  \n",
              "Naive Bayes                 0.911  "
            ]
          },
          "metadata": {
            "tags": []
          },
          "execution_count": 27
        }
      ]
    },
    {
      "cell_type": "code",
      "metadata": {
        "id": "XTj5RZ5XX4Jb",
        "colab_type": "code",
        "colab": {}
      },
      "source": [
        ""
      ],
      "execution_count": 0,
      "outputs": []
    }
  ]
}